{
 "cells": [
  {
   "cell_type": "code",
   "execution_count": 7,
   "metadata": {},
   "outputs": [],
   "source": [
    "def maximum_subarray(S):\n",
    "    if not S:\n",
    "        return 0  \n",
    "\n",
    "    \n",
    "    max_sum = S[0]\n",
    "    current_sum = S[0]\n",
    "    print(f\"Initial max_sum: {max_sum}, current_sum: {current_sum}\")\n",
    "    \n",
    "    for i in range(1, len(S)):\n",
    "        current_element=S[i]\n",
    "        current_sum = max(S[i], current_sum + S[i]) \n",
    "        max_sum = max(max_sum, current_sum) \n",
    "        print(f\"Iteration {i}:\")\n",
    "        print(f\"  Current Element: {current_element}\")\n",
    "        print(f\"  Previous current_sum: {current_sum - current_element} (if added to previous current_sum)\")\n",
    "        print(f\"  New current_sum: {current_sum}\")\n",
    "        print(f\"  Updated max_sum: {max_sum}\\n\")\n",
    "    return max_sum"
   ]
  },
  {
   "cell_type": "code",
   "execution_count": 8,
   "metadata": {},
   "outputs": [
    {
     "name": "stdout",
     "output_type": "stream",
     "text": [
      "Initial max_sum: -2, current_sum: -2\n",
      "Iteration 1:\n",
      "  Current Element: 1\n",
      "  Previous current_sum: 0 (if added to previous current_sum)\n",
      "  New current_sum: 1\n",
      "  Updated max_sum: 1\n",
      "\n",
      "Iteration 2:\n",
      "  Current Element: -3\n",
      "  Previous current_sum: 1 (if added to previous current_sum)\n",
      "  New current_sum: -2\n",
      "  Updated max_sum: 1\n",
      "\n",
      "Iteration 3:\n",
      "  Current Element: 4\n",
      "  Previous current_sum: 0 (if added to previous current_sum)\n",
      "  New current_sum: 4\n",
      "  Updated max_sum: 4\n",
      "\n",
      "Iteration 4:\n",
      "  Current Element: -1\n",
      "  Previous current_sum: 4 (if added to previous current_sum)\n",
      "  New current_sum: 3\n",
      "  Updated max_sum: 4\n",
      "\n",
      "Iteration 5:\n",
      "  Current Element: 2\n",
      "  Previous current_sum: 3 (if added to previous current_sum)\n",
      "  New current_sum: 5\n",
      "  Updated max_sum: 5\n",
      "\n",
      "Iteration 6:\n",
      "  Current Element: 1\n",
      "  Previous current_sum: 5 (if added to previous current_sum)\n",
      "  New current_sum: 6\n",
      "  Updated max_sum: 6\n",
      "\n",
      "Iteration 7:\n",
      "  Current Element: -5\n",
      "  Previous current_sum: 6 (if added to previous current_sum)\n",
      "  New current_sum: 1\n",
      "  Updated max_sum: 6\n",
      "\n",
      "Iteration 8:\n",
      "  Current Element: 4\n",
      "  Previous current_sum: 1 (if added to previous current_sum)\n",
      "  New current_sum: 5\n",
      "  Updated max_sum: 6\n",
      "\n",
      "6\n"
     ]
    }
   ],
   "source": [
    "S=[-2,1,-3,4,-1,2,1,-5,4]\n",
    "M=maximum_subarray(S)\n",
    "print(M)"
   ]
  }
 ],
 "metadata": {
  "kernelspec": {
   "display_name": "Python 3",
   "language": "python",
   "name": "python3"
  },
  "language_info": {
   "codemirror_mode": {
    "name": "ipython",
    "version": 3
   },
   "file_extension": ".py",
   "mimetype": "text/x-python",
   "name": "python",
   "nbconvert_exporter": "python",
   "pygments_lexer": "ipython3",
   "version": "3.11.3"
  }
 },
 "nbformat": 4,
 "nbformat_minor": 2
}
