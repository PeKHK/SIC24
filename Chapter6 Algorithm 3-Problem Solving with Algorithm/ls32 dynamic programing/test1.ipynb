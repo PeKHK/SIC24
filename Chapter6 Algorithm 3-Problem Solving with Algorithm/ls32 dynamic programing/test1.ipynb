{
 "cells": [
  {
   "cell_type": "code",
   "execution_count": 6,
   "metadata": {},
   "outputs": [],
   "source": [
    "#calculate fibonacii use recursive\n",
    "def fib1(n):\n",
    "    if n==0 or n==1:#end of recursion\n",
    "        return n\n",
    "    else:\n",
    "        return fib1(n-1)+fib1(n-2)#send sum of recursion\n"
   ]
  },
  {
   "cell_type": "code",
   "execution_count": 2,
   "metadata": {},
   "outputs": [
    {
     "name": "stdout",
     "output_type": "stream",
     "text": [
      "55\n"
     ]
    }
   ],
   "source": [
    "n=10\n",
    "print(fib1(n))"
   ]
  },
  {
   "cell_type": "code",
   "execution_count": 5,
   "metadata": {},
   "outputs": [],
   "source": [
    "#calculate fibonacii  memoization\n",
    "F={0:0,1:1}#dictionary\n",
    "def fib2(n):\n",
    "    if n in F:#end of recursion\n",
    "        return F[n]\n",
    "    else:#if n not in F calculate next \n",
    "        F[n]=fib2(n-1)+fib2(n-2)#value was calculated get in F[n] for not calculate again\n",
    "        return  F[n]"
   ]
  },
  {
   "cell_type": "code",
   "execution_count": 4,
   "metadata": {},
   "outputs": [
    {
     "name": "stdout",
     "output_type": "stream",
     "text": [
      "55\n"
     ]
    }
   ],
   "source": [
    "n=10\n",
    "print(fib2(n))"
   ]
  },
  {
   "cell_type": "code",
   "execution_count": 7,
   "metadata": {},
   "outputs": [],
   "source": [
    "#calculate fibonacii  memoization use list\n",
    "\n",
    "def fib3(F,n):\n",
    "    if n <= 1:#end of recursion\n",
    "        return F[n]\n",
    "    else:\n",
    "        if F[n]<0: \n",
    "            F[n]=fib3(F,n-1)+fib3(F,n-2)\n",
    "        return  F[n]"
   ]
  },
  {
   "cell_type": "code",
   "execution_count": 9,
   "metadata": {},
   "outputs": [
    {
     "name": "stdout",
     "output_type": "stream",
     "text": [
      "55\n"
     ]
    }
   ],
   "source": [
    "n=10\n",
    "F=[0,1]+[-1]*(n-1)\n",
    "print(fib3(F,n))"
   ]
  },
  {
   "cell_type": "code",
   "execution_count": 10,
   "metadata": {},
   "outputs": [],
   "source": [
    "#solving pascal triangle\n",
    "#use recrsive binomail,bin(n,k)\n",
    "def bin1(n,k):\n",
    "    if k==0 or n==k:#end of recursion\n",
    "        return 1\n",
    "    else:\n",
    "        return bin1(n-1,k-1)+bin1(n-1,k)"
   ]
  },
  {
   "cell_type": "code",
   "execution_count": 11,
   "metadata": {},
   "outputs": [
    {
     "name": "stdout",
     "output_type": "stream",
     "text": [
      "biomail(5,3) is 10\n"
     ]
    }
   ],
   "source": [
    "n=5\n",
    "k=3\n",
    "print(f\"biomail({n},{k}) is {bin1(n,k)}\")"
   ]
  },
  {
   "cell_type": "code",
   "execution_count": 34,
   "metadata": {},
   "outputs": [],
   "source": [
    "#solving pascal triangle\n",
    "#use dynamic programing, recursion bottom-up loop\n",
    "def bin2(n,k):\n",
    "    B=[[0]*(i+1)for i in range(n+1)]\n",
    "    for i in range(n+1):\n",
    "        for j in range(i+1):\n",
    "            if j == 0 or j == i:\n",
    "                B[i][j]=1\n",
    "            else:\n",
    "                B[i][j]=B[i-1][j-1]+B[i-1][j]\n",
    "            print((i,j),end=\" \")\n",
    "        print()\n",
    "    return B[n][k]\n"
   ]
  },
  {
   "cell_type": "code",
   "execution_count": 40,
   "metadata": {},
   "outputs": [
    {
     "name": "stdout",
     "output_type": "stream",
     "text": [
      "(0, 0) \n",
      "(1, 0) (1, 1) \n",
      "(2, 0) (2, 1) (2, 2) \n",
      "(3, 0) (3, 1) (3, 2) (3, 3) \n",
      "(4, 0) (4, 1) (4, 2) (4, 3) (4, 4) \n",
      "(5, 0) (5, 1) (5, 2) (5, 3) (5, 4) (5, 5) \n",
      "biomail(5,3) is 10\n"
     ]
    }
   ],
   "source": [
    "n=5\n",
    "k=3\n",
    "print(f\"biomail({n},{k}) is {bin2(n,k)}\")"
   ]
  }
 ],
 "metadata": {
  "kernelspec": {
   "display_name": "Python 3",
   "language": "python",
   "name": "python3"
  },
  "language_info": {
   "codemirror_mode": {
    "name": "ipython",
    "version": 3
   },
   "file_extension": ".py",
   "mimetype": "text/x-python",
   "name": "python",
   "nbconvert_exporter": "python",
   "pygments_lexer": "ipython3",
   "version": "3.11.3"
  }
 },
 "nbformat": 4,
 "nbformat_minor": 2
}
