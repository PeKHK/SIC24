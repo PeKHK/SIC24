{
 "cells": [
  {
   "cell_type": "code",
   "execution_count": 1,
   "metadata": {},
   "outputs": [],
   "source": [
    "coin=[[1],[2],[3],[4],[5],[6],[7],[8]]\n",
    "def bin_search2(nums,x,low,high):\n",
    "    if low>high:\n",
    "        return-1\n",
    "    else:\n",
    "        mid=(low+high)//2\n",
    "        if nums[mid]==x:\n",
    "            return mid\n",
    "        elif nums[mid]>x:\n",
    "            return bin_search2(nums,x,low,mid-1)\n",
    "        else:\n",
    "            return bin_search2(nums,x,mid+1,high)\n"
   ]
  }
 ],
 "metadata": {
  "kernelspec": {
   "display_name": "Python 3",
   "language": "python",
   "name": "python3"
  },
  "language_info": {
   "codemirror_mode": {
    "name": "ipython",
    "version": 3
   },
   "file_extension": ".py",
   "mimetype": "text/x-python",
   "name": "python",
   "nbconvert_exporter": "python",
   "pygments_lexer": "ipython3",
   "version": "3.11.3"
  }
 },
 "nbformat": 4,
 "nbformat_minor": 2
}
