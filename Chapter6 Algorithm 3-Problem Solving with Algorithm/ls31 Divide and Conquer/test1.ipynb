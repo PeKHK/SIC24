{
 "cells": [
  {
   "cell_type": "code",
   "execution_count": 3,
   "metadata": {},
   "outputs": [
    {
     "name": "stdout",
     "output_type": "stream",
     "text": [
      "the minimum cost is 11\n"
     ]
    }
   ],
   "source": [
    "#find the way in triangle\n",
    "def find_minimum(row,col,triangle):\n",
    "    if row == len(triangle):#if we len to lowest row this program return 0\n",
    "        return 0\n",
    "    else:\n",
    "        minimum=min(find_minimum(row+1,col,triangle),#if not lowest row choose the smallest number and go next lower row and right lower row\n",
    "                    find_minimum(row+1,col+1,triangle))\n",
    "        return triangle[row][col]+minimum\n",
    "triangle=[\n",
    "    [2],\n",
    "    [3,4],\n",
    "    [6,5,7],\n",
    "    [4,1,8,3]\n",
    "]\n",
    "minimum=find_minimum(0,0,triangle)\n",
    "print(\"the minimum cost is\",minimum)"
   ]
  },
  {
   "cell_type": "code",
   "execution_count": null,
   "metadata": {},
   "outputs": [],
   "source": [
    "#divide and conquer is cut an half to minimum and compare"
   ]
  },
  {
   "cell_type": "code",
   "execution_count": 1,
   "metadata": {},
   "outputs": [],
   "source": [
    "#divide and conquer binary search\n",
    "def bin_search(nums,x):\n",
    "    low,high=0,len(nums)-1\n",
    "    while low <= high:\n",
    "        mid=(low+high)//2\n",
    "        if nums[mid]==x:\n",
    "            high=mid-1\n",
    "        elif nums[mid]>x:\n",
    "            high=mid-1\n",
    "        else:\n",
    "            low=mid+1     \n",
    "    return -1 \n"
   ]
  },
  {
   "cell_type": "code",
   "execution_count": 2,
   "metadata": {},
   "outputs": [],
   "source": [
    "def bin_search2(nums,x,low,high):#recursive\n",
    "    if low>high:\n",
    "        return-1\n",
    "    else:\n",
    "        mid=(low+high)//2\n",
    "        if nums[mid]==x:\n",
    "            return mid\n",
    "        elif nums[mid]>x:\n",
    "            return bin_search2(nums,x,low,mid-1)\n",
    "        else:\n",
    "            return bin_search2(nums,x,mid+1,high)"
   ]
  }
 ],
 "metadata": {
  "kernelspec": {
   "display_name": "Python 3",
   "language": "python",
   "name": "python3"
  },
  "language_info": {
   "codemirror_mode": {
    "name": "ipython",
    "version": 3
   },
   "file_extension": ".py",
   "mimetype": "text/x-python",
   "name": "python",
   "nbconvert_exporter": "python",
   "pygments_lexer": "ipython3",
   "version": "3.11.3"
  }
 },
 "nbformat": 4,
 "nbformat_minor": 2
}
