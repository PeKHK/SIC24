{
 "cells": [
  {
   "cell_type": "code",
   "execution_count": null,
   "metadata": {},
   "outputs": [],
   "source": [
    "#greedy is tecniuq find the best of the best method"
   ]
  },
  {
   "cell_type": "code",
   "execution_count": 2,
   "metadata": {},
   "outputs": [],
   "source": [
    "#solve find the activity\n",
    "def activity_selection1(start,finish):\n",
    "    result=[]\n",
    "    i=0\n",
    "    result.append(i)\n",
    "    for j in range(1,len(start)):\n",
    "        if finish[i]<=start[j]:\n",
    "            result.append(j)\n",
    "            i=j\n",
    "    return result"
   ]
  },
  {
   "cell_type": "code",
   "execution_count": 3,
   "metadata": {},
   "outputs": [
    {
     "name": "stdout",
     "output_type": "stream",
     "text": [
      "[0, 1, 4, 5] 4\n"
     ]
    }
   ],
   "source": [
    "start=[1,3,2,0,5,8,5]\n",
    "finish=[2,4,5,6,6,9,9]\n",
    "meetings=activity_selection1(start,finish)\n",
    "maximum=len(meetings)\n",
    "print(meetings,maximum)"
   ]
  },
  {
   "cell_type": "code",
   "execution_count": null,
   "metadata": {},
   "outputs": [],
   "source": [
    "#desigh greedy algorithm \n",
    "#pseudo code exchange coin\n",
    "'''\n",
    "while(there are moere coins and the problem is not solved){\n",
    "    grab the largest remaining coin;\n",
    "    if(adding the coin doesn't make the change exceed the amount owed)\n",
    "        add the coin to the change\n",
    "    if(the total value of the change equals the amount owed)\n",
    "        the problem is solved\n",
    "}\n",
    "'''"
   ]
  },
  {
   "cell_type": "code",
   "execution_count": 35,
   "metadata": {},
   "outputs": [],
   "source": [
    "#code exchange coin by greedy\n",
    "def coin_change(coins,amount):\n",
    "    changes=[]\n",
    "    largest=0\n",
    "    a=0\n",
    "    while amount > 0:\n",
    "        a+=1 \n",
    "        if amount < coins[largest]:\n",
    "            largest += 1\n",
    "        else:\n",
    "            changes.append(coins[largest])\n",
    "            amount -= coins[largest]\n",
    "        print(f\"loop={a},changes={changes}\")  \n",
    "    return changes"
   ]
  },
  {
   "cell_type": "code",
   "execution_count": 36,
   "metadata": {},
   "outputs": [
    {
     "name": "stdout",
     "output_type": "stream",
     "text": [
      "loop=1,changes=[500]\n",
      "loop=2,changes=[500]\n",
      "loop=3,changes=[500, 100]\n",
      "loop=4,changes=[500, 100, 100]\n",
      "loop=5,changes=[500, 100, 100, 100]\n",
      "loop=6,changes=[500, 100, 100, 100]\n",
      "loop=7,changes=[500, 100, 100, 100, 50]\n",
      "loop=8,changes=[500, 100, 100, 100, 50]\n",
      "loop=9,changes=[500, 100, 100, 100, 50, 10]\n",
      "loop=10,changes=[500, 100, 100, 100, 50, 10, 10]\n",
      "[500, 100, 100, 100, 50, 10, 10] 7\n"
     ]
    }
   ],
   "source": [
    "coins=[500,100,50,10]\n",
    "amount=870\n",
    "changes=coin_change(coins,amount)\n",
    "print(changes,len(changes))"
   ]
  }
 ],
 "metadata": {
  "kernelspec": {
   "display_name": "Python 3",
   "language": "python",
   "name": "python3"
  },
  "language_info": {
   "codemirror_mode": {
    "name": "ipython",
    "version": 3
   },
   "file_extension": ".py",
   "mimetype": "text/x-python",
   "name": "python",
   "nbconvert_exporter": "python",
   "pygments_lexer": "ipython3",
   "version": "3.11.3"
  }
 },
 "nbformat": 4,
 "nbformat_minor": 2
}
