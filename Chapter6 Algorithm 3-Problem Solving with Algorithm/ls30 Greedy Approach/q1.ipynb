{
 "cells": [
  {
   "cell_type": "code",
   "execution_count": 15,
   "metadata": {},
   "outputs": [
    {
     "name": "stdout",
     "output_type": "stream",
     "text": [
      "loop=0,changes=[500]\n",
      "loop=0,changes=[500]\n",
      "loop=0,changes=[500]\n",
      "loop=0,changes=[500, 100]\n",
      "loop=0,changes=[500, 100, 100]\n",
      "loop=0,changes=[500, 100, 100, 100]\n",
      "[500, 100, 100, 100] 4\n"
     ]
    }
   ],
   "source": [
    "def coin_change(coins,amount):\n",
    "    coins=sorted(coins,reverse=True)\n",
    "    changes=[]\n",
    "    largest=0\n",
    "    a=0\n",
    "    while amount > 0:       \n",
    "        if largest<len(coins) and coins[largest]<=amount:\n",
    "            changes.append(coins[largest])\n",
    "            amount -= coins[largest]\n",
    "        else:\n",
    "            largest += 1\n",
    "        print(f\"loop={a},changes={changes}\")  \n",
    "    return changes\n",
    "coins=[500,400,100,50,10]\n",
    "amount=800\n",
    "changes=coin_change(coins,amount)\n",
    "print(changes,len(changes))"
   ]
  },
  {
   "cell_type": "code",
   "execution_count": 2,
   "metadata": {},
   "outputs": [
    {
     "name": "stdout",
     "output_type": "stream",
     "text": [
      "[500, 100, 100, 100] 4\n"
     ]
    }
   ],
   "source": [
    "def coin_change(coins,amount):\n",
    "    coins.sort(reverse=True)\n",
    "    changes=[]\n",
    "    a=0\n",
    "    for coin in coins:\n",
    "        while amount >= coin:\n",
    "            changes.append(coin)\n",
    "            amount-=coin \n",
    "    return changes\n",
    "coins=[500,400,100,50,10]\n",
    "amount=800\n",
    "changes=coin_change(coins,amount)\n",
    "print(changes,len(changes))"
   ]
  },
  {
   "cell_type": "code",
   "execution_count": null,
   "metadata": {},
   "outputs": [],
   "source": []
  }
 ],
 "metadata": {
  "kernelspec": {
   "display_name": "Python 3",
   "language": "python",
   "name": "python3"
  },
  "language_info": {
   "codemirror_mode": {
    "name": "ipython",
    "version": 3
   },
   "file_extension": ".py",
   "mimetype": "text/x-python",
   "name": "python",
   "nbconvert_exporter": "python",
   "pygments_lexer": "ipython3",
   "version": "3.11.3"
  }
 },
 "nbformat": 4,
 "nbformat_minor": 2
}
