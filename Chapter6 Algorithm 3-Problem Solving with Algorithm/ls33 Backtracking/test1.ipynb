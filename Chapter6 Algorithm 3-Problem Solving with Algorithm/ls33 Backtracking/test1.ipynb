{
 "cells": [
  {
   "cell_type": "code",
   "execution_count": 5,
   "metadata": {},
   "outputs": [
    {
     "name": "stdout",
     "output_type": "stream",
     "text": [
      "[0, 2, 4, 1, 3]\n",
      "[0, 3, 1, 4, 2]\n",
      "[1, 3, 0, 2, 4]\n",
      "[1, 4, 2, 0, 3]\n",
      "[2, 0, 3, 1, 4]\n",
      "[2, 4, 1, 3, 0]\n",
      "[3, 0, 2, 4, 1]\n",
      "[3, 1, 4, 2, 0]\n",
      "[4, 1, 3, 0, 2]\n",
      "[4, 2, 0, 3, 1]\n"
     ]
    }
   ],
   "source": [
    "#n queen problem\n",
    "def n_queens(i,col):\n",
    "    if promissing(i,col):\n",
    "        if i==len(col)-1:\n",
    "            print(col)\n",
    "        else:\n",
    "            for j in range(len(col)):\n",
    "                col[i+1]=j\n",
    "                n_queens(i+1,col)\n",
    "def promissing(i,col):\n",
    "    for k in range(i):\n",
    "        if col[i] == col[k] or abs(col[i] - col[k])==(i-k):\n",
    "            return False\n",
    "    return True\n",
    "\n",
    "N=5\n",
    "n_queens(-1,[-1]*N)"
   ]
  },
  {
   "cell_type": "code",
   "execution_count": 9,
   "metadata": {},
   "outputs": [
    {
     "name": "stdout",
     "output_type": "stream",
     "text": [
      "0 0 1 1 0 0 0 0 1 1\n",
      "1 0 0 0 1 1 1 0 1 1\n",
      "1 1 1 0 1 1 1 0 0 0\n",
      "1 0 0 0 0 1 0 0 1 1\n",
      "1 0 1 1 0 1 1 1 1 1\n",
      "1 0 1 1 0 1 1 0 0 0\n",
      "1 0 1 1 0 0 0 0 1 1\n",
      "0 0 0 1 1 1 1 0 0 1\n",
      "1 1 0 0 1 1 1 1 0 1\n",
      "1 1 1 0 1 1 1 1 0 0\n"
     ]
    }
   ],
   "source": [
    "def is_safe(maze, x, y):\n",
    "    # Check if the current position is within the bounds of the maze and not blocked\n",
    "    return 0 <= x < len(maze) and 0 <= y < len(maze[0]) and maze[x][y] == 0\n",
    "\n",
    "def solve_maze(maze):\n",
    "    N = len(maze)\n",
    "    # Initialize a solution matrix with the same dimensions as the maze\n",
    "    solution = [row[:] for row in maze]\n",
    "\n",
    "    # Start solving the maze from the top-left corner (0, 0)\n",
    "    if backtrack(maze, 0, 0, solution):\n",
    "        for row in solution:\n",
    "            print(\" \".join(map(str, row)))\n",
    "    else:\n",
    "        print(\"No solution exists\")\n",
    "\n",
    "def backtrack(maze, x, y, solution):\n",
    "    N = len(maze)\n",
    "\n",
    "    # If the destination (bottom-right corner) is reached, mark it as part of the solution\n",
    "    if x == N - 1 and y == N - 1:\n",
    "        solution[x][y] = 0\n",
    "        return True\n",
    "\n",
    "    # Check if the current position is valid and safe to visit\n",
    "    if is_safe(maze, x, y):\n",
    "        solution[x][y] = 0  # Mark this cell as part of the solution path\n",
    "\n",
    "        # Move to the right\n",
    "        if backtrack(maze, x, y + 1, solution):\n",
    "            return True\n",
    "\n",
    "        # Move down\n",
    "        if backtrack(maze, x + 1, y, solution):\n",
    "            return True\n",
    "\n",
    "        # If moving right and down doesn't work, backtrack and unmark this cell\n",
    "        solution[x][y] = 1\n",
    "        return False\n",
    "\n",
    "    return False\n",
    "\n",
    "maze = [[0, 0 ,1 ,1 ,0, 0 ,0 ,0, 1, 1],\n",
    "        [1 ,0 ,0 ,0 ,0 ,1 ,1 ,0 ,1, 1],\n",
    "        [1, 1, 1, 0, 1, 1 ,1, 0, 0, 0],\n",
    "        [1, 0, 0, 0, 0, 1 ,0 ,0 ,1, 1],\n",
    "        [1, 0, 1, 1, 0, 1 ,1, 1, 1, 1],\n",
    "        [1, 0, 1 ,1, 0 ,1 ,1 ,0 ,0 ,0],\n",
    "        [1, 0, 1, 1, 0, 0, 0, 0, 1, 1],\n",
    "        [0, 0, 0, 1, 1, 1, 1, 0, 0, 1],\n",
    "        [1, 1 ,0 ,0, 1, 1 ,1, 1, 0, 1],\n",
    "        [1, 1, 1, 0, 1, 1, 1, 1, 0, 0 ]]\n",
    "\n",
    "solve_maze(maze)"
   ]
  }
 ],
 "metadata": {
  "kernelspec": {
   "display_name": "Python 3",
   "language": "python",
   "name": "python3"
  },
  "language_info": {
   "codemirror_mode": {
    "name": "ipython",
    "version": 3
   },
   "file_extension": ".py",
   "mimetype": "text/x-python",
   "name": "python",
   "nbconvert_exporter": "python",
   "pygments_lexer": "ipython3",
   "version": "3.11.3"
  }
 },
 "nbformat": 4,
 "nbformat_minor": 2
}
