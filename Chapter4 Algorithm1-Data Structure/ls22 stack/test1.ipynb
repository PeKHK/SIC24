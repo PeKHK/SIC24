{
 "cells": [
  {
   "cell_type": "code",
   "execution_count": 9,
   "metadata": {},
   "outputs": [],
   "source": [
    "#create stack by list\n",
    "stack=[]\n",
    "def push(stack,item):\n",
    "    stack.append(item)\n",
    "def pop(stack):\n",
    "    return stack.pop()"
   ]
  },
  {
   "cell_type": "code",
   "execution_count": 10,
   "metadata": {},
   "outputs": [
    {
     "name": "stdout",
     "output_type": "stream",
     "text": [
      "[]\n",
      "['A']\n",
      "['A', 'B']\n",
      "['A']\n",
      "[]\n"
     ]
    }
   ],
   "source": [
    "#exmple\n",
    "print(stack)\n",
    "push(stack,\"A\")\n",
    "print(stack)\n",
    "push(stack,\"B\")\n",
    "print(stack)\n",
    "pop(stack)\n",
    "print(stack)\n",
    "pop(stack)\n",
    "print(stack)"
   ]
  },
  {
   "cell_type": "code",
   "execution_count": 22,
   "metadata": {},
   "outputs": [
    {
     "name": "stdout",
     "output_type": "stream",
     "text": [
      "True\n"
     ]
    }
   ],
   "source": [
    "#check stack is empty solution1\n",
    "def is_empty(stack):\n",
    "    return True if len(stack)==0 else False\n",
    "stack=[]\n",
    "print(is_empty(stack))"
   ]
  },
  {
   "cell_type": "code",
   "execution_count": 12,
   "metadata": {},
   "outputs": [
    {
     "name": "stdout",
     "output_type": "stream",
     "text": [
      "None\n"
     ]
    }
   ],
   "source": [
    "#check stack is empty solution2\n",
    "def pop(stack):\n",
    "    return None if is_empty(stack) else stack.pop()\n",
    "stack=[]\n",
    "print(pop(stack))"
   ]
  },
  {
   "cell_type": "code",
   "execution_count": 20,
   "metadata": {},
   "outputs": [],
   "source": [
    "#create stack by class\n",
    "class Stack:\n",
    "    def __init__(self):\n",
    "        self.stack=[]\n",
    "    def is_empty(self):\n",
    "        return True if len(self.stack)==0 else False\n",
    "    def push(self,item):\n",
    "        self.stack.append(item)\n",
    "    def pop(self):\n",
    "        return None if self.is_empty() else self.stack.pop()\n",
    "    def peek(self):\n",
    "        return None if is_empty(self.stack) else self.stack[-1]"
   ]
  },
  {
   "cell_type": "code",
   "execution_count": 23,
   "metadata": {},
   "outputs": [
    {
     "name": "stdout",
     "output_type": "stream",
     "text": [
      "B\n",
      "C\n",
      "A\n",
      "None\n"
     ]
    }
   ],
   "source": [
    "#example\n",
    "stack=Stack()\n",
    "stack.push(\"A\")\n",
    "stack.push(\"B\")\n",
    "print(stack.pop())\n",
    "stack.push(\"C\")\n",
    "print(stack.pop())\n",
    "print(stack.pop())\n",
    "print(stack.pop())"
   ]
  },
  {
   "cell_type": "code",
   "execution_count": 24,
   "metadata": {},
   "outputs": [
    {
     "name": "stdout",
     "output_type": "stream",
     "text": [
      "B\n"
     ]
    }
   ],
   "source": [
    "def peek(stack):\n",
    "    return None if is_empty(stack) else stack[-1]\n",
    "stack=[\"A\",\"B\"]\n",
    "print(peek(stack))"
   ]
  },
  {
   "cell_type": "code",
   "execution_count": null,
   "metadata": {},
   "outputs": [],
   "source": [
    "class Stack:\n",
    "    def __init__(self):\n",
    "        self.stack=[]\n",
    "    def is_empty(self):\n",
    "        return True if len(self.stack)==0 else False\n",
    "    def is_Full(self):\n",
    "        return len(self.stack)==5\n",
    "    def push(self,data):\n",
    "        self.stack.append(data)\n",
    "    def pop(self):\n",
    "        return self.stack.pop()\n",
    "    def top(self):\n",
    "        return self.stack[-1]\n",
    "    def stacksize(self):\n",
    "        return len(self.stack)"
   ]
  }
 ],
 "metadata": {
  "kernelspec": {
   "display_name": "Python 3",
   "language": "python",
   "name": "python3"
  },
  "language_info": {
   "codemirror_mode": {
    "name": "ipython",
    "version": 3
   },
   "file_extension": ".py",
   "mimetype": "text/x-python",
   "name": "python",
   "nbconvert_exporter": "python",
   "pygments_lexer": "ipython3",
   "version": "3.11.3"
  }
 },
 "nbformat": 4,
 "nbformat_minor": 2
}
