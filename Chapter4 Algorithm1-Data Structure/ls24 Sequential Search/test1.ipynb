{
 "cells": [
  {
   "cell_type": "code",
   "execution_count": 10,
   "metadata": {},
   "outputs": [],
   "source": [
    "# sequential search\n",
    "def seq_search(nums,x):\n",
    "    for i in range(len(nums)):\n",
    "        if x == nums[i]:\n",
    "            return i\n",
    "    return -1\n"
   ]
  },
  {
   "cell_type": "code",
   "execution_count": 15,
   "metadata": {},
   "outputs": [
    {
     "name": "stdout",
     "output_type": "stream",
     "text": [
      "in s,53 is at position 7\n"
     ]
    }
   ],
   "source": [
    "#ex\n",
    "s=[11,37,45,26,59,28,17,53]\n",
    "x=53\n",
    "pos=seq_search(s,x)\n",
    "print(f\"in s,{x} is at position {pos}\")"
   ]
  },
  {
   "cell_type": "code",
   "execution_count": 12,
   "metadata": {},
   "outputs": [
    {
     "name": "stdout",
     "output_type": "stream",
     "text": [
      "in s,50 is at position -1\n"
     ]
    }
   ],
   "source": [
    "#ex\n",
    "s=[11,37,45,26,59,28,17,53]\n",
    "x=50\n",
    "pos=seq_search(s,x)\n",
    "print(f\"in s,{x} is at position {pos}\")"
   ]
  },
  {
   "cell_type": "code",
   "execution_count": 13,
   "metadata": {},
   "outputs": [],
   "source": [
    "#sequentail search find large number\n",
    "def find_largest(nums):\n",
    "    largest=0\n",
    "    for i in range(1,len(nums)):\n",
    "        if nums[largest]<nums[i]:\n",
    "            largest=i\n",
    "    return largest"
   ]
  },
  {
   "cell_type": "code",
   "execution_count": 14,
   "metadata": {},
   "outputs": [
    {
     "name": "stdout",
     "output_type": "stream",
     "text": [
      "The largest is 59 at 4\n"
     ]
    }
   ],
   "source": [
    "#ex\n",
    "nums=[11,37,45,26,59,28,17,53]\n",
    "pos=find_largest(nums)\n",
    "print(f\"The largest is {nums[pos]} at {pos}\")"
   ]
  }
 ],
 "metadata": {
  "kernelspec": {
   "display_name": "Python 3",
   "language": "python",
   "name": "python3"
  },
  "language_info": {
   "codemirror_mode": {
    "name": "ipython",
    "version": 3
   },
   "file_extension": ".py",
   "mimetype": "text/x-python",
   "name": "python",
   "nbconvert_exporter": "python",
   "pygments_lexer": "ipython3",
   "version": "3.11.3"
  }
 },
 "nbformat": 4,
 "nbformat_minor": 2
}
