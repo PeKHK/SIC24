{
 "cells": [
  {
   "cell_type": "code",
   "execution_count": 21,
   "metadata": {},
   "outputs": [],
   "source": [
    "def find_two(nums):\n",
    "    x=y=0\n",
    "    for i in range(1,len(nums)):\n",
    "        print(f\"Loop{i}\")\n",
    "        print(f\"x pos[{x}]={nums[x]} < i pos[{i}]={nums[i]}\")\n",
    "        print(f\"value of x={nums[x]}\")\n",
    "        print(f\"y pos[{y}]={nums[y]} > i pos[{i}]={nums[i]}\")\n",
    "        print(f\"value of y={nums[y]}\\n\")\n",
    "        if nums[x]<nums[i]:#find max\n",
    "            x=i  \n",
    "        elif nums[y]>nums[i]:#find min\n",
    "            y=i\n",
    "    return x,y"
   ]
  },
  {
   "cell_type": "code",
   "execution_count": 22,
   "metadata": {},
   "outputs": [
    {
     "name": "stdout",
     "output_type": "stream",
     "text": [
      "Loop1\n",
      "x pos[0]=11 < i pos[1]=37\n",
      "value of x=11\n",
      "y pos[0]=11 > i pos[1]=37\n",
      "value of y=11\n",
      "\n",
      "Loop2\n",
      "x pos[1]=37 < i pos[2]=45\n",
      "value of x=37\n",
      "y pos[0]=11 > i pos[2]=45\n",
      "value of y=11\n",
      "\n",
      "Loop3\n",
      "x pos[2]=45 < i pos[3]=26\n",
      "value of x=45\n",
      "y pos[0]=11 > i pos[3]=26\n",
      "value of y=11\n",
      "\n",
      "Loop4\n",
      "x pos[2]=45 < i pos[4]=59\n",
      "value of x=45\n",
      "y pos[0]=11 > i pos[4]=59\n",
      "value of y=11\n",
      "\n",
      "Loop5\n",
      "x pos[4]=59 < i pos[5]=28\n",
      "value of x=59\n",
      "y pos[0]=11 > i pos[5]=28\n",
      "value of y=11\n",
      "\n",
      "Loop6\n",
      "x pos[4]=59 < i pos[6]=17\n",
      "value of x=59\n",
      "y pos[0]=11 > i pos[6]=17\n",
      "value of y=11\n",
      "\n",
      "Loop7\n",
      "x pos[4]=59 < i pos[7]=53\n",
      "value of x=59\n",
      "y pos[0]=11 > i pos[7]=53\n",
      "value of y=11\n",
      "\n",
      "59 11\n"
     ]
    }
   ],
   "source": [
    "nums=[11,37,45,26,59,28,17,53]\n",
    "i,j=find_two(nums)\n",
    "print(nums[i],nums[j])"
   ]
  }
 ],
 "metadata": {
  "kernelspec": {
   "display_name": "Python 3",
   "language": "python",
   "name": "python3"
  },
  "language_info": {
   "codemirror_mode": {
    "name": "ipython",
    "version": 3
   },
   "file_extension": ".py",
   "mimetype": "text/x-python",
   "name": "python",
   "nbconvert_exporter": "python",
   "pygments_lexer": "ipython3",
   "version": "3.11.3"
  }
 },
 "nbformat": 4,
 "nbformat_minor": 2
}
