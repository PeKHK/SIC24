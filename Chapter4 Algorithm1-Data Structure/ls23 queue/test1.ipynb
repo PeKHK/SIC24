{
 "cells": [
  {
   "cell_type": "code",
   "execution_count": 2,
   "metadata": {},
   "outputs": [],
   "source": [
    "#create queue by class\n",
    "class Queue:\n",
    "    def __init__(self):\n",
    "        self.queue=[]\n",
    "    def is_empty(self):\n",
    "        return True if len(self.queue)==0 else False\n",
    "    def enqueue(self,item):\n",
    "        self.queue.append(item)\n",
    "    def dequeue(self):\n",
    "        return None if self.is_empty() else self.queue.pop(0)"
   ]
  },
  {
   "cell_type": "code",
   "execution_count": 8,
   "metadata": {},
   "outputs": [
    {
     "name": "stdout",
     "output_type": "stream",
     "text": [
      "['A']\n",
      "['A', 'B']\n",
      "A\n",
      "['B', 'C']\n",
      "B\n",
      "['C']\n",
      "C\n",
      "[]\n",
      "None\n"
     ]
    }
   ],
   "source": [
    "queue=Queue()\n",
    "queue.enqueue(\"A\")\n",
    "print(queue.queue)\n",
    "queue.enqueue(\"B\")\n",
    "print(queue.queue)\n",
    "print(queue.dequeue())\n",
    "queue.enqueue(\"C\")\n",
    "print(queue.queue)\n",
    "print(queue.dequeue())\n",
    "print(queue.queue)\n",
    "print(queue.dequeue())\n",
    "print(queue.queue)\n",
    "print(queue.dequeue())"
   ]
  },
  {
   "cell_type": "code",
   "execution_count": 1,
   "metadata": {},
   "outputs": [],
   "source": [
    "#josephus\n",
    "def josephus(n,k):\n",
    "    sequence=[]\n",
    "    queue=Queue()\n",
    "    for i in range(1,n+1):\n",
    "        queue.enqueue(i)\n",
    "    j=1\n",
    "    while queue.size()>1:\n",
    "        item = queue.dequeue()\n",
    "        if j%k==0:\n",
    "            sequence.append(item)\n",
    "        else:\n",
    "            queue.append(item)\n",
    "        j+=1\n",
    "    sequence.append(queue.dequeue())\n",
    "    return sequence"
   ]
  }
 ],
 "metadata": {
  "kernelspec": {
   "display_name": "Python 3",
   "language": "python",
   "name": "python3"
  },
  "language_info": {
   "codemirror_mode": {
    "name": "ipython",
    "version": 3
   },
   "file_extension": ".py",
   "mimetype": "text/x-python",
   "name": "python",
   "nbconvert_exporter": "python",
   "pygments_lexer": "ipython3",
   "version": "3.11.3"
  }
 },
 "nbformat": 4,
 "nbformat_minor": 2
}
