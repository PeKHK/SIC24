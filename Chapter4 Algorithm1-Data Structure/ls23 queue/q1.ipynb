{
 "cells": [
  {
   "cell_type": "code",
   "execution_count": 9,
   "metadata": {},
   "outputs": [
    {
     "name": "stdout",
     "output_type": "stream",
     "text": [
      "['Banana']\n",
      "['Banana', 'Apple']\n",
      "['Banana', 'Apple', 'Tomato']\n",
      "remove Banana\n",
      "['Apple', 'Tomato']\n",
      "['Apple', 'Tomato', 'Strawberry']\n",
      "['Apple', 'Tomato', 'Strawberry', 'Grapes']\n",
      "remove Apple\n",
      "['Tomato', 'Strawberry', 'Grapes']\n"
     ]
    }
   ],
   "source": [
    "class Queue:\n",
    "    def __init__(self):\n",
    "        self.queue=[]\n",
    "    def is_empty(self):\n",
    "        return True if len(self.queue)==0 else False\n",
    "    def enqueue(self,item):\n",
    "        self.queue.append(item)\n",
    "    def dequeue(self):\n",
    "        return None if self.is_empty() else self.queue.pop(0)\n",
    "queue=Queue()\n",
    "queue.enqueue(\"Banana\")\n",
    "print(queue.queue)\n",
    "queue.enqueue(\"Apple\")\n",
    "print(queue.queue)\n",
    "queue.enqueue(\"Tomato\")\n",
    "print(queue.queue)\n",
    "print(\"remove\",queue.dequeue())\n",
    "print(queue.queue)\n",
    "queue.enqueue(\"Strawberry\")\n",
    "print(queue.queue)\n",
    "queue.enqueue(\"Grapes\")\n",
    "print(queue.queue)\n",
    "print(\"remove\",queue.dequeue())\n",
    "print(queue.queue)"
   ]
  }
 ],
 "metadata": {
  "kernelspec": {
   "display_name": "Python 3",
   "language": "python",
   "name": "python3"
  },
  "language_info": {
   "codemirror_mode": {
    "name": "ipython",
    "version": 3
   },
   "file_extension": ".py",
   "mimetype": "text/x-python",
   "name": "python",
   "nbconvert_exporter": "python",
   "pygments_lexer": "ipython3",
   "version": "3.11.3"
  }
 },
 "nbformat": 4,
 "nbformat_minor": 2
}
