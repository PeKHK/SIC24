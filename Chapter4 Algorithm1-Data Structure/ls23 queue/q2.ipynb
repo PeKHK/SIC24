{
 "cells": [
  {
   "cell_type": "code",
   "execution_count": 14,
   "metadata": {},
   "outputs": [
    {
     "name": "stdout",
     "output_type": "stream",
     "text": [
      "[10, 20, 30, 40, 50, 60, 70, 80, 90, 100]\n",
      "add new item to queue [10]\n",
      "add new item to queue [10, 20]\n",
      "when new item added and calculated equal 0 the frist item in queue removed and queue now have [20]\n",
      "add new item to queue [20, 30]\n",
      "add new item to queue [20, 30, 40]\n",
      "when new item added and calculated equal 0 the frist item in queue removed and queue now have [30, 40]\n",
      "add new item to queue [30, 40, 50]\n",
      "add new item to queue [30, 40, 50, 60]\n",
      "when new item added and calculated equal 0 the frist item in queue removed and queue now have [40, 50, 60]\n",
      "add new item to queue [40, 50, 60, 70]\n",
      "add new item to queue [40, 50, 60, 70, 80]\n",
      "when new item added and calculated equal 0 the frist item in queue removed and queue now have [50, 60, 70, 80]\n",
      "add new item to queue [50, 60, 70, 80, 90]\n",
      "add new item to queue [50, 60, 70, 80, 90, 100]\n",
      "when new item added and calculated equal 0 the frist item in queue removed and queue now have [60, 70, 80, 90, 100]\n"
     ]
    }
   ],
   "source": [
    "class Queue:\n",
    "    def __init__(self):\n",
    "        self.queue=[]\n",
    "    def is_empty(self):\n",
    "        return True if len(self.queue)==0 else False\n",
    "    def enqueue(self,item):\n",
    "        self.queue.append(item)\n",
    "    def dequeue(self):\n",
    "        return None if self.is_empty() else self.queue.pop(0)\n",
    "queue=Queue()\n",
    "items=[10*i for i in range(1,11)]\n",
    "print(items)\n",
    "for item in items:\n",
    "    queue.enqueue(item)\n",
    "    print(\"add new item to queue\",queue.queue)\n",
    "    if(item//10)%2==0:\n",
    "        queue.dequeue()\n",
    "        print(\"when new item added and calculated equal 0 the frist item in queue removed and queue now have\",queue.queue)"
   ]
  }
 ],
 "metadata": {
  "kernelspec": {
   "display_name": "Python 3",
   "language": "python",
   "name": "python3"
  },
  "language_info": {
   "codemirror_mode": {
    "name": "ipython",
    "version": 3
   },
   "file_extension": ".py",
   "mimetype": "text/x-python",
   "name": "python",
   "nbconvert_exporter": "python",
   "pygments_lexer": "ipython3",
   "version": "3.11.3"
  }
 },
 "nbformat": 4,
 "nbformat_minor": 2
}
