{
 "cells": [
  {
   "cell_type": "code",
   "execution_count": 1,
   "metadata": {},
   "outputs": [],
   "source": [
    "#binary search\n",
    "def bin_search(nums,x):\n",
    "    low,high=0,len(nums)-1\n",
    "    while low<=high:\n",
    "        mid=(low+high)//2\n",
    "        if nums[mid]==x:\n",
    "            return mid\n",
    "        elif nums[mid]>x:\n",
    "            high=mid-1\n",
    "        else:\n",
    "            low=mid+1\n",
    "    return -1"
   ]
  },
  {
   "cell_type": "code",
   "execution_count": 2,
   "metadata": {},
   "outputs": [
    {
     "name": "stdout",
     "output_type": "stream",
     "text": [
      "In s,53 is at position 6.\n"
     ]
    }
   ],
   "source": [
    "s=[11,17,26,28,37,45,53,59]\n",
    "x=53\n",
    "pos=bin_search(s,x)\n",
    "print(f\"In s,{x} is at position {pos}.\")"
   ]
  },
  {
   "cell_type": "code",
   "execution_count": 5,
   "metadata": {},
   "outputs": [],
   "source": [
    "#find the test of loop\n",
    "def bin_search(nums,x):\n",
    "    low,high=0,len(nums)-1\n",
    "    while low<=high:\n",
    "        mid=(low+high)//2\n",
    "        print(low,high,mid)\n",
    "        if nums[mid]==x:\n",
    "            return mid\n",
    "        elif nums[mid]>x:\n",
    "            high=mid-1\n",
    "        else:\n",
    "            low=mid+1\n",
    "    return -1"
   ]
  },
  {
   "cell_type": "code",
   "execution_count": 6,
   "metadata": {},
   "outputs": [
    {
     "name": "stdout",
     "output_type": "stream",
     "text": [
      "0 7 3\n",
      "0 2 1\n",
      "2 2 2\n",
      "In s,26 is at position 2.\n"
     ]
    }
   ],
   "source": [
    "s=[11,17,26,28,37,45,53,59]\n",
    "x=26\n",
    "pos=bin_search(s,x)\n",
    "print(f\"In s,{x} is at position {pos}.\")"
   ]
  },
  {
   "cell_type": "code",
   "execution_count": 7,
   "metadata": {},
   "outputs": [
    {
     "name": "stdout",
     "output_type": "stream",
     "text": [
      "0 7 3\n",
      "4 7 5\n",
      "6 7 6\n",
      "7 7 7\n",
      "In s,77 is at position -1.\n"
     ]
    }
   ],
   "source": [
    "s=[11,17,26,28,37,45,53,59]\n",
    "x=77\n",
    "pos=bin_search(s,x)\n",
    "print(f\"In s,{x} is at position {pos}.\")"
   ]
  }
 ],
 "metadata": {
  "kernelspec": {
   "display_name": "Python 3",
   "language": "python",
   "name": "python3"
  },
  "language_info": {
   "codemirror_mode": {
    "name": "ipython",
    "version": 3
   },
   "file_extension": ".py",
   "mimetype": "text/x-python",
   "name": "python",
   "nbconvert_exporter": "python",
   "pygments_lexer": "ipython3",
   "version": "3.11.3"
  }
 },
 "nbformat": 4,
 "nbformat_minor": 2
}
