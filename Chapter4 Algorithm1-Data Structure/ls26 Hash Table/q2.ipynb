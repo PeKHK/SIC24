{
 "cells": [
  {
   "cell_type": "code",
   "execution_count": 2,
   "metadata": {},
   "outputs": [],
   "source": [
    "class HashTable:\n",
    "    def __init__(self,size):\n",
    "        self.size=size\n",
    "        self.table={}\n",
    "        for i in range(size):\n",
    "            self.table[i]=[]\n",
    "    def hash(self,key):\n",
    "        return key%self.size\n",
    "    def get(self,key):\n",
    "        return self.table[self.hash(key)]\n",
    "    def put(self,key,value):\n",
    "        bucket=self.table[self.hash(key)]\n",
    "        if value not in bucket:\n",
    "            bucket.append(value)"
   ]
  },
  {
   "cell_type": "code",
   "execution_count": 3,
   "metadata": {},
   "outputs": [
    {
     "name": "stdout",
     "output_type": "stream",
     "text": [
      "1584 The Little Prince\n",
      "1929 The Old Man and the Sea\n",
      "1678 The Little Mermaid\n",
      "1837 Beauty and the Beast\n",
      "1133 The Last Leaf\n",
      "1763 Alice in WonderLand\n",
      "0 []\n",
      "1 []\n",
      "2 []\n",
      "3 ['The Last Leaf', 'Alice in WonderLand']\n",
      "4 ['The Little Prince']\n",
      "5 []\n",
      "6 []\n",
      "7 ['Beauty and the Beast']\n",
      "8 ['The Little Mermaid']\n",
      "9 ['The Old Man and the Sea']\n"
     ]
    }
   ],
   "source": [
    "table=HashTable(10)\n",
    "books=[\n",
    "    \"The Little Prince\",\n",
    "    \"The Old Man and the Sea\",\n",
    "    \"The Little Mermaid\",\n",
    "    \"Beauty and the Beast\",\n",
    "    \"The Last Leaf\",\n",
    "    \"Alice in WonderLand\"\n",
    "]\n",
    "for book in books:\n",
    "    key = sum(map(ord,book))\n",
    "    print(key,book)\n",
    "    table.put(key,book)\n",
    "for key in table.table.keys():\n",
    "    print(key,table.table[key])"
   ]
  }
 ],
 "metadata": {
  "kernelspec": {
   "display_name": "Python 3",
   "language": "python",
   "name": "python3"
  },
  "language_info": {
   "codemirror_mode": {
    "name": "ipython",
    "version": 3
   },
   "file_extension": ".py",
   "mimetype": "text/x-python",
   "name": "python",
   "nbconvert_exporter": "python",
   "pygments_lexer": "ipython3",
   "version": "3.11.3"
  }
 },
 "nbformat": 4,
 "nbformat_minor": 2
}
