{
 "cells": [
  {
   "cell_type": "code",
   "execution_count": 1,
   "metadata": {},
   "outputs": [
    {
     "name": "stdout",
     "output_type": "stream",
     "text": [
      "1584 The Little Prince\n",
      "1929 The Old Man and the Sea\n",
      "1678 The Little Mermaid\n",
      "1837 Beauty and the Beast\n",
      "1133 The Last Leaf\n"
     ]
    }
   ],
   "source": [
    "#HASH table\n",
    "#claculate key for book\n",
    "books=[\n",
    "    \"The Little Prince\",\n",
    "    \"The Old Man and the Sea\",\n",
    "    \"The Little Mermaid\",\n",
    "    \"Beauty and the Beast\",\n",
    "    \"The Last Leaf\"\n",
    "]\n",
    "for book in books:\n",
    "    key=sum(map(ord,book))\n",
    "    print(key,book)"
   ]
  },
  {
   "cell_type": "code",
   "execution_count": 2,
   "metadata": {},
   "outputs": [],
   "source": [
    "#hash table be class\n",
    "class HashTable:\n",
    "    def __init__(self,size):#hash table contructor start hashtable for size of key\n",
    "        self.size=size\n",
    "        self.table={}\n",
    "        for i in range(size):\n",
    "            self.table[i]=[]\n",
    "    def hash(self,key):\n",
    "        return key%self.size\n",
    "    def get(self,key):\n",
    "        return self.table[self.hash(key)]\n",
    "    def put(self,key,value):\n",
    "        bucket=self.table[self.hash(key)]\n",
    "        if value not in bucket:\n",
    "            bucket.append(value)\n",
    "        "
   ]
  },
  {
   "cell_type": "code",
   "execution_count": 3,
   "metadata": {},
   "outputs": [
    {
     "name": "stdout",
     "output_type": "stream",
     "text": [
      "0 []\n",
      "1 []\n",
      "2 []\n",
      "3 []\n",
      "4 []\n",
      "5 []\n",
      "6 []\n",
      "7 []\n"
     ]
    }
   ],
   "source": [
    "table=HashTable(8)#the number is mean to ascii number(of key) % 8=result is place the key get in\n",
    "for key in table.table.keys():\n",
    "    print(key,table.table[key])"
   ]
  },
  {
   "cell_type": "code",
   "execution_count": 4,
   "metadata": {},
   "outputs": [
    {
     "name": "stdout",
     "output_type": "stream",
     "text": [
      "0 ['The Little Prince']\n",
      "1 []\n",
      "2 []\n",
      "3 []\n",
      "4 []\n",
      "5 []\n",
      "6 []\n",
      "7 []\n"
     ]
    }
   ],
   "source": [
    "table=HashTable(8)\n",
    "book=\"The Little Prince\"#ascii= 1580 % 8 = 0 so the little prince get in 0\n",
    "key=sum(map(ord,book))\n",
    "table.put(key,book)\n",
    "for key in table.table.keys():\n",
    "    print(key,table.table[key])"
   ]
  },
  {
   "cell_type": "code",
   "execution_count": 5,
   "metadata": {},
   "outputs": [
    {
     "name": "stdout",
     "output_type": "stream",
     "text": [
      "0 ['The Little Prince']\n",
      "1 ['The Old Man and the Sea']\n",
      "2 []\n",
      "3 []\n",
      "4 []\n",
      "5 ['Beauty and the Beast', 'The Last Leaf']\n",
      "6 ['The Little Mermaid']\n",
      "7 []\n"
     ]
    }
   ],
   "source": [
    "#input all books\n",
    "books=[\n",
    "    \"The Old Man and the Sea\",\n",
    "    \"The Little Mermaid\",\n",
    "    \"Beauty and the Beast\",\n",
    "    \"The Last Leaf\"\n",
    "]\n",
    "for book in books:\n",
    "    key = sum(map(ord,book))\n",
    "    table.put(key,book)\n",
    "for key in table.table.keys():\n",
    "    print(key,table.table[key])"
   ]
  },
  {
   "cell_type": "code",
   "execution_count": 9,
   "metadata": {},
   "outputs": [
    {
     "name": "stdout",
     "output_type": "stream",
     "text": [
      "1133 ['Beauty and the Beast', 'The Last Leaf']\n"
     ]
    }
   ],
   "source": [
    "#find the bucket book the last leaf in use get\n",
    "title=\"The Last Leaf\"\n",
    "key=sum(map(ord,title))\n",
    "bucket=table.get(key)\n",
    "print(key,bucket)"
   ]
  }
 ],
 "metadata": {
  "kernelspec": {
   "display_name": "Python 3",
   "language": "python",
   "name": "python3"
  },
  "language_info": {
   "codemirror_mode": {
    "name": "ipython",
    "version": 3
   },
   "file_extension": ".py",
   "mimetype": "text/x-python",
   "name": "python",
   "nbconvert_exporter": "python",
   "pygments_lexer": "ipython3",
   "version": "3.11.3"
  }
 },
 "nbformat": 4,
 "nbformat_minor": 2
}
