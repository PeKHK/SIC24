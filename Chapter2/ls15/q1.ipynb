{
 "cells": [
  {
   "cell_type": "code",
   "execution_count": 3,
   "metadata": {},
   "outputs": [
    {
     "data": {
      "text/plain": [
       "{'211101': ('David Doe', '010-1234-4500'),\n",
       " '211102': ('John Smith', '010-2230-6540'),\n",
       " '211103': ('Jane Carter', '010-3232-7788')}"
      ]
     },
     "execution_count": 3,
     "metadata": {},
     "output_type": "execute_result"
    }
   ],
   "source": [
    "student_tup=(('211101','David Doe','010-1234-4500'),('211102','John Smith','010-2230-6540'),('211103',\"Jane Carter\",'010-3232-7788'))\n",
    "student_dict={}\n",
    "for tup in student_tup:\n",
    "    key=tup[0]\n",
    "    value=tuple(tup[1:])\n",
    "    student_dict[key]=value\n",
    "student_dict"
   ]
  }
 ],
 "metadata": {
  "kernelspec": {
   "display_name": "Python 3",
   "language": "python",
   "name": "python3"
  },
  "language_info": {
   "codemirror_mode": {
    "name": "ipython",
    "version": 3
   },
   "file_extension": ".py",
   "mimetype": "text/x-python",
   "name": "python",
   "nbconvert_exporter": "python",
   "pygments_lexer": "ipython3",
   "version": "3.11.3"
  }
 },
 "nbformat": 4,
 "nbformat_minor": 2
}
