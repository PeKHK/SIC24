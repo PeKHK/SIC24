{
 "cells": [
  {
   "cell_type": "code",
   "execution_count": 5,
   "metadata": {},
   "outputs": [
    {
     "name": "stdout",
     "output_type": "stream",
     "text": [
      "{1: 2, 2: 2, 5: 1, 4: 2, 3: 3, 7: 2, 8: 1, 9: 3}\n",
      "9\n",
      "3\n"
     ]
    }
   ],
   "source": [
    "#print max value of this tuple\n",
    "tup=(1,2,5,4,3,2,1,4,7,8,9,9,3,7,3,9)\n",
    "new_tup={}\n",
    "for element in tup:\n",
    "    if element in new_tup:\n",
    "        new_tup[element] +=1\n",
    "    else:\n",
    "        new_tup[element]=1\n",
    "print(new_tup)\n",
    "print(element)\n",
    "max_element=None\n",
    "max_count=0\n",
    "for element in new_tup:\n",
    "    if new_tup[element]>max_count:\n",
    "        max_count=new_tup[element]\n",
    "        max_element=element\n",
    "print(max_element)"
   ]
  }
 ],
 "metadata": {
  "kernelspec": {
   "display_name": "Python 3",
   "language": "python",
   "name": "python3"
  },
  "language_info": {
   "codemirror_mode": {
    "name": "ipython",
    "version": 3
   },
   "file_extension": ".py",
   "mimetype": "text/x-python",
   "name": "python",
   "nbconvert_exporter": "python",
   "pygments_lexer": "ipython3",
   "version": "3.11.3"
  }
 },
 "nbformat": 4,
 "nbformat_minor": 2
}
