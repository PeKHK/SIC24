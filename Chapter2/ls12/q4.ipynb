{
 "cells": [
  {
   "cell_type": "code",
   "execution_count": 8,
   "metadata": {},
   "outputs": [
    {
     "name": "stdout",
     "output_type": "stream",
     "text": [
      "Before delete empty element ((), (1,), [], 'abc', (), (), (1,), 'a', ('a', 'b'), ((),), '')\n",
      "after delete empty element [(1,), 'abc', (1,), 'a', ('a', 'b'), ((),)]\n"
     ]
    }
   ],
   "source": [
    "#write code to delete empty tuple,empty string,empty list\n",
    "tup=((),(1,),[],'abc',(),(),(1,),('a'),('a','b'),((),),'')\n",
    "new_tup=[]\n",
    "for i in tup:\n",
    "    if i !=() and i !=[] and i!='' :\n",
    "        new_tup.append(i)\n",
    "print('Before delete empty element',tup)\n",
    "print('after delete empty element',new_tup)"
   ]
  }
 ],
 "metadata": {
  "kernelspec": {
   "display_name": "Python 3",
   "language": "python",
   "name": "python3"
  },
  "language_info": {
   "codemirror_mode": {
    "name": "ipython",
    "version": 3
   },
   "file_extension": ".py",
   "mimetype": "text/x-python",
   "name": "python",
   "nbconvert_exporter": "python",
   "pygments_lexer": "ipython3",
   "version": "3.11.3"
  }
 },
 "nbformat": 4,
 "nbformat_minor": 2
}
