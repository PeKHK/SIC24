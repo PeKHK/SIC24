{
 "cells": [
  {
   "cell_type": "code",
   "execution_count": 4,
   "metadata": {},
   "outputs": [
    {
     "name": "stdout",
     "output_type": "stream",
     "text": [
      "Dialy sales record: (100, 121, 120, 130, 140, 120, 122, 123, 190, 125)\n",
      "In the past 10 days, 3 days had reduced sales compared to the previous day\n"
     ]
    }
   ],
   "source": [
    "daily_sale = (100, 121, 120, 130, 140, 120, 122, 123, 190, 125)\n",
    "sales_decreaed = 0\n",
    "\n",
    "for i in range(1, len(daily_sale)):\n",
    "    if daily_sale[i] < daily_sale[i - 1]:\n",
    "        sales_decreaed += 1\n",
    "print('Dialy sales record:',daily_sale)\n",
    "print(\"In the past 10 days, {} days had reduced sales compared to the previous day\".format(sales_decreaed))\n",
    "\n",
    "\n"
   ]
  }
 ],
 "metadata": {
  "kernelspec": {
   "display_name": "Python 3",
   "language": "python",
   "name": "python3"
  },
  "language_info": {
   "codemirror_mode": {
    "name": "ipython",
    "version": 3
   },
   "file_extension": ".py",
   "mimetype": "text/x-python",
   "name": "python",
   "nbconvert_exporter": "python",
   "pygments_lexer": "ipython3",
   "version": "3.11.3"
  }
 },
 "nbformat": 4,
 "nbformat_minor": 2
}
