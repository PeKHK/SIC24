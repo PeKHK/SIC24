{
 "cells": [
  {
   "cell_type": "code",
   "execution_count": 2,
   "metadata": {},
   "outputs": [
    {
     "name": "stdout",
     "output_type": "stream",
     "text": [
      "1) {70, 40, 10, 50, 20, 60, 30}\n",
      "2) {40, 30}\n",
      "3) {10, 20}\n",
      "4) {50, 20, 70, 10, 60}\n",
      "5) False\n",
      "6) False\n",
      "7) False\n"
     ]
    }
   ],
   "source": [
    "s1={10,20,30,40}\n",
    "s2={30,40,50,60,70}\n",
    "print('1)',s1|s2)\n",
    "print('2)',s1&s2)\n",
    "print('3)',s1-s2)\n",
    "print('4)',s1^s2)\n",
    "print('5)',s1.issubset(s2))\n",
    "print('6)',s1.issuperset(s2))\n",
    "print('7)',s1.isdisjoint(s2))"
   ]
  }
 ],
 "metadata": {
  "kernelspec": {
   "display_name": "Python 3",
   "language": "python",
   "name": "python3"
  },
  "language_info": {
   "codemirror_mode": {
    "name": "ipython",
    "version": 3
   },
   "file_extension": ".py",
   "mimetype": "text/x-python",
   "name": "python",
   "nbconvert_exporter": "python",
   "pygments_lexer": "ipython3",
   "version": "3.11.3"
  }
 },
 "nbformat": 4,
 "nbformat_minor": 2
}
