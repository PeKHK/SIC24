{
 "cells": [
  {
   "cell_type": "code",
   "execution_count": 1,
   "metadata": {},
   "outputs": [
    {
     "data": {
      "text/plain": [
       "set()"
      ]
     },
     "execution_count": 1,
     "metadata": {},
     "output_type": "execute_result"
    }
   ],
   "source": [
    "#function zip use to union and print tuple\n",
    "emty_iterator=zip()\n",
    "result=set(emty_iterator)\n",
    "result"
   ]
  },
  {
   "cell_type": "code",
   "execution_count": 2,
   "metadata": {},
   "outputs": [
    {
     "name": "stdout",
     "output_type": "stream",
     "text": [
      "(10, 'ten')\n",
      "(20, 'twenty')\n",
      "(30, 'thirty')\n"
     ]
    }
   ],
   "source": [
    "a=[10,20,30]\n",
    "b=('ten','twenty','thirty')\n",
    "for val in zip(a,b):\n",
    "    print(val)"
   ]
  },
  {
   "cell_type": "code",
   "execution_count": 3,
   "metadata": {},
   "outputs": [
    {
     "data": {
      "text/plain": [
       "{('a',), ('b',), ('hello',), ('this',)}"
      ]
     },
     "execution_count": 3,
     "metadata": {},
     "output_type": "execute_result"
    }
   ],
   "source": [
    "lst=['a','b','hello','this']\n",
    "my_iterator=zip(lst)\n",
    "result=set(my_iterator)\n",
    "result"
   ]
  },
  {
   "cell_type": "code",
   "execution_count": 4,
   "metadata": {},
   "outputs": [
    {
     "data": {
      "text/plain": [
       "[('hello', 1, 400), ('world', 2, 500), ('python', 3, 600)]"
      ]
     },
     "execution_count": 4,
     "metadata": {},
     "output_type": "execute_result"
    }
   ],
   "source": [
    "str_list=['hello','world','python','rock']\n",
    "int_tuple=(1,2,3)\n",
    "int_list=[400,500,600,700,800]\n",
    "my_iterator=zip(str_list,int_tuple,int_list)\n",
    "list(my_iterator)"
   ]
  },
  {
   "cell_type": "code",
   "execution_count": 5,
   "metadata": {},
   "outputs": [
    {
     "name": "stdout",
     "output_type": "stream",
     "text": [
      "('hello', 'world', 'python') (1, 2, 3) (400, 500, 600)\n"
     ]
    }
   ],
   "source": [
    "#unpack tuple\n",
    "zip_lst=list(zip(str_list,int_tuple,int_list))\n",
    "a,b,c=zip(*zip_lst)\n",
    "print(a,b,c)"
   ]
  }
 ],
 "metadata": {
  "kernelspec": {
   "display_name": "Python 3",
   "language": "python",
   "name": "python3"
  },
  "language_info": {
   "codemirror_mode": {
    "name": "ipython",
    "version": 3
   },
   "file_extension": ".py",
   "mimetype": "text/x-python",
   "name": "python",
   "nbconvert_exporter": "python",
   "pygments_lexer": "ipython3",
   "version": "3.11.3"
  }
 },
 "nbformat": 4,
 "nbformat_minor": 2
}
