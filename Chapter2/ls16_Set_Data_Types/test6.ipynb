{
 "cells": [
  {
   "cell_type": "code",
   "execution_count": 1,
   "metadata": {},
   "outputs": [
    {
     "name": "stdout",
     "output_type": "stream",
     "text": [
      "10 s true aqilot : [2, 5]\n"
     ]
    }
   ],
   "source": [
    "#aliquot or number is divide and result 0\n",
    "num=10\n",
    "divisors=[]\n",
    "\n",
    "for i in range(2,num):\n",
    "    if num % i == 0:\n",
    "        divisors.append(i)\n",
    "print(num,'s true aqilot :', divisors)"
   ]
  },
  {
   "cell_type": "code",
   "execution_count": 3,
   "metadata": {},
   "outputs": [
    {
     "name": "stdout",
     "output_type": "stream",
     "text": [
      "48 s true aqilot : {2, 3, 4, 5, 6, 7, 8, 9, 10, 11, 12, 13, 14, 15, 16, 17, 18, 19, 20, 21, 22, 23, 24, 25, 26, 27, 28, 29, 30, 31, 32, 33, 34, 35, 36, 37, 38, 39, 40, 41, 42, 43, 44, 45, 46, 47}\n",
      "60 s true aqilot : {2, 3, 4, 5, 6, 7, 8, 9, 10, 11, 12, 13, 14, 15, 16, 17, 18, 19, 20, 21, 22, 23, 24, 25, 26, 27, 28, 29, 30, 31, 32, 33, 34, 35, 36, 37, 38, 39, 40, 41, 42, 43, 44, 45, 46, 47, 48, 49, 50, 51, 52, 53, 54, 55, 56, 57, 58, 59}\n"
     ]
    }
   ],
   "source": [
    "num1=48\n",
    "divisors1=set()\n",
    "\n",
    "for i in range(2,num1):\n",
    "    if num1 % 1 ==0:\n",
    "        divisors1.add(i)\n",
    "print(num1,'s true aqilot :', divisors1)\n",
    "\n",
    "num2=60\n",
    "divisors2=set()\n",
    "for i in range(2,num2):\n",
    "    if num2 % 1 ==0:\n",
    "        divisors2.add(i)\n",
    "print(num2,'s true aqilot :', divisors2)"
   ]
  },
  {
   "cell_type": "code",
   "execution_count": 4,
   "metadata": {},
   "outputs": [
    {
     "name": "stdout",
     "output_type": "stream",
     "text": [
      "{2, 3, 4, 5, 6, 7, 8, 9, 10, 11, 12, 13, 14, 15, 16, 17, 18, 19, 20, 21, 22, 23, 24, 25, 26, 27, 28, 29, 30, 31, 32, 33, 34, 35, 36, 37, 38, 39, 40, 41, 42, 43, 44, 45, 46, 47}\n",
      "48 60 s maximum divisor:  47\n"
     ]
    }
   ],
   "source": [
    "print(divisors1.intersection(divisors2))\n",
    "print(num1,num2,'s maximum divisor: ',max(divisors1.intersection(divisors2)))"
   ]
  }
 ],
 "metadata": {
  "kernelspec": {
   "display_name": "Python 3",
   "language": "python",
   "name": "python3"
  },
  "language_info": {
   "codemirror_mode": {
    "name": "ipython",
    "version": 3
   },
   "file_extension": ".py",
   "mimetype": "text/x-python",
   "name": "python",
   "nbconvert_exporter": "python",
   "pygments_lexer": "ipython3",
   "version": "3.11.3"
  }
 },
 "nbformat": 4,
 "nbformat_minor": 2
}
