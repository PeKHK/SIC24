{
 "cells": [
  {
   "cell_type": "code",
   "execution_count": 1,
   "metadata": {},
   "outputs": [
    {
     "name": "stdout",
     "output_type": "stream",
     "text": [
      "Event that can happen by rolling the dice 3 times are 216 cases\n"
     ]
    }
   ],
   "source": [
    "#monopoly\n",
    "cases_3times=set()\n",
    "for i in range(1,7):\n",
    "    for j in range(1,7):\n",
    "        for k in range(1,7):\n",
    "            cases_3times.add((i,j,k))\n",
    "total_cases=len(cases_3times)\n",
    "print('Event that can happen by rolling the dice 3 times are', total_cases ,'cases')"
   ]
  },
  {
   "cell_type": "code",
   "execution_count": 2,
   "metadata": {},
   "outputs": [
    {
     "name": "stdout",
     "output_type": "stream",
     "text": [
      "probabillity of getting more than  3 is 100.00%\n",
      "probabillity of getting more than  4 is  99.54%\n",
      "probabillity of getting more than  5 is  98.15%\n",
      "probabillity of getting more than  6 is  95.37%\n",
      "probabillity of getting more than  7 is  90.74%\n",
      "probabillity of getting more than  8 is  83.80%\n",
      "probabillity of getting more than  9 is  74.07%\n",
      "probabillity of getting more than 10 is  62.50%\n",
      "probabillity of getting more than 11 is  50.00%\n",
      "probabillity of getting more than 12 is  37.50%\n",
      "probabillity of getting more than 13 is  25.93%\n",
      "probabillity of getting more than 14 is  16.20%\n",
      "probabillity of getting more than 15 is   9.26%\n",
      "probabillity of getting more than 16 is   4.63%\n",
      "probabillity of getting more than 17 is   1.85%\n",
      "probabillity of getting more than 18 is   0.46%\n"
     ]
    }
   ],
   "source": [
    "#find the probability of getting more than 3 to more than 18\n",
    "for i in range(3,19):\n",
    "    total_cases=len(cases_3times)\n",
    "    n_cases=0\n",
    "    for c in cases_3times:\n",
    "        if sum(c)>=i:\n",
    "            n_cases += 1\n",
    "    prob=n_cases * 100/total_cases\n",
    "    print('probabillity of getting more than {:2d} is {:6.2f}%'.format(i,prob))"
   ]
  },
  {
   "cell_type": "code",
   "execution_count": 4,
   "metadata": {},
   "outputs": [
    {
     "data": {
      "text/plain": [
       "{'Fri', 'Mon', 'Sat', 'Sun', 'Thu', 'Tue', 'Wed'}"
      ]
     },
     "execution_count": 4,
     "metadata": {},
     "output_type": "execute_result"
    }
   ],
   "source": [
    "#create set\n",
    "days_list=['Mon','Tue','Wed','Thu','Fri','Sat','Sun']#list\n",
    "days_set=set(days_list)\n",
    "days_set"
   ]
  },
  {
   "cell_type": "code",
   "execution_count": 5,
   "metadata": {},
   "outputs": [
    {
     "data": {
      "text/plain": [
       "{'apple', 'orange', 'water melon'}"
      ]
     },
     "execution_count": 5,
     "metadata": {},
     "output_type": "execute_result"
    }
   ],
   "source": [
    "fruits_tuple=('apple','orange','water melon')#tuple\n",
    "fruits_set=set(fruits_tuple)\n",
    "fruits_set"
   ]
  },
  {
   "cell_type": "code",
   "execution_count": 6,
   "metadata": {},
   "outputs": [
    {
     "data": {
      "text/plain": [
       "{'e', 'h', 'l', 'o'}"
      ]
     },
     "execution_count": 6,
     "metadata": {},
     "output_type": "execute_result"
    }
   ],
   "source": [
    "h_str='hello'#string\n",
    "h_set=set(h_str)\n",
    "h_set"
   ]
  },
  {
   "cell_type": "code",
   "execution_count": 7,
   "metadata": {},
   "outputs": [
    {
     "name": "stdout",
     "output_type": "stream",
     "text": [
      "1 is in the set\n"
     ]
    }
   ],
   "source": [
    "#use in like list\n",
    "numbers={2,3,1}\n",
    "if 1 in numbers:\n",
    "    print(\"1 is in the set\")"
   ]
  },
  {
   "cell_type": "code",
   "execution_count": 8,
   "metadata": {},
   "outputs": [
    {
     "data": {
      "text/plain": [
       "True"
      ]
     },
     "execution_count": 8,
     "metadata": {},
     "output_type": "execute_result"
    }
   ],
   "source": [
    "a_list=['hello','hi','python']\n",
    "'python' in a_list#check is python belong a_list"
   ]
  },
  {
   "cell_type": "code",
   "execution_count": 10,
   "metadata": {},
   "outputs": [
    {
     "name": "stdout",
     "output_type": "stream",
     "text": [
      "{1, 2, 3}\n",
      "{1, 2, 3, 4}\n"
     ]
    }
   ],
   "source": [
    "#add more value \n",
    "numbers={1,2,3}\n",
    "print(numbers)\n",
    "numbers.add(4)\n",
    "print(numbers)"
   ]
  },
  {
   "cell_type": "code",
   "execution_count": 11,
   "metadata": {},
   "outputs": [
    {
     "data": {
      "text/plain": [
       "{1, 2, 3}"
      ]
     },
     "execution_count": 11,
     "metadata": {},
     "output_type": "execute_result"
    }
   ],
   "source": [
    "#remove value\n",
    "numbers.remove(4)\n",
    "numbers"
   ]
  }
 ],
 "metadata": {
  "kernelspec": {
   "display_name": "Python 3",
   "language": "python",
   "name": "python3"
  },
  "language_info": {
   "codemirror_mode": {
    "name": "ipython",
    "version": 3
   },
   "file_extension": ".py",
   "mimetype": "text/x-python",
   "name": "python",
   "nbconvert_exporter": "python",
   "pygments_lexer": "ipython3",
   "version": "3.11.3"
  }
 },
 "nbformat": 4,
 "nbformat_minor": 2
}
