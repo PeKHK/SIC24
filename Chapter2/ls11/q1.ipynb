{
 "cells": [
  {
   "cell_type": "code",
   "execution_count": 1,
   "metadata": {},
   "outputs": [
    {
     "name": "stdout",
     "output_type": "stream",
     "text": [
      "key:Korea \n",
      "value:Seoul\n",
      "key:China \n",
      "value:Beijing\n",
      "key:USA \n",
      "value:Washington DC\n"
     ]
    }
   ],
   "source": [
    "capital_dic={\"Korea\":\"Seoul\",\"China\":\"Beijing\",\"USA\":\"Washington DC\"}\n",
    "for key in capital_dic:#print dictionary menu\n",
    "    print(\"key:{:} \".format(key))\n",
    "    print(\"value:{:}\".format(capital_dic[key]))"
   ]
  },
  {
   "cell_type": "code",
   "execution_count": 3,
   "metadata": {},
   "outputs": [
    {
     "name": "stdout",
     "output_type": "stream",
     "text": [
      "Seoul\n"
     ]
    }
   ],
   "source": [
    "print(capital_dic[\"Korea\"])"
   ]
  }
 ],
 "metadata": {
  "kernelspec": {
   "display_name": "Python 3",
   "language": "python",
   "name": "python3"
  },
  "language_info": {
   "codemirror_mode": {
    "name": "ipython",
    "version": 3
   },
   "file_extension": ".py",
   "mimetype": "text/x-python",
   "name": "python",
   "nbconvert_exporter": "python",
   "pygments_lexer": "ipython3",
   "version": "3.11.3"
  }
 },
 "nbformat": 4,
 "nbformat_minor": 2
}
