{
 "cells": [
  {
   "cell_type": "code",
   "execution_count": 2,
   "metadata": {},
   "outputs": [
    {
     "name": "stdout",
     "output_type": "stream",
     "text": [
      "The price of aapple is 5000 KRW\n",
      "The price of abanana is 4000 KRW\n",
      "The price of agrape is 5300 KRW\n",
      "The price of amelon is 6500 KRW\n"
     ]
    }
   ],
   "source": [
    "fruit_dic={'apple':5000,'banana':4000,'grape':5300,'melon':6500}\n",
    "for key in fruit_dic:\n",
    "    print(\"The price of a{:} is {:} KRW\".format(key,fruit_dic[key]));\n"
   ]
  },
  {
   "cell_type": "code",
   "execution_count": 5,
   "metadata": {},
   "outputs": [
    {
     "name": "stdout",
     "output_type": "stream",
     "text": [
      "key:apple \n",
      "value:5000\n",
      "\n",
      "key:banana \n",
      "value:4000\n",
      "\n",
      "key:grape \n",
      "value:5300\n",
      "\n",
      "key:melon \n",
      "value:6500\n",
      "\n"
     ]
    }
   ],
   "source": [
    "for key in fruit_dic:\n",
    "    print(\"key:{} \".format(key))\n",
    "    print(\"value:{}\\n\".format(fruit_dic[key]))"
   ]
  }
 ],
 "metadata": {
  "kernelspec": {
   "display_name": "Python 3",
   "language": "python",
   "name": "python3"
  },
  "language_info": {
   "codemirror_mode": {
    "name": "ipython",
    "version": 3
   },
   "file_extension": ".py",
   "mimetype": "text/x-python",
   "name": "python",
   "nbconvert_exporter": "python",
   "pygments_lexer": "ipython3",
   "version": "3.11.3"
  }
 },
 "nbformat": 4,
 "nbformat_minor": 2
}
