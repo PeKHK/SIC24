{
 "cells": [
  {
   "cell_type": "code",
   "execution_count": 1,
   "metadata": {},
   "outputs": [
    {
     "name": "stdout",
     "output_type": "stream",
     "text": [
      "<class 'dict'>\n",
      "David\n",
      "{'father': 'John', 'mother': 'Marry'}\n",
      "True\n"
     ]
    }
   ],
   "source": [
    "import json\n",
    "data='{\"Name\":\"David\",\"Age\":\"25\",\"Hobby\":[\"basketball\"],\\\n",
    "      \"Family\":{\"father\":\"John\",\"mother\":\"Marry\"},\"Married\":true}'#write json's variable  \n",
    "\n",
    "json_data=json.loads(data)#change json to be dictionary\n",
    "\n",
    "print(type(json_data))\n",
    "print(json_data['Name'])\n",
    "print(json_data['Family'])\n",
    "print(json_data['Married'])"
   ]
  },
  {
   "cell_type": "code",
   "execution_count": 2,
   "metadata": {},
   "outputs": [
    {
     "name": "stdout",
     "output_type": "stream",
     "text": [
      "<class 'dict'>\n",
      "The Old Man And The Sea\n",
      "12345\n",
      "Ernest Hemingway\n"
     ]
    }
   ],
   "source": [
    "import json\n",
    "data='{\"Title\":\"The Old Man And The Sea\",\"ISBN\":\"12345\",\"Author\":\"Ernest Hemingway\"}'\n",
    "\n",
    "json_data=json.loads(data)\n",
    "\n",
    "print(type(json_data))\n",
    "print(json_data['Title'])\n",
    "print(json_data['ISBN'])\n",
    "print(json_data['Author'])"
   ]
  },
  {
   "cell_type": "code",
   "execution_count": 3,
   "metadata": {},
   "outputs": [],
   "source": [
    "#use dump to change dictionary to json\n",
    "with open('book.json','w')as f:\n",
    "    json.dump(json_data,f,indent='\\t')"
   ]
  }
 ],
 "metadata": {
  "kernelspec": {
   "display_name": "Python 3",
   "language": "python",
   "name": "python3"
  },
  "language_info": {
   "codemirror_mode": {
    "name": "ipython",
    "version": 3
   },
   "file_extension": ".py",
   "mimetype": "text/x-python",
   "name": "python",
   "nbconvert_exporter": "python",
   "pygments_lexer": "ipython3",
   "version": "3.11.3"
  }
 },
 "nbformat": 4,
 "nbformat_minor": 2
}
