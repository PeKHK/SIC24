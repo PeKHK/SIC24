{
 "cells": [
  {
   "cell_type": "code",
   "execution_count": 2,
   "metadata": {},
   "outputs": [],
   "source": [
    "phone_book={}#emty dict"
   ]
  },
  {
   "cell_type": "code",
   "execution_count": 3,
   "metadata": {},
   "outputs": [],
   "source": [
    "phone_book[\"David\"]=\"010-1234-5678\""
   ]
  },
  {
   "cell_type": "code",
   "execution_count": 4,
   "metadata": {},
   "outputs": [
    {
     "name": "stdout",
     "output_type": "stream",
     "text": [
      "{'David': '010-1234-5678'}\n"
     ]
    }
   ],
   "source": [
    "print(phone_book)"
   ]
  },
  {
   "cell_type": "code",
   "execution_count": 6,
   "metadata": {},
   "outputs": [
    {
     "name": "stdout",
     "output_type": "stream",
     "text": [
      "{'David': '010-1234-5678', 'John': '010-1234-5679', 'Daneil': '010-1234-5670'}\n"
     ]
    }
   ],
   "source": [
    "phone_book[\"John\"]=\"010-1234-5679\"\n",
    "phone_book[\"Daneil\"]=\"010-1234-5670\"\n",
    "print(phone_book)"
   ]
  },
  {
   "cell_type": "code",
   "execution_count": 7,
   "metadata": {},
   "outputs": [
    {
     "name": "stdout",
     "output_type": "stream",
     "text": [
      "before pop(0) [11, 22, 33, 44, 55]\n",
      "before pop(0) lst[1]= 22\n",
      "after pop(0): [22, 33, 44, 55]\n",
      "after pop(0) lst[1]= 33\n"
     ]
    }
   ],
   "source": [
    "#between delete list and dict\n",
    "lst=[11,22,33,44,55]\n",
    "print('before pop(0)', lst)\n",
    "print('before pop(0) lst[1]=', lst[1])\n",
    "lst.pop(0)\n",
    "print('after pop(0):', lst)\n",
    "print('after pop(0) lst[1]=', lst[1])"
   ]
  },
  {
   "cell_type": "code",
   "execution_count": 9,
   "metadata": {},
   "outputs": [
    {
     "name": "stdout",
     "output_type": "stream",
     "text": [
      "before pop(0): dict_items([(0, 11), (1, 22), (2, 33), (3, 44), (4, 55)])\n",
      "before pop(0) lst[1]= 22\n",
      "after pop(0): dict_items([(1, 22), (2, 33), (3, 44), (4, 55)])\n",
      "after pop(0) lst[1]= 22\n"
     ]
    }
   ],
   "source": [
    "dic={0:11,1:22,2:33,3:44,4:55}\n",
    "print('before pop(0):', dic.items())\n",
    "print('before pop(0) lst[1]=', dic[1])\n",
    "dic.pop(0)\n",
    "print('after pop(0):', dic.items())\n",
    "print('after pop(0) lst[1]=', dic[1])"
   ]
  }
 ],
 "metadata": {
  "kernelspec": {
   "display_name": "Python 3",
   "language": "python",
   "name": "python3"
  },
  "language_info": {
   "codemirror_mode": {
    "name": "ipython",
    "version": 3
   },
   "file_extension": ".py",
   "mimetype": "text/x-python",
   "name": "python",
   "nbconvert_exporter": "python",
   "pygments_lexer": "ipython3",
   "version": "3.11.3"
  }
 },
 "nbformat": 4,
 "nbformat_minor": 2
}
