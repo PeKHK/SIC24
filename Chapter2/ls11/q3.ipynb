{
 "cells": [
  {
   "cell_type": "code",
   "execution_count": 7,
   "metadata": {},
   "outputs": [
    {
     "name": "stdout",
     "output_type": "stream",
     "text": [
      "dict_keys(['apple', 'melon', 'banana', 'orange'])\n",
      "apple is in fruits_dic\n",
      "mango is not in fruits_dic\n"
     ]
    }
   ],
   "source": [
    "fruit_dic={'apple':6000,'melon':3000,'banana':5000,'orange':4000}\n",
    "print(fruit_dic.keys())\n",
    "fruit_diccheck={'apple':6000,'mango':3000,}\n",
    "for f in fruit_diccheck:\n",
    "    if f in fruit_dic:\n",
    "        print('{} is in fruits_dic'.format(f));\n",
    "    else:\n",
    "        print('{} is not in fruits_dic'.format(f))"
   ]
  }
 ],
 "metadata": {
  "kernelspec": {
   "display_name": "Python 3",
   "language": "python",
   "name": "python3"
  },
  "language_info": {
   "codemirror_mode": {
    "name": "ipython",
    "version": 3
   },
   "file_extension": ".py",
   "mimetype": "text/x-python",
   "name": "python",
   "nbconvert_exporter": "python",
   "pygments_lexer": "ipython3",
   "version": "3.11.3"
  }
 },
 "nbformat": 4,
 "nbformat_minor": 2
}
