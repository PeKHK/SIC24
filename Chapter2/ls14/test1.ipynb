{
 "cells": [
  {
   "cell_type": "code",
   "execution_count": 1,
   "metadata": {},
   "outputs": [
    {
     "name": "stdout",
     "output_type": "stream",
     "text": [
      "alphabet counting:  {'a': 2, 'b': 3, 'c': 2}\n"
     ]
    }
   ],
   "source": [
    "#setdefualt is mean add or change key\n",
    "#have no defualt key\n",
    "str1=['a','b','c','b','a','b','c']\n",
    "dic={}\n",
    "for ch in str1:\n",
    "    if ch not in dic.keys():\n",
    "        dic[ch]=0\n",
    "    dic[ch]+=1\n",
    "print('alphabet counting: ',dic)"
   ]
  },
  {
   "cell_type": "code",
   "execution_count": 3,
   "metadata": {},
   "outputs": [
    {
     "name": "stdout",
     "output_type": "stream",
     "text": [
      "[('a', 1)]\n",
      "[('a', 1), ('b', 1)]\n",
      "[('a', 1), ('b', 1), ('c', 1)]\n",
      "[('a', 1), ('b', 2), ('c', 1)]\n",
      "[('a', 2), ('b', 2), ('c', 1)]\n",
      "[('a', 2), ('b', 3), ('c', 1)]\n",
      "[('a', 2), ('b', 3), ('c', 2)]\n",
      "alphabet counting:  {'a': 2, 'b': 3, 'c': 2}\n"
     ]
    }
   ],
   "source": [
    "#have defualt key\n",
    "str1=['a','b','c','b','a','b','c']\n",
    "dic={}\n",
    "for ch in str1:\n",
    "    dic.setdefault(ch,0)\n",
    "    dic[ch]+=1\n",
    "    print(list(dic.items()))\n",
    "\n",
    "print('alphabet counting: ',dic)"
   ]
  },
  {
   "cell_type": "code",
   "execution_count": 4,
   "metadata": {},
   "outputs": [
    {
     "name": "stdout",
     "output_type": "stream",
     "text": [
      "{'a': 10, 'b': 20, 'c': 30, 'd': 40, 'f': 50}\n"
     ]
    }
   ],
   "source": [
    "dic={'a':10,'b':20,'c':30,'d':40}\n",
    "dic.setdefault('f',50)\n",
    "print(dic)"
   ]
  },
  {
   "cell_type": "code",
   "execution_count": 6,
   "metadata": {},
   "outputs": [
    {
     "name": "stdout",
     "output_type": "stream",
     "text": [
      "{'a': 90, 'b': 20, 'c': 30, 'd': 40}\n"
     ]
    }
   ],
   "source": [
    "#use update key is change key in dic\n",
    "dic={'a':10,'b':20,'c':30,'d':40}\n",
    "dic.update(a=90)\n",
    "print(dic)"
   ]
  },
  {
   "cell_type": "code",
   "execution_count": 7,
   "metadata": {},
   "outputs": [
    {
     "name": "stdout",
     "output_type": "stream",
     "text": [
      "{'a': 90, 'b': 20, 'c': 30, 'd': 40, 'e': 50}\n"
     ]
    }
   ],
   "source": [
    "dic.update(e=50)\n",
    "print(dic)"
   ]
  },
  {
   "cell_type": "code",
   "execution_count": 8,
   "metadata": {},
   "outputs": [
    {
     "name": "stdout",
     "output_type": "stream",
     "text": [
      "{'a': 100, 'b': 20, 'c': 30, 'd': 40, 'e': 50, 'f': 60}\n"
     ]
    }
   ],
   "source": [
    "dic.update(a=100,f=60)\n",
    "print(dic)"
   ]
  },
  {
   "cell_type": "code",
   "execution_count": 10,
   "metadata": {},
   "outputs": [
    {
     "name": "stdout",
     "output_type": "stream",
     "text": [
      "{1: 'one', 2: 'two'}\n",
      "{1: 'ONE', 2: 'two', 3: 'THREE'}\n"
     ]
    }
   ],
   "source": [
    "dic2={1:'one',2:'two'}\n",
    "print(dic2)\n",
    "dic2.update({1:'ONE',3:'THREE'})\n",
    "print(dic2)"
   ]
  },
  {
   "cell_type": "code",
   "execution_count": 11,
   "metadata": {},
   "outputs": [
    {
     "name": "stdout",
     "output_type": "stream",
     "text": [
      "{1: 'ONE', 2: 'two', 3: 'THREE'}\n",
      "{1: 'ONE', 2: 'TWO', 3: 'THREE', 4: 'FOUR'}\n"
     ]
    }
   ],
   "source": [
    "#use update when key is not string\n",
    "print(dic2)\n",
    "dic2.update([[2,'TWO'],[4,'FOUR']])\n",
    "print(dic2)"
   ]
  },
  {
   "cell_type": "code",
   "execution_count": 15,
   "metadata": {},
   "outputs": [
    {
     "name": "stdout",
     "output_type": "stream",
     "text": [
      "{1: 'ONE', 2: 'TWO', 3: 'THREE', 4: 'FOUR'}\n"
     ]
    }
   ],
   "source": [
    "dic2.update(((2,'TWO'),(4,'FOUR')))\n",
    "print(dic2)"
   ]
  },
  {
   "cell_type": "code",
   "execution_count": 16,
   "metadata": {},
   "outputs": [
    {
     "name": "stdout",
     "output_type": "stream",
     "text": [
      "{'a': 10, 'b': 20, 'c': 30, 'd': 40}\n",
      "{'a': 10, 'b': 20, 'c': 30, 'd': 40}\n"
     ]
    }
   ],
   "source": [
    "#sedefualt can only add key-value can't add only key or only value\n",
    "dic={'a':10,'b':20,'c':30,'d':40}\n",
    "print(dic)\n",
    "dic.setdefault('a',90)\n",
    "print(dic)"
   ]
  },
  {
   "cell_type": "code",
   "execution_count": 17,
   "metadata": {},
   "outputs": [
    {
     "name": "stdout",
     "output_type": "stream",
     "text": [
      "10\n",
      "{'b': 20, 'c': 30, 'd': 40}\n"
     ]
    }
   ],
   "source": [
    "#delete key in dic by pop\n",
    "print(dic.pop('a'))\n",
    "print(dic)"
   ]
  },
  {
   "cell_type": "code",
   "execution_count": 18,
   "metadata": {},
   "outputs": [
    {
     "name": "stdout",
     "output_type": "stream",
     "text": [
      "8\n"
     ]
    }
   ],
   "source": [
    "#no f in dic so disply 8\n",
    "print(dic.pop('f',8))"
   ]
  },
  {
   "cell_type": "code",
   "execution_count": 20,
   "metadata": {},
   "outputs": [
    {
     "name": "stdout",
     "output_type": "stream",
     "text": [
      "('d', 40)\n",
      "{'a': 10, 'b': 20, 'c': 30}\n"
     ]
    }
   ],
   "source": [
    "#delete key-value and display key-value\n",
    "dic={'a':10,'b':20,'c':30,'d':40}\n",
    "print(dic.popitem())\n",
    "print(dic)"
   ]
  },
  {
   "cell_type": "code",
   "execution_count": 21,
   "metadata": {},
   "outputs": [
    {
     "name": "stdout",
     "output_type": "stream",
     "text": [
      "{'a': 10, 'b': 20, 'c': 30, 'd': 40}\n",
      "{}\n"
     ]
    }
   ],
   "source": [
    "#delete all by clear()\n",
    "dic={'a':10,'b':20,'c':30,'d':40}\n",
    "print(dic)\n",
    "dic.clear()\n",
    "print(dic)"
   ]
  }
 ],
 "metadata": {
  "kernelspec": {
   "display_name": "Python 3",
   "language": "python",
   "name": "python3"
  },
  "language_info": {
   "codemirror_mode": {
    "name": "ipython",
    "version": 3
   },
   "file_extension": ".py",
   "mimetype": "text/x-python",
   "name": "python",
   "nbconvert_exporter": "python",
   "pygments_lexer": "ipython3",
   "version": "3.11.3"
  }
 },
 "nbformat": 4,
 "nbformat_minor": 2
}
