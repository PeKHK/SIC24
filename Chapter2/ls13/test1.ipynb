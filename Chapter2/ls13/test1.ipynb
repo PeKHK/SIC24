{
 "cells": [
  {
   "cell_type": "code",
   "execution_count": 2,
   "metadata": {},
   "outputs": [
    {
     "name": "stdout",
     "output_type": "stream",
     "text": [
      "[[0, 0, 0, 1, 0, 0], [1, 0, 0, 1, 1, 0], [0, 1, 0, 1, 1, 0]]\n",
      "0 0 0 1 0 0 \n",
      "1 0 0 1 1 0 \n",
      "0 1 0 1 1 0 \n",
      "seat 11\n"
     ]
    }
   ],
   "source": [
    "#booking the seat in theater\n",
    "import random\n",
    "seat=[]\n",
    "for i in range(3):\n",
    "    line=[]\n",
    "    for j in range(6):\n",
    "        rand=random.randrange(0,2)\n",
    "        line.append(rand)\n",
    "    seat.append(line)\n",
    "print(seat)\n",
    "avilable=0\n",
    "\n",
    "for i in range(3):\n",
    "    for j in range(6):\n",
    "        print(seat[i][j],'',end='')\n",
    "        if seat[i][j]==0:\n",
    "            avilable+=1\n",
    "    print()\n",
    "print('seat',avilable)"
   ]
  },
  {
   "cell_type": "code",
   "execution_count": 4,
   "metadata": {},
   "outputs": [
    {
     "data": {
      "text/plain": [
       "[1, 2, 3]"
      ]
     },
     "execution_count": 4,
     "metadata": {},
     "output_type": "execute_result"
    }
   ],
   "source": [
    "#list 2 daimention\n",
    "list_array=[[1,2,3],[4,5,6],[7,8,9]]\n",
    "list_array[0]"
   ]
  },
  {
   "cell_type": "code",
   "execution_count": 5,
   "metadata": {},
   "outputs": [
    {
     "data": {
      "text/plain": [
       "3"
      ]
     },
     "execution_count": 5,
     "metadata": {},
     "output_type": "execute_result"
    }
   ],
   "source": [
    "list_array[0][2]"
   ]
  },
  {
   "cell_type": "code",
   "execution_count": 9,
   "metadata": {},
   "outputs": [],
   "source": [
    "#add new value\n",
    "list_array[1][1]=100"
   ]
  },
  {
   "cell_type": "code",
   "execution_count": 8,
   "metadata": {},
   "outputs": [
    {
     "name": "stdout",
     "output_type": "stream",
     "text": [
      "item= [1, 2, 3]\n",
      "item= [4, 100, 6]\n",
      "item= [7, 8, 9]\n"
     ]
    }
   ],
   "source": [
    "for item in list_array:\n",
    "    print('item=',item)"
   ]
  },
  {
   "cell_type": "code",
   "execution_count": 10,
   "metadata": {},
   "outputs": [
    {
     "name": "stdout",
     "output_type": "stream",
     "text": [
      "1 2 3\n",
      "4 100 6\n",
      "7 8 9\n"
     ]
    }
   ],
   "source": [
    "#use variable to display list\n",
    "for i,j,k in list_array:\n",
    "    print(i,j,k)"
   ]
  },
  {
   "cell_type": "code",
   "execution_count": 11,
   "metadata": {},
   "outputs": [
    {
     "name": "stdout",
     "output_type": "stream",
     "text": [
      "1 2 3 \n",
      "4 100 6 \n",
      "7 8 9 \n"
     ]
    }
   ],
   "source": [
    "#display list by element\n",
    "for i in list_array:\n",
    "    for j in i:\n",
    "        print(j,end=' ')\n",
    "    print()"
   ]
  },
  {
   "cell_type": "code",
   "execution_count": 12,
   "metadata": {},
   "outputs": [
    {
     "name": "stdout",
     "output_type": "stream",
     "text": [
      "1 2 3 \n",
      "4 5 \n",
      "7 \n"
     ]
    }
   ],
   "source": [
    "list_array1=[[1,2,3],[4,5],[7]]\n",
    "for i in list_array1:\n",
    "    for j in i:\n",
    "        print(j,end=' ')\n",
    "    print()"
   ]
  },
  {
   "cell_type": "code",
   "execution_count": 13,
   "metadata": {},
   "outputs": [
    {
     "name": "stdout",
     "output_type": "stream",
     "text": [
      "1 2 3 \n",
      "4 100 6 \n",
      "7 8 9 \n"
     ]
    }
   ],
   "source": [
    "#use len to display list by point\n",
    "for i in range(len(list_array)):\n",
    "    for j in range(len(list_array[i])):\n",
    "        print(list_array[i][j],end=' ')\n",
    "    print()"
   ]
  },
  {
   "cell_type": "code",
   "execution_count": 17,
   "metadata": {},
   "outputs": [
    {
     "name": "stdout",
     "output_type": "stream",
     "text": [
      "[[1, 2, 3], [4, 5, 6], [7, 8, 9]]\n",
      "[[90, 2, 3], [4, 5, 6], [7, 8, 9]]\n",
      "False\n"
     ]
    }
   ],
   "source": [
    "#use copy\n",
    "import copy\n",
    "list_array=[[1,2,3],[4,5,6],[7,8,9]]\n",
    "list1=copy.deepcopy(list_array)\n",
    "list1[0][0]=90\n",
    "print(list_array)\n",
    "print(list1)\n",
    "print(list_array is list1)"
   ]
  },
  {
   "cell_type": "code",
   "execution_count": 21,
   "metadata": {},
   "outputs": [
    {
     "name": "stdout",
     "output_type": "stream",
     "text": [
      "[[0, 0, 0], [0, 0, 0], [0, 0, 0]]\n"
     ]
    }
   ],
   "source": [
    "#crate list by forloop\n",
    "list1=[]\n",
    "for i in range(3):\n",
    "    line=[]\n",
    "    for j in range(3):\n",
    "        line.append(0)\n",
    "    list1.append(line)\n",
    "print(list1)"
   ]
  }
 ],
 "metadata": {
  "kernelspec": {
   "display_name": "Python 3",
   "language": "python",
   "name": "python3"
  },
  "language_info": {
   "codemirror_mode": {
    "name": "ipython",
    "version": 3
   },
   "file_extension": ".py",
   "mimetype": "text/x-python",
   "name": "python",
   "nbconvert_exporter": "python",
   "pygments_lexer": "ipython3",
   "version": "3.11.3"
  }
 },
 "nbformat": 4,
 "nbformat_minor": 2
}
