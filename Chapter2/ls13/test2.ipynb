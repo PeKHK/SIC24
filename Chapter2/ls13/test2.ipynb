{
 "cells": [
  {
   "cell_type": "code",
   "execution_count": 1,
   "metadata": {},
   "outputs": [
    {
     "name": "stdout",
     "output_type": "stream",
     "text": [
      "[[0], [0, 1], [0, 1, 2], [0, 1, 2, 3], [0, 1, 2, 3, 4]]\n"
     ]
    }
   ],
   "source": [
    "#jagged list\n",
    "list1=[1,2,3,4,5]\n",
    "list2=[]\n",
    "for i in list1:\n",
    "    line=[]\n",
    "    for j in range(i):\n",
    "        line.append(j)\n",
    "    list2.append(line)\n",
    "print(list2)"
   ]
  },
  {
   "cell_type": "code",
   "execution_count": 3,
   "metadata": {},
   "outputs": [
    {
     "name": "stdout",
     "output_type": "stream",
     "text": [
      "0 \n",
      "0 1 \n",
      "0 1 2 \n",
      "0 1 2 3 \n",
      "0 1 2 3 4 \n"
     ]
    }
   ],
   "source": [
    "for i in list1:\n",
    "    line=[]\n",
    "    for j in range(i):\n",
    "        line.append(j)\n",
    "        print(j,end=' ')\n",
    "    list2.append(line)\n",
    "    print()"
   ]
  },
  {
   "cell_type": "code",
   "execution_count": 10,
   "metadata": {},
   "outputs": [
    {
     "name": "stdout",
     "output_type": "stream",
     "text": [
      "60 \n",
      "30 9 \n",
      "100 72 96 \n",
      "45 50 82 68 \n",
      "1 80 63 97 1 \n",
      "52 \n",
      "43 63 \n",
      "16 33 44 \n",
      "22 100 81 76 \n",
      "10 56 19 95 71 \n",
      "94 \n",
      "65 86 \n",
      "65 38 68 \n",
      "98 9 69 65 \n",
      "52 90 48 7 23 \n",
      "46 \n",
      "41 45 \n",
      "23 17 26 \n",
      "38 35 9 31 \n",
      "15 10 31 36 49 \n",
      "15 \n",
      "20 41 \n",
      "21 83 3 \n",
      "68 40 40 56 \n",
      "9 94 24 44 68 \n"
     ]
    }
   ],
   "source": [
    "import random\n",
    "for i in list1:\n",
    "    line=[]\n",
    "    for j in range(i):\n",
    "        line.append(random.randint(1,100))\n",
    "    list2.append(line)\n",
    "\n",
    "for i in list2:\n",
    "    for j in i:\n",
    "        print(j,end=' ')\n",
    "    print()"
   ]
  },
  {
   "cell_type": "code",
   "execution_count": null,
   "metadata": {},
   "outputs": [],
   "source": []
  }
 ],
 "metadata": {
  "kernelspec": {
   "display_name": "Python 3",
   "language": "python",
   "name": "python3"
  },
  "language_info": {
   "codemirror_mode": {
    "name": "ipython",
    "version": 3
   },
   "file_extension": ".py",
   "mimetype": "text/x-python",
   "name": "python",
   "nbconvert_exporter": "python",
   "pygments_lexer": "ipython3",
   "version": "3.11.3"
  }
 },
 "nbformat": 4,
 "nbformat_minor": 2
}
