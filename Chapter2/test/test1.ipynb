{
 "cells": [
  {
   "cell_type": "code",
   "execution_count": 1,
   "metadata": {},
   "outputs": [
    {
     "name": "stdout",
     "output_type": "stream",
     "text": [
      "I like pancake\n",
      "I like kiwi juice\n",
      "I like espresso\n",
      "i love pancake\n",
      "i love kiwi juice\n",
      "i love espresso\n"
     ]
    }
   ],
   "source": [
    "#10-01\n",
    "l1=['I like','i love']\n",
    "l2=['pancake','kiwi juice','espresso']\n",
    "for i in l1:\n",
    "    for j in l2:\n",
    "        print(i,j)"
   ]
  },
  {
   "cell_type": "code",
   "execution_count": 3,
   "metadata": {},
   "outputs": [
    {
     "name": "stdout",
     "output_type": "stream",
     "text": [
      "{'Name': 'David Doe', 'Age': 26, 'Weight': 82, 'Job': 'Data Scientist', 'Father': 'John Doe'}\n"
     ]
    }
   ],
   "source": [
    "#11-01\n",
    "person={'Name':'David Doe','Age':26,'Weight':82,'Job':'Data Scientist'}\n",
    "person['Father']='John Doe'\n",
    "print(person)"
   ]
  },
  {
   "cell_type": "code",
   "execution_count": 21,
   "metadata": {},
   "outputs": [
    {
     "name": "stdout",
     "output_type": "stream",
     "text": [
      "Given list = [5, 6, 3, 9, 2, 12, 3, 8, 7]\n",
      "The result of moving the largest number to the late [5, 6, 3, 9, 2, 3, 8, 7, 12]\n"
     ]
    }
   ],
   "source": [
    "#12-01\n",
    "list1=[5,6,3,9,2,12,3,8,7]\n",
    "last=0\n",
    "print('Given list =',list1)\n",
    "for i in range(1,len(list1)):\n",
    "    if list1[i]>list1[last]:\n",
    "        last=i\n",
    "for i in range(last,len(list1)-1):\n",
    "    list1[i],list1[i+1]=list1[i+1],list1[i]\n",
    "\n",
    "print('The result of moving the largest number to the late',list1)  "
   ]
  },
  {
   "cell_type": "code",
   "execution_count": 25,
   "metadata": {},
   "outputs": [
    {
     "name": "stdout",
     "output_type": "stream",
     "text": [
      "before change [[1, 2], [3, 4], [5, 6]]\n",
      "after change [1, 2, 3, 4, 5, 6]\n"
     ]
    }
   ],
   "source": [
    "#13-01\n",
    "mylist=[[1,2],[3,4],[5,6]]\n",
    "newlist=[]\n",
    "print('before change',mylist)\n",
    "for i in mylist:\n",
    "    for j in i:\n",
    "        newlist.append(j)\n",
    "print('after change',newlist)"
   ]
  },
  {
   "cell_type": "code",
   "execution_count": 34,
   "metadata": {},
   "outputs": [
    {
     "name": "stdout",
     "output_type": "stream",
     "text": [
      "89.25\n"
     ]
    }
   ],
   "source": [
    "#14-01\n",
    "maria={'korea':94,'english':91,'mathmatic':89,'scient':83}\n",
    "score=len(maria)\n",
    "sum_score=sum(maria.values())\n",
    "average_score=float(sum_score)/score\n",
    "print(average_score)"
   ]
  },
  {
   "cell_type": "code",
   "execution_count": 1,
   "metadata": {},
   "outputs": [
    {
     "data": {
      "text/plain": [
       "False"
      ]
     },
     "execution_count": 1,
     "metadata": {},
     "output_type": "execute_result"
    }
   ],
   "source": [
    "#15-01\n",
    "import copy\n",
    "school={'kim':{'age':16,'height':170,'grade':3},\n",
    "        'lee':{'age':15,'height':168,'grade':2},\n",
    "        'choi':{'age':14,'height':173,'grade':1}\n",
    "        }\n",
    "school2=copy.deepcopy(school)\n",
    "school2 is school"
   ]
  },
  {
   "cell_type": "code",
   "execution_count": 2,
   "metadata": {},
   "outputs": [
    {
     "name": "stdout",
     "output_type": "stream",
     "text": [
      "Student' average math scores are 264.5\n"
     ]
    }
   ],
   "source": [
    "#16-01\n",
    "scores=(('DongKyu Park',88,95,90),('YoungMin Kang',85,90,95),('DongMin Park',70,90,80),('SeungJoo Hong',90,90,95))\n",
    "\n",
    "name,*score_data=zip(*scores)\n",
    "sum_score=[sum(score1) for score1 in zip(*score_data)]\n",
    "total_sum=sum(sum_score)\n",
    "average_score=total_sum/len(scores)\n",
    "print(\"Student' average math scores are\",average_score)"
   ]
  }
 ],
 "metadata": {
  "kernelspec": {
   "display_name": "Python 3",
   "language": "python",
   "name": "python3"
  },
  "language_info": {
   "codemirror_mode": {
    "name": "ipython",
    "version": 3
   },
   "file_extension": ".py",
   "mimetype": "text/x-python",
   "name": "python",
   "nbconvert_exporter": "python",
   "pygments_lexer": "ipython3",
   "version": "3.11.3"
  }
 },
 "nbformat": 4,
 "nbformat_minor": 2
}
