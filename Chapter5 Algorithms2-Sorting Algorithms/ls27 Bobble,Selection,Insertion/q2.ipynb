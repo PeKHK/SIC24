{
 "cells": [
  {
   "cell_type": "code",
   "execution_count": 8,
   "metadata": {},
   "outputs": [
    {
     "name": "stdout",
     "output_type": "stream",
     "text": [
      "[50, 30, 40, 10, 20]\n",
      "Compare1 S=[30, 50, 40, 10, 20]\n",
      "[30, 50, 40, 10, 20]\n",
      "Compare2 S=[30, 40, 50, 10, 20]\n",
      "[30, 40, 50, 10, 20]\n",
      "Compare3 S=[10, 30, 40, 50, 20]\n",
      "[10, 30, 40, 50, 20]\n",
      "Compare4 S=[10, 20, 30, 40, 50]\n",
      "[10, 20, 30, 40, 50]\n"
     ]
    }
   ],
   "source": [
    "def insertionsort2(S):\n",
    "    n=len(S)\n",
    "    a=0\n",
    "    for i in range(1,n):\n",
    "        a+=1\n",
    "        print(S)\n",
    "        x=S[i]\n",
    "        j=i-1\n",
    "        while j >= 0 and S[j]>x:\n",
    "            S[j+1]=S[j]\n",
    "            j-=1\n",
    "        S[j+1]=x\n",
    "        print(f\"Compare{a} S={S}\")\n",
    "S=[50,30,40,10,20]\n",
    "insertionsort2(S)\n",
    "print(S)"
   ]
  }
 ],
 "metadata": {
  "kernelspec": {
   "display_name": "Python 3",
   "language": "python",
   "name": "python3"
  },
  "language_info": {
   "codemirror_mode": {
    "name": "ipython",
    "version": 3
   },
   "file_extension": ".py",
   "mimetype": "text/x-python",
   "name": "python",
   "nbconvert_exporter": "python",
   "pygments_lexer": "ipython3",
   "version": "3.11.3"
  }
 },
 "nbformat": 4,
 "nbformat_minor": 2
}
