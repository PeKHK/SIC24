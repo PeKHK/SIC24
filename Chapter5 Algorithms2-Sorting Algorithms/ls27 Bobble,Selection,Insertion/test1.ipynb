{
 "cells": [
  {
   "cell_type": "code",
   "execution_count": 11,
   "metadata": {},
   "outputs": [
    {
     "name": "stdout",
     "output_type": "stream",
     "text": [
      "[10, 20]\n",
      "[20, 10]\n"
     ]
    }
   ],
   "source": [
    "#funcion swap\n",
    "def swap1(S,x,y):\n",
    "    t=S[x]\n",
    "    S[x]=S[y]\n",
    "    S[y]=t\n",
    "S=[10,20]\n",
    "print(S)\n",
    "swap1(S,0,1)\n",
    "print(S)"
   ]
  },
  {
   "cell_type": "code",
   "execution_count": 2,
   "metadata": {},
   "outputs": [
    {
     "name": "stdout",
     "output_type": "stream",
     "text": [
      "[10, 20]\n",
      "[20, 10]\n"
     ]
    }
   ],
   "source": [
    "#function swap value get in muti variable\n",
    "def swap2(S,x,y):\n",
    "    S[x],S[y]=S[y],S[x]\n",
    "S=[10,20]\n",
    "print(S)\n",
    "swap2(S,0,1)\n",
    "print(S)"
   ]
  },
  {
   "cell_type": "code",
   "execution_count": 90,
   "metadata": {},
   "outputs": [
    {
     "name": "stdout",
     "output_type": "stream",
     "text": [
      "Sorting Count:0 [50, 30, 40, 10, 20]\n",
      "swap count:1 [30, 50, 40, 10, 20]\n",
      "swap count:2 [30, 40, 50, 10, 20]\n",
      "swap count:3 [30, 40, 10, 50, 20]\n",
      "swap count:4 [30, 40, 10, 20, 50]\n",
      "Sorting Count:1 [30, 40, 10, 20, 50]\n",
      "swap count:5 [30, 10, 40, 20, 50]\n",
      "swap count:6 [30, 10, 20, 40, 50]\n",
      "Sorting Count:2 [30, 10, 20, 40, 50]\n",
      "swap count:7 [10, 30, 20, 40, 50]\n",
      "swap count:8 [10, 20, 30, 40, 50]\n",
      "Sorting Count:3 [10, 20, 30, 40, 50]\n",
      "Sorting Count:4 [10, 20, 30, 40, 50]\n"
     ]
    }
   ],
   "source": [
    "#Bubble sort is algorithm compare two value nearby and swaping\n",
    "def bubblesort(S):\n",
    "    n=len(S)\n",
    "    a=0\n",
    "    for i in range(n):\n",
    "        print(f\"Sorting Count:{i}\",S)\n",
    "        for j in range(n-1):\n",
    "            if S[j]>S[j+1]:\n",
    "                a+=1\n",
    "                S[j],S[j+1]=S[j+1],S[j]\n",
    "                print(f\"swap count:{a}\",S)\n",
    "S=[50,30,40,10,20]\n",
    "bubblesort(S)"
   ]
  },
  {
   "cell_type": "code",
   "execution_count": 53,
   "metadata": {},
   "outputs": [],
   "source": [
    "#selection is get a smallest value from list and add to new list\n",
    "def selectionsort1(S):\n",
    "    R=[]\n",
    "    a=0\n",
    "    while len(S)>0:\n",
    "        a+=1\n",
    "        print(f\"Compare R={R} and S={S}\")\n",
    "        smallest=S.index(min(S))#get min value by use index to get in S input smallest\n",
    "        R.append(S[smallest])#add value smallest has to R\n",
    "        S.pop(smallest)#delete value smallest has from S \n",
    "        print(f\"loop{a} In list R={R}\")\n",
    "    return R"
   ]
  },
  {
   "cell_type": "code",
   "execution_count": 54,
   "metadata": {},
   "outputs": [
    {
     "name": "stdout",
     "output_type": "stream",
     "text": [
      "Compare R=[] and S=[50, 30, 40, 10, 20]\n",
      "loop1 In list R=[10]\n",
      "Compare R=[10] and S=[50, 30, 40, 20]\n",
      "loop2 In list R=[10, 20]\n",
      "Compare R=[10, 20] and S=[50, 30, 40]\n",
      "loop3 In list R=[10, 20, 30]\n",
      "Compare R=[10, 20, 30] and S=[50, 40]\n",
      "loop4 In list R=[10, 20, 30, 40]\n",
      "Compare R=[10, 20, 30, 40] and S=[50]\n",
      "loop5 In list R=[10, 20, 30, 40, 50]\n"
     ]
    }
   ],
   "source": [
    "S=[50,30,40,10,20]\n",
    "R=selectionsort1(S)"
   ]
  },
  {
   "cell_type": "code",
   "execution_count": 76,
   "metadata": {},
   "outputs": [],
   "source": [
    "#in place is selectionsort but no new list\n",
    "def selectionsort2(S):\n",
    "    n=len(S)\n",
    "    a=0\n",
    "    print(S)\n",
    "    for i in range(n-1):\n",
    "        a+=1\n",
    "        smallest=i\n",
    "        for j in range(i+1,n):\n",
    "            if S[j]<S[smallest]:\n",
    "                smallest=j\n",
    "            print(f\"loop{a} {S}\")    \n",
    "        S[i],S[smallest]=S[smallest],S[i]\n",
    "        print(f\"Swap:{S} Sorted Count{a} \")"
   ]
  },
  {
   "cell_type": "code",
   "execution_count": 77,
   "metadata": {},
   "outputs": [
    {
     "name": "stdout",
     "output_type": "stream",
     "text": [
      "[50, 30, 40, 10, 20]\n",
      "loop1 [50, 30, 40, 10, 20]\n",
      "loop1 [50, 30, 40, 10, 20]\n",
      "loop1 [50, 30, 40, 10, 20]\n",
      "loop1 [50, 30, 40, 10, 20]\n",
      "Swap:[10, 30, 40, 50, 20] Sorted Count1 \n",
      "loop2 [10, 30, 40, 50, 20]\n",
      "loop2 [10, 30, 40, 50, 20]\n",
      "loop2 [10, 30, 40, 50, 20]\n",
      "Swap:[10, 20, 40, 50, 30] Sorted Count2 \n",
      "loop3 [10, 20, 40, 50, 30]\n",
      "loop3 [10, 20, 40, 50, 30]\n",
      "Swap:[10, 20, 30, 50, 40] Sorted Count3 \n",
      "loop4 [10, 20, 30, 50, 40]\n",
      "Swap:[10, 20, 30, 40, 50] Sorted Count4 \n"
     ]
    }
   ],
   "source": [
    "S=[50,30,40,10,20]\n",
    "selectionsort2(S)"
   ]
  },
  {
   "cell_type": "code",
   "execution_count": 83,
   "metadata": {},
   "outputs": [
    {
     "name": "stdout",
     "output_type": "stream",
     "text": [
      "[] [50, 30, 40, 10, 20]\n",
      "[50] [30, 40, 10, 20]\n",
      "[30, 50] [40, 10, 20]\n",
      "[30, 40, 50] [10, 20]\n",
      "[10, 30, 40, 50] [20]\n",
      "[10, 20, 30, 40, 50]\n"
     ]
    }
   ],
   "source": [
    "#insertionsort is sorting add new value to correct index in sorting\n",
    "def insertionsort1(S):\n",
    "    n=len(S)\n",
    "    R=[]\n",
    "    while len(S)>0:\n",
    "        print(R,S)\n",
    "        x=S.pop(0)\n",
    "        j=len(R)-1\n",
    "        while j>=0 and R[j]>x:\n",
    "            j-=1\n",
    "        R.insert(j+1,x)\n",
    "    return R\n",
    "S=[50,30,40,10,20]\n",
    "insertionsort1(S)\n",
    "print(R)"
   ]
  },
  {
   "cell_type": "code",
   "execution_count": 85,
   "metadata": {},
   "outputs": [
    {
     "name": "stdout",
     "output_type": "stream",
     "text": [
      "[50, 30, 40, 10, 20]\n",
      "[30, 50, 40, 10, 20]\n",
      "[30, 40, 50, 10, 20]\n",
      "[10, 30, 40, 50, 20]\n",
      "[10, 20, 30, 40, 50]\n"
     ]
    }
   ],
   "source": [
    "#inplace insertion\n",
    "def insertionsort2(S):\n",
    "    n=len(S)\n",
    "    for i in range(1,n):\n",
    "        print(S)\n",
    "        x=S[i]\n",
    "        j=i-1\n",
    "        while j >= 0 and S[j]>x:\n",
    "            S[j+1]=S[j]\n",
    "            j-=1\n",
    "        S[j+1]=x\n",
    "S=[50,30,40,10,20]\n",
    "insertionsort2(S)\n",
    "print(S)"
   ]
  }
 ],
 "metadata": {
  "kernelspec": {
   "display_name": "Python 3",
   "language": "python",
   "name": "python3"
  },
  "language_info": {
   "codemirror_mode": {
    "name": "ipython",
    "version": 3
   },
   "file_extension": ".py",
   "mimetype": "text/x-python",
   "name": "python",
   "nbconvert_exporter": "python",
   "pygments_lexer": "ipython3",
   "version": "3.11.3"
  }
 },
 "nbformat": 4,
 "nbformat_minor": 2
}
