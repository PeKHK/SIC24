{
 "cells": [
  {
   "cell_type": "code",
   "execution_count": 9,
   "metadata": {},
   "outputs": [
    {
     "name": "stdout",
     "output_type": "stream",
     "text": [
      "Sorting 0 [50, 30, 40, 10, 20]\n",
      "swapped count1 S=[30, 50, 40, 10, 20]\n",
      "swapped count2 S=[30, 40, 50, 10, 20]\n",
      "swapped count3 S=[30, 40, 10, 50, 20]\n",
      "swapped count4 S=[30, 40, 10, 20, 50]\n",
      "Sorting 1 [30, 40, 10, 20, 50]\n",
      "swapped count5 S=[30, 10, 40, 20, 50]\n",
      "swapped count6 S=[30, 10, 20, 40, 50]\n",
      "Sorting 2 [30, 10, 20, 40, 50]\n",
      "swapped count7 S=[10, 30, 20, 40, 50]\n",
      "swapped count8 S=[10, 20, 30, 40, 50]\n",
      "Sorting 3 [10, 20, 30, 40, 50]\n",
      "Sorting 4 [10, 20, 30, 40, 50]\n"
     ]
    }
   ],
   "source": [
    "def bubblesort(S):\n",
    "    n=len(S)\n",
    "    a=0\n",
    "    for i in range(n):\n",
    "        print(f\"Sorting {i}\",S)\n",
    "        i+=1\n",
    "        for j in range(n-1):\n",
    "            if S[j]>S[j+1]:\n",
    "                a+=1\n",
    "                S[j],S[j+1]=S[j+1],S[j]\n",
    "                print(f\"swapped count{a} S={S}\")\n",
    "S=[50,30,40,10,20]\n",
    "bubblesort(S)"
   ]
  }
 ],
 "metadata": {
  "kernelspec": {
   "display_name": "Python 3",
   "language": "python",
   "name": "python3"
  },
  "language_info": {
   "codemirror_mode": {
    "name": "ipython",
    "version": 3
   },
   "file_extension": ".py",
   "mimetype": "text/x-python",
   "name": "python",
   "nbconvert_exporter": "python",
   "pygments_lexer": "ipython3",
   "version": "3.11.3"
  }
 },
 "nbformat": 4,
 "nbformat_minor": 2
}
