{
 "cells": [
  {
   "cell_type": "code",
   "execution_count": 2,
   "metadata": {},
   "outputs": [],
   "source": [
    "def mergesort2(S,low,high):\n",
    "    if low < high:\n",
    "        print(S)\n",
    "        mid=(low+high)//2\n",
    "        mergesort2(S,low,mid)\n",
    "        mergesort2(S,mid+1,high)\n",
    "        merge2(S,low,mid,high)\n",
    "def merge2(S,low,mid,high):\n",
    "    R=[]\n",
    "    i,j=low,mid+1\n",
    "    while i <= mid and j <= high:\n",
    "        if S[i] < S[j]:\n",
    "            R.append(S[i]);i+=1\n",
    "        else:\n",
    "            R.append(S[j]);j+=1\n",
    "    if i>mid:\n",
    "        for k in range(j,high+1):\n",
    "            R.append(S[j])\n",
    "    else:\n",
    "        for k in range(i,mid+1):\n",
    "            R.append(S[i])\n",
    "    for k in range(len(R)):\n",
    "        S[low+k]=R[k]\n"
   ]
  },
  {
   "cell_type": "code",
   "execution_count": 4,
   "metadata": {},
   "outputs": [
    {
     "name": "stdout",
     "output_type": "stream",
     "text": [
      "[6, 2, 11, 7, 5, 4, 8, 16, 10, 3]\n",
      "[6, 2, 11, 7, 5, 4, 8, 16, 10, 3]\n",
      "[6, 2, 11, 7, 5, 4, 8, 16, 10, 3]\n",
      "[6, 2, 11, 7, 5, 4, 8, 16, 10, 3]\n",
      "[2, 6, 11, 7, 5, 4, 8, 16, 10, 3]\n",
      "[2, 5, 6, 7, 11, 4, 8, 16, 10, 3]\n",
      "[2, 5, 6, 7, 11, 4, 8, 16, 10, 3]\n",
      "[2, 5, 6, 7, 11, 4, 8, 16, 10, 3]\n",
      "[2, 5, 6, 7, 11, 4, 8, 16, 10, 3]\n",
      "[2, 3, 4, 5, 6, 7, 8, 10, 11, 16]\n"
     ]
    }
   ],
   "source": [
    "S=[6,2,11,7,5,4,8,16,10,3]\n",
    "mergesort2(S,0,len(S)-1)\n",
    "print(S)"
   ]
  }
 ],
 "metadata": {
  "kernelspec": {
   "display_name": "Python 3",
   "language": "python",
   "name": "python3"
  },
  "language_info": {
   "codemirror_mode": {
    "name": "ipython",
    "version": 3
   },
   "file_extension": ".py",
   "mimetype": "text/x-python",
   "name": "python",
   "nbconvert_exporter": "python",
   "pygments_lexer": "ipython3",
   "version": "3.11.3"
  }
 },
 "nbformat": 4,
 "nbformat_minor": 2
}
