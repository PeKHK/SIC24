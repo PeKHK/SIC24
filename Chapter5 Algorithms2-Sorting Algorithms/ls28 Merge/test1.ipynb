{
 "cells": [
  {
   "cell_type": "code",
   "execution_count": 5,
   "metadata": {},
   "outputs": [],
   "source": [
    "#create merge by divide and conquer split to two value sorting\n",
    "def mergesort1(S):\n",
    "    n=len(S)\n",
    "    if n>1:\n",
    "        print(S)\n",
    "        mid =n//2\n",
    "        L,R=S[:mid],S[mid:]#L=smallest ,R=biggest\n",
    "        mergesort1(L)\n",
    "        mergesort1(R)\n",
    "        merge1(S,L,R)"
   ]
  },
  {
   "cell_type": "code",
   "execution_count": 7,
   "metadata": {},
   "outputs": [],
   "source": [
    "#combine two sorting to one sorting\n",
    "def merge1(S,L,R):\n",
    "    k=0\n",
    "    while len(L)>0 and len(R)>0:\n",
    "        if L[0]<=R[0]:\n",
    "            S[k]=L.pop(0)\n",
    "\n",
    "        else:\n",
    "            S[k]=R.pop(0)\n",
    "\n",
    "        k+=1\n",
    "    while len(L) !=0:#add value L left to S\n",
    "        S[k]=L.pop(0)\n",
    "        k+=1\n",
    "    while len(R) !=0:#add value R left to S\n",
    "        S[k]=R.pop(0)\n",
    "        k+=1"
   ]
  },
  {
   "cell_type": "code",
   "execution_count": 8,
   "metadata": {},
   "outputs": [
    {
     "name": "stdout",
     "output_type": "stream",
     "text": [
      "[27, 10, 12, 20, 25, 13, 15, 22]\n",
      "[27, 10, 12, 20]\n",
      "[27, 10]\n",
      "[12, 20]\n",
      "[25, 13, 15, 22]\n",
      "[25, 13]\n",
      "[15, 22]\n",
      "[10, 12, 13, 15, 20, 22, 25, 27]\n"
     ]
    }
   ],
   "source": [
    "S=[27,10,12,20,25,13,15,22]\n",
    "mergesort1(S)\n",
    "print(S)"
   ]
  },
  {
   "cell_type": "code",
   "execution_count": 9,
   "metadata": {},
   "outputs": [],
   "source": [
    "#create low and high\n",
    "def mergesort2(S,low,high):\n",
    "    if low < high:\n",
    "        print(S)\n",
    "        mid=(low+high)//2\n",
    "        mergesort2(S,low,mid)\n",
    "        mergesort2(S,mid+1,high)\n",
    "        merge2(S,low,mid,high)"
   ]
  },
  {
   "cell_type": "code",
   "execution_count": 10,
   "metadata": {},
   "outputs": [],
   "source": [
    "def merge2(S,low,mid,high):\n",
    "    R=[]\n",
    "    i,j=low,mid+1\n",
    "    while i <= mid and j <= high:\n",
    "        if S[i] < S[j]:\n",
    "            R.append(S[i]);i+=1\n",
    "        else:\n",
    "            R.append(S[j]);j+=1\n",
    "    if i>mid:\n",
    "        for k in range(j,high+1):\n",
    "            R.append(S[j])\n",
    "    else:\n",
    "        for k in range(i,mid+1):\n",
    "            R.append(S[i])\n",
    "    for k in range(len(R)):\n",
    "        S[low+k]=R[k]\n",
    "    "
   ]
  },
  {
   "cell_type": "code",
   "execution_count": 11,
   "metadata": {},
   "outputs": [
    {
     "name": "stdout",
     "output_type": "stream",
     "text": [
      "[27, 10, 12, 20, 25, 13, 15, 22]\n",
      "[27, 10, 12, 20, 25, 13, 15, 22]\n",
      "[27, 10, 12, 20, 25, 13, 15, 22]\n",
      "[10, 27, 12, 20, 25, 13, 15, 22]\n",
      "[10, 12, 20, 27, 25, 13, 15, 22]\n",
      "[10, 12, 20, 27, 25, 13, 15, 22]\n",
      "[10, 12, 20, 27, 13, 25, 15, 22]\n",
      "[10, 12, 13, 15, 20, 22, 25, 27]\n"
     ]
    }
   ],
   "source": [
    "S=[27,10,12,20,25,13,15,22]\n",
    "mergesort2(S,0,len(S)-1)\n",
    "print(S)"
   ]
  }
 ],
 "metadata": {
  "kernelspec": {
   "display_name": "Python 3",
   "language": "python",
   "name": "python3"
  },
  "language_info": {
   "codemirror_mode": {
    "name": "ipython",
    "version": 3
   },
   "file_extension": ".py",
   "mimetype": "text/x-python",
   "name": "python",
   "nbconvert_exporter": "python",
   "pygments_lexer": "ipython3",
   "version": "3.11.3"
  }
 },
 "nbformat": 4,
 "nbformat_minor": 2
}
