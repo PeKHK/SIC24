{
 "cells": [
  {
   "cell_type": "code",
   "execution_count": 5,
   "metadata": {},
   "outputs": [],
   "source": [
    "def quicksort1(S,low,high):\n",
    "    if low<high:\n",
    "        print(S)\n",
    "        pivotpoint=partition1(S,low,high)\n",
    "        quicksort1(S,low,pivotpoint-1)\n",
    "        quicksort1(S,pivotpoint+1,high)\n",
    "def partition1(S,low,high):\n",
    "    pivot=S[low]\n",
    "    left,right=low+1,high\n",
    "    print(f\"{S},{left},{right},pivot ={pivot}\")\n",
    "    while left < right:\n",
    "        print(S)\n",
    "        while left <=right and S[left]<=pivot:\n",
    "            left+=1\n",
    "        while left <=right and S[right]>=pivot:\n",
    "            right-=1\n",
    "        if left<right:\n",
    "            S[left],S[right]=S[right],S[left]\n",
    "    pivotpoint=right\n",
    "    S[low],S[pivotpoint]=S[pivotpoint],S[low]\n",
    "    return pivotpoint"
   ]
  },
  {
   "cell_type": "code",
   "execution_count": 6,
   "metadata": {},
   "outputs": [
    {
     "name": "stdout",
     "output_type": "stream",
     "text": [
      "[15, 10, 12, 20, 25, 13, 22],1,6,pivot =15\n",
      "[15, 10, 12, 20, 25, 13, 22]\n",
      "[15, 10, 12, 13, 25, 20, 22]\n",
      "[13, 10, 12, 15, 25, 20, 22]\n"
     ]
    }
   ],
   "source": [
    "S=[15,10,12,20,25,13,22]\n",
    "partition1(S,0,len(S)-1)\n",
    "print(S)"
   ]
  }
 ],
 "metadata": {
  "kernelspec": {
   "display_name": "Python 3",
   "language": "python",
   "name": "python3"
  },
  "language_info": {
   "codemirror_mode": {
    "name": "ipython",
    "version": 3
   },
   "file_extension": ".py",
   "mimetype": "text/x-python",
   "name": "python",
   "nbconvert_exporter": "python",
   "pygments_lexer": "ipython3",
   "version": "3.11.3"
  }
 },
 "nbformat": 4,
 "nbformat_minor": 2
}
