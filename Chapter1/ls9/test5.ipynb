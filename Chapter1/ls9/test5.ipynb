{
 "cells": [
  {
   "cell_type": "code",
   "execution_count": 1,
   "metadata": {},
   "outputs": [
    {
     "name": "stdout",
     "output_type": "stream",
     "text": [
      "0.8524672412166113\n",
      "1\n",
      "6\n",
      "7\n"
     ]
    }
   ],
   "source": [
    "#use random\n",
    "import random as rd\n",
    "print(rd.random())\n",
    "print(rd.randrange(1, 7))\n",
    "print(rd.randrange(0,10,2))\n",
    "print(rd.randint(1,10))"
   ]
  },
  {
   "cell_type": "code",
   "execution_count": 2,
   "metadata": {},
   "outputs": [
    {
     "name": "stdout",
     "output_type": "stream",
     "text": [
      "[20, 40, 10, 30, 50]\n"
     ]
    }
   ],
   "source": [
    "#use random and list\n",
    "numlist=[10,20,30,40,50]\n",
    "rd.shuffle(numlist)\n",
    "print(numlist)"
   ]
  },
  {
   "cell_type": "code",
   "execution_count": 3,
   "metadata": {},
   "outputs": [
    {
     "name": "stdout",
     "output_type": "stream",
     "text": [
      "10\n"
     ]
    }
   ],
   "source": [
    "print(rd.choice(numlist))"
   ]
  },
  {
   "cell_type": "code",
   "execution_count": 4,
   "metadata": {},
   "outputs": [
    {
     "name": "stdout",
     "output_type": "stream",
     "text": [
      "[30, 50, 10]\n"
     ]
    }
   ],
   "source": [
    "print(rd.sample(numlist,3))"
   ]
  },
  {
   "cell_type": "code",
   "execution_count": 5,
   "metadata": {},
   "outputs": [
    {
     "name": "stdout",
     "output_type": "stream",
     "text": [
      "[2, 5, 9, 3, 8, 7, 6, 1, 10, 4]\n"
     ]
    }
   ],
   "source": [
    "a=list(range(1,11))\n",
    "rd.shuffle(a)#random and print rank number \n",
    "print(a)"
   ]
  },
  {
   "cell_type": "code",
   "execution_count": 6,
   "metadata": {},
   "outputs": [
    {
     "name": "stdout",
     "output_type": "stream",
     "text": [
      "Arbitrary integer between 1 to 10: [5, 8, 9]\n"
     ]
    }
   ],
   "source": [
    "a=list(range(1,11))\n",
    "b=rd.sample(a,3)#b=random and print only 3 number \n",
    "print('Arbitrary integer between 1 to 10:',b)"
   ]
  },
  {
   "cell_type": "code",
   "execution_count": null,
   "metadata": {},
   "outputs": [],
   "source": []
  }
 ],
 "metadata": {
  "kernelspec": {
   "display_name": "Python 3",
   "language": "python",
   "name": "python3"
  },
  "language_info": {
   "codemirror_mode": {
    "name": "ipython",
    "version": 3
   },
   "file_extension": ".py",
   "mimetype": "text/x-python",
   "name": "python",
   "nbconvert_exporter": "python",
   "pygments_lexer": "ipython3",
   "version": "3.11.3"
  }
 },
 "nbformat": 4,
 "nbformat_minor": 2
}
