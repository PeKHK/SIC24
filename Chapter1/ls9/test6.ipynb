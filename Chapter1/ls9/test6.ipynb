{
 "cells": [
  {
   "cell_type": "code",
   "execution_count": 4,
   "metadata": {},
   "outputs": [
    {
     "name": "stdout",
     "output_type": "stream",
     "text": [
      "p\n",
      "r\n",
      "the end\n"
     ]
    }
   ],
   "source": [
    "#use break\n",
    "st='programming'\n",
    "for ch in st:\n",
    "    if ch in ['a','e','i','o','u']:\n",
    "        break#stop display when value in st match with value in ch\n",
    "    print(ch);\n",
    "print('the end')"
   ]
  },
  {
   "cell_type": "code",
   "execution_count": 5,
   "metadata": {},
   "outputs": [
    {
     "name": "stdout",
     "output_type": "stream",
     "text": [
      "p\n",
      "r\n",
      "g\n",
      "r\n",
      "m\n",
      "m\n",
      "n\n",
      "g\n",
      "the end\n"
     ]
    }
   ],
   "source": [
    "#use continue\n",
    "st='programming'\n",
    "for ch in st:\n",
    "    if ch in ['a','e','i','o','u']:\n",
    "        continue#display but not show value in ch\n",
    "    print(ch);\n",
    "print('the end')"
   ]
  }
 ],
 "metadata": {
  "kernelspec": {
   "display_name": "Python 3",
   "language": "python",
   "name": "python3"
  },
  "language_info": {
   "codemirror_mode": {
    "name": "ipython",
    "version": 3
   },
   "file_extension": ".py",
   "mimetype": "text/x-python",
   "name": "python",
   "nbconvert_exporter": "python",
   "pygments_lexer": "ipython3",
   "version": "3.11.3"
  }
 },
 "nbformat": 4,
 "nbformat_minor": 2
}
