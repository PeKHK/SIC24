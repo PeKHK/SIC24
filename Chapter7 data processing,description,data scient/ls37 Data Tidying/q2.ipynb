{
 "cells": [
  {
   "cell_type": "code",
   "execution_count": 3,
   "metadata": {},
   "outputs": [],
   "source": [
    "import pandas as pd\n",
    "import seaborn as sns\n",
    "\n",
    "a=pd.read_csv(\"C:/Users/Windows 10/Downloads/universities_ranking1.csv\")"
   ]
  },
  {
   "cell_type": "code",
   "execution_count": 5,
   "metadata": {},
   "outputs": [
    {
     "data": {
      "text/html": [
       "<div>\n",
       "<style scoped>\n",
       "    .dataframe tbody tr th:only-of-type {\n",
       "        vertical-align: middle;\n",
       "    }\n",
       "\n",
       "    .dataframe tbody tr th {\n",
       "        vertical-align: top;\n",
       "    }\n",
       "\n",
       "    .dataframe thead th {\n",
       "        text-align: right;\n",
       "    }\n",
       "</style>\n",
       "<table border=\"1\" class=\"dataframe\">\n",
       "  <thead>\n",
       "    <tr style=\"text-align: right;\">\n",
       "      <th></th>\n",
       "      <th>ranking</th>\n",
       "      <th>title</th>\n",
       "      <th>location</th>\n",
       "      <th>number students</th>\n",
       "      <th>students staff ratio</th>\n",
       "      <th>perc intl students</th>\n",
       "      <th>gender ratio</th>\n",
       "    </tr>\n",
       "  </thead>\n",
       "  <tbody>\n",
       "    <tr>\n",
       "      <th>0</th>\n",
       "      <td>1</td>\n",
       "      <td>University of Oxford</td>\n",
       "      <td>United Kingdom</td>\n",
       "      <td>20,774</td>\n",
       "      <td>11.1</td>\n",
       "      <td>41%</td>\n",
       "      <td>46 : 54</td>\n",
       "    </tr>\n",
       "    <tr>\n",
       "      <th>1</th>\n",
       "      <td>2</td>\n",
       "      <td>Stanford University</td>\n",
       "      <td>United States</td>\n",
       "      <td>16,223</td>\n",
       "      <td>7.4</td>\n",
       "      <td>23%</td>\n",
       "      <td>44 : 56</td>\n",
       "    </tr>\n",
       "    <tr>\n",
       "      <th>2</th>\n",
       "      <td>3</td>\n",
       "      <td>Harvard University</td>\n",
       "      <td>United States</td>\n",
       "      <td>21,261</td>\n",
       "      <td>9.3</td>\n",
       "      <td>25%</td>\n",
       "      <td>49 : 51</td>\n",
       "    </tr>\n",
       "    <tr>\n",
       "      <th>3</th>\n",
       "      <td>4</td>\n",
       "      <td>California Institute of Technology</td>\n",
       "      <td>United States</td>\n",
       "      <td>2,238</td>\n",
       "      <td>6.3</td>\n",
       "      <td>33%</td>\n",
       "      <td>36 : 64</td>\n",
       "    </tr>\n",
       "    <tr>\n",
       "      <th>4</th>\n",
       "      <td>5</td>\n",
       "      <td>Massachusetts Institute of Technology</td>\n",
       "      <td>United States</td>\n",
       "      <td>11,276</td>\n",
       "      <td>8.4</td>\n",
       "      <td>34%</td>\n",
       "      <td>39 : 61</td>\n",
       "    </tr>\n",
       "  </tbody>\n",
       "</table>\n",
       "</div>"
      ],
      "text/plain": [
       "   ranking                                  title        location  \\\n",
       "0        1                   University of Oxford  United Kingdom   \n",
       "1        2                    Stanford University   United States   \n",
       "2        3                     Harvard University   United States   \n",
       "3        4     California Institute of Technology   United States   \n",
       "4        5  Massachusetts Institute of Technology   United States   \n",
       "\n",
       "  number students  students staff ratio perc intl students gender ratio  \n",
       "0          20,774                  11.1                41%      46 : 54  \n",
       "1          16,223                   7.4                23%      44 : 56  \n",
       "2          21,261                   9.3                25%      49 : 51  \n",
       "3           2,238                   6.3                33%      36 : 64  \n",
       "4          11,276                   8.4                34%      39 : 61  "
      ]
     },
     "execution_count": 5,
     "metadata": {},
     "output_type": "execute_result"
    }
   ],
   "source": [
    "#preparing data and creating dataframe\n",
    "a.head()"
   ]
  },
  {
   "cell_type": "code",
   "execution_count": 6,
   "metadata": {},
   "outputs": [
    {
     "name": "stdout",
     "output_type": "stream",
     "text": [
      "<class 'pandas.core.frame.DataFrame'>\n",
      "RangeIndex: 1526 entries, 0 to 1525\n",
      "Data columns (total 7 columns):\n",
      " #   Column                Non-Null Count  Dtype  \n",
      "---  ------                --------------  -----  \n",
      " 0   ranking               1526 non-null   int64  \n",
      " 1   title                 1526 non-null   object \n",
      " 2   location              1526 non-null   object \n",
      " 3   number students       1526 non-null   object \n",
      " 4   students staff ratio  1526 non-null   float64\n",
      " 5   perc intl students    1526 non-null   object \n",
      " 6   gender ratio          1453 non-null   object \n",
      "dtypes: float64(1), int64(1), object(5)\n",
      "memory usage: 83.6+ KB\n"
     ]
    }
   ],
   "source": [
    "#checking data charactoristics\n",
    "a.info()"
   ]
  },
  {
   "cell_type": "code",
   "execution_count": 7,
   "metadata": {},
   "outputs": [
    {
     "data": {
      "text/plain": [
       "ranking                  0\n",
       "title                    0\n",
       "location                 0\n",
       "number students          0\n",
       "students staff ratio     0\n",
       "perc intl students       0\n",
       "gender ratio            73\n",
       "dtype: int64"
      ]
     },
     "execution_count": 7,
     "metadata": {},
     "output_type": "execute_result"
    }
   ],
   "source": [
    "#search for any NaN(missing data) in data\n",
    "a.isnull().sum()"
   ]
  },
  {
   "cell_type": "code",
   "execution_count": 8,
   "metadata": {},
   "outputs": [
    {
     "data": {
      "text/plain": [
       "73"
      ]
     },
     "execution_count": 8,
     "metadata": {},
     "output_type": "execute_result"
    }
   ],
   "source": [
    "a.isnull().sum().sum()"
   ]
  },
  {
   "cell_type": "code",
   "execution_count": 9,
   "metadata": {},
   "outputs": [
    {
     "data": {
      "text/html": [
       "<div>\n",
       "<style scoped>\n",
       "    .dataframe tbody tr th:only-of-type {\n",
       "        vertical-align: middle;\n",
       "    }\n",
       "\n",
       "    .dataframe tbody tr th {\n",
       "        vertical-align: top;\n",
       "    }\n",
       "\n",
       "    .dataframe thead th {\n",
       "        text-align: right;\n",
       "    }\n",
       "</style>\n",
       "<table border=\"1\" class=\"dataframe\">\n",
       "  <thead>\n",
       "    <tr style=\"text-align: right;\">\n",
       "      <th></th>\n",
       "      <th>ranking</th>\n",
       "      <th>title</th>\n",
       "      <th>location</th>\n",
       "      <th>number students</th>\n",
       "      <th>students staff ratio</th>\n",
       "      <th>perc intl students</th>\n",
       "      <th>gender ratio</th>\n",
       "    </tr>\n",
       "  </thead>\n",
       "  <tbody>\n",
       "    <tr>\n",
       "      <th>0</th>\n",
       "      <td>1</td>\n",
       "      <td>University of Oxford</td>\n",
       "      <td>United Kingdom</td>\n",
       "      <td>20,774</td>\n",
       "      <td>11.1</td>\n",
       "      <td>41%</td>\n",
       "      <td>46 : 54</td>\n",
       "    </tr>\n",
       "    <tr>\n",
       "      <th>1</th>\n",
       "      <td>2</td>\n",
       "      <td>Stanford University</td>\n",
       "      <td>United States</td>\n",
       "      <td>16,223</td>\n",
       "      <td>7.4</td>\n",
       "      <td>23%</td>\n",
       "      <td>44 : 56</td>\n",
       "    </tr>\n",
       "    <tr>\n",
       "      <th>2</th>\n",
       "      <td>3</td>\n",
       "      <td>Harvard University</td>\n",
       "      <td>United States</td>\n",
       "      <td>21,261</td>\n",
       "      <td>9.3</td>\n",
       "      <td>25%</td>\n",
       "      <td>49 : 51</td>\n",
       "    </tr>\n",
       "    <tr>\n",
       "      <th>3</th>\n",
       "      <td>4</td>\n",
       "      <td>California Institute of Technology</td>\n",
       "      <td>United States</td>\n",
       "      <td>2,238</td>\n",
       "      <td>6.3</td>\n",
       "      <td>33%</td>\n",
       "      <td>36 : 64</td>\n",
       "    </tr>\n",
       "    <tr>\n",
       "      <th>4</th>\n",
       "      <td>5</td>\n",
       "      <td>Massachusetts Institute of Technology</td>\n",
       "      <td>United States</td>\n",
       "      <td>11,276</td>\n",
       "      <td>8.4</td>\n",
       "      <td>34%</td>\n",
       "      <td>39 : 61</td>\n",
       "    </tr>\n",
       "  </tbody>\n",
       "</table>\n",
       "</div>"
      ],
      "text/plain": [
       "   ranking                                  title        location  \\\n",
       "0        1                   University of Oxford  United Kingdom   \n",
       "1        2                    Stanford University   United States   \n",
       "2        3                     Harvard University   United States   \n",
       "3        4     California Institute of Technology   United States   \n",
       "4        5  Massachusetts Institute of Technology   United States   \n",
       "\n",
       "  number students  students staff ratio perc intl students gender ratio  \n",
       "0          20,774                  11.1                41%      46 : 54  \n",
       "1          16,223                   7.4                23%      44 : 56  \n",
       "2          21,261                   9.3                25%      49 : 51  \n",
       "3           2,238                   6.3                33%      36 : 64  \n",
       "4          11,276                   8.4                34%      39 : 61  "
      ]
     },
     "execution_count": 9,
     "metadata": {},
     "output_type": "execute_result"
    }
   ],
   "source": [
    "#deleting missing data\n",
    "#delete column\n",
    "new_a=a.dropna(axis=1,thresh=500)#command to delete all column with more NaN values\n",
    "new_a.head()"
   ]
  },
  {
   "cell_type": "code",
   "execution_count": 10,
   "metadata": {},
   "outputs": [
    {
     "data": {
      "text/plain": [
       "1453"
      ]
     },
     "execution_count": 10,
     "metadata": {},
     "output_type": "execute_result"
    }
   ],
   "source": [
    "#delete row\n",
    "gender_a=a.dropna(axis=0,how='any',subset=['gender ratio'])\n",
    "len(gender_a)"
   ]
  },
  {
   "cell_type": "code",
   "execution_count": 12,
   "metadata": {},
   "outputs": [
    {
     "data": {
      "text/plain": [
       "ranking                 0\n",
       "title                   0\n",
       "location                0\n",
       "number students         0\n",
       "students staff ratio    0\n",
       "perc intl students      0\n",
       "gender ratio            0\n",
       "dtype: int64"
      ]
     },
     "execution_count": 12,
     "metadata": {},
     "output_type": "execute_result"
    }
   ],
   "source": [
    "#delete column result\n",
    "no=a.dropna()\n",
    "no.isnull().sum()"
   ]
  }
 ],
 "metadata": {
  "kernelspec": {
   "display_name": "Python 3",
   "language": "python",
   "name": "python3"
  },
  "language_info": {
   "codemirror_mode": {
    "name": "ipython",
    "version": 3
   },
   "file_extension": ".py",
   "mimetype": "text/x-python",
   "name": "python",
   "nbconvert_exporter": "python",
   "pygments_lexer": "ipython3",
   "version": "3.11.3"
  }
 },
 "nbformat": 4,
 "nbformat_minor": 2
}
