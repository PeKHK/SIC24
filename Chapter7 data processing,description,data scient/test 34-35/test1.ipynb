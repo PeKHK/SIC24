{
 "cells": [
  {
   "cell_type": "code",
   "execution_count": 4,
   "metadata": {},
   "outputs": [
    {
     "name": "stdout",
     "output_type": "stream",
     "text": [
      "[10, 55, 85, 15, 35]\n"
     ]
    }
   ],
   "source": [
    "import random\n",
    "def random5number():\n",
    "    multiples_of_5=list(range(0,101,5))\n",
    "    radom_number=random.sample(multiples_of_5,5)\n",
    "    return radom_number\n",
    "ran=random5number()\n",
    "print(ran)"
   ]
  },
  {
   "cell_type": "code",
   "execution_count": 6,
   "metadata": {},
   "outputs": [],
   "source": [
    "import pandas as pd\n",
    "\n",
    "sales_data=pd.Series([1200,1500,1100,1800,1300,1600,1400,1900,1700,1250],\n",
    "            index=['Jan','Feb','Mar','Apr','May','Jun','Jul','Aug','Sep','Oct'])"
   ]
  },
  {
   "cell_type": "code",
   "execution_count": 7,
   "metadata": {},
   "outputs": [
    {
     "name": "stdout",
     "output_type": "stream",
     "text": [
      "Apr    1800\n",
      "Jun    1600\n",
      "Aug    1900\n",
      "Sep    1700\n",
      "dtype: int64\n"
     ]
    }
   ],
   "source": [
    "#1\n",
    "sales_more_than_1500=sales_data[sales_data>1500]\n",
    "print(sales_more_than_1500)"
   ]
  },
  {
   "cell_type": "code",
   "execution_count": 9,
   "metadata": {},
   "outputs": [
    {
     "name": "stdout",
     "output_type": "stream",
     "text": [
      "average_sale=1475.0\n"
     ]
    }
   ],
   "source": [
    "#2\n",
    "average_sale=sales_data.mean()\n",
    "print(f\"average_sale={average_sale}\")"
   ]
  },
  {
   "cell_type": "code",
   "execution_count": 12,
   "metadata": {},
   "outputs": [
    {
     "name": "stdout",
     "output_type": "stream",
     "text": [
      "Highest month sales is Aug=1900\n",
      "Lowest month sales is Mar=1100\n"
     ]
    }
   ],
   "source": [
    "#3\n",
    "month_highest_sale=sales_data.idxmax()\n",
    "month_lowest_sale=sales_data.idxmin()\n",
    "print(f\"Highest month sales is {month_highest_sale}={sales_data.max()}\")\n",
    "print(f\"Lowest month sales is {month_lowest_sale}={sales_data.min()}\")"
   ]
  }
 ],
 "metadata": {
  "kernelspec": {
   "display_name": "Python 3",
   "language": "python",
   "name": "python3"
  },
  "language_info": {
   "codemirror_mode": {
    "name": "ipython",
    "version": 3
   },
   "file_extension": ".py",
   "mimetype": "text/x-python",
   "name": "python",
   "nbconvert_exporter": "python",
   "pygments_lexer": "ipython3",
   "version": "3.11.3"
  }
 },
 "nbformat": 4,
 "nbformat_minor": 2
}
