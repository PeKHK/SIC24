{
 "cells": [
  {
   "cell_type": "code",
   "execution_count": 1,
   "metadata": {},
   "outputs": [
    {
     "data": {
      "text/plain": [
       "DatetimeIndex(['2021-01-01', '2021-01-02', '2021-01-03', '2021-01-04',\n",
       "               '2021-01-05'],\n",
       "              dtype='datetime64[ns]', freq='D')"
      ]
     },
     "execution_count": 1,
     "metadata": {},
     "output_type": "execute_result"
    }
   ],
   "source": [
    "import pandas as pd\n",
    "pd.date_range(start='2021-01-01',end=None,periods=5,freq='D',tz=None)"
   ]
  },
  {
   "cell_type": "code",
   "execution_count": 2,
   "metadata": {},
   "outputs": [
    {
     "data": {
      "text/plain": [
       "DatetimeIndex(['2021-01-01 00:00:00+09:00', '2021-04-02 00:00:00+09:00',\n",
       "               '2021-07-02 00:00:00+09:00', '2021-10-01 00:00:00+09:00',\n",
       "               '2021-12-31 00:00:00+09:00'],\n",
       "              dtype='datetime64[ns, Asia/Seoul]', freq=None)"
      ]
     },
     "execution_count": 2,
     "metadata": {},
     "output_type": "execute_result"
    }
   ],
   "source": [
    "pd.date_range(start='2021-01-01',end='2021-12-31',periods=5,freq=None,tz='Asia/Seoul')"
   ]
  },
  {
   "cell_type": "code",
   "execution_count": 3,
   "metadata": {},
   "outputs": [
    {
     "data": {
      "text/plain": [
       "DatetimeIndex(['2021-01-31', '2021-02-28', '2021-03-31', '2021-04-30',\n",
       "               '2021-05-31'],\n",
       "              dtype='datetime64[ns]', freq='M')"
      ]
     },
     "execution_count": 3,
     "metadata": {},
     "output_type": "execute_result"
    }
   ],
   "source": [
    "pd.date_range(start='2021-01-01',end=None,periods=5,freq='M',tz=None)"
   ]
  },
  {
   "cell_type": "code",
   "execution_count": 4,
   "metadata": {},
   "outputs": [
    {
     "data": {
      "text/plain": [
       "DatetimeIndex([       '2021-01-01 00:00:00', '2021-01-01 00:00:00.001000',\n",
       "               '2021-01-01 00:00:00.002000', '2021-01-01 00:00:00.003000',\n",
       "               '2021-01-01 00:00:00.004000'],\n",
       "              dtype='datetime64[ns]', freq='L')"
      ]
     },
     "execution_count": 4,
     "metadata": {},
     "output_type": "execute_result"
    }
   ],
   "source": [
    "pd.date_range(start='2021-01-01',end=None,periods=5,freq='Ms',tz=None)"
   ]
  },
  {
   "cell_type": "code",
   "execution_count": 5,
   "metadata": {},
   "outputs": [
    {
     "data": {
      "text/plain": [
       "PeriodIndex(['2020-01', '2020-02', '2020-03', '2020-04', '2020-05', '2020-06',\n",
       "             '2020-07', '2020-08', '2020-09', '2020-10', '2020-11', '2020-12'],\n",
       "            dtype='period[M]')"
      ]
     },
     "execution_count": 5,
     "metadata": {},
     "output_type": "execute_result"
    }
   ],
   "source": [
    "p_data=pd.period_range(start='2020-1-1',\n",
    "                       end='2020-12-31',\n",
    "                       periods=None,\n",
    "                       freq='M')\n",
    "p_data"
   ]
  },
  {
   "cell_type": "code",
   "execution_count": 6,
   "metadata": {},
   "outputs": [
    {
     "name": "stdout",
     "output_type": "stream",
     "text": [
      "2020-01-01 00:00:00 2020-01-31 23:59:59.999999999\n",
      "2020-02-01 00:00:00 2020-02-29 23:59:59.999999999\n",
      "2020-03-01 00:00:00 2020-03-31 23:59:59.999999999\n",
      "2020-04-01 00:00:00 2020-04-30 23:59:59.999999999\n",
      "2020-05-01 00:00:00 2020-05-31 23:59:59.999999999\n",
      "2020-06-01 00:00:00 2020-06-30 23:59:59.999999999\n",
      "2020-07-01 00:00:00 2020-07-31 23:59:59.999999999\n",
      "2020-08-01 00:00:00 2020-08-31 23:59:59.999999999\n",
      "2020-09-01 00:00:00 2020-09-30 23:59:59.999999999\n",
      "2020-10-01 00:00:00 2020-10-31 23:59:59.999999999\n",
      "2020-11-01 00:00:00 2020-11-30 23:59:59.999999999\n",
      "2020-12-01 00:00:00 2020-12-31 23:59:59.999999999\n"
     ]
    }
   ],
   "source": [
    "for i in p_data:\n",
    "    print(f\"{i.start_time} {i.end_time}\")"
   ]
  }
 ],
 "metadata": {
  "kernelspec": {
   "display_name": "Python 3",
   "language": "python",
   "name": "python3"
  },
  "language_info": {
   "codemirror_mode": {
    "name": "ipython",
    "version": 3
   },
   "file_extension": ".py",
   "mimetype": "text/x-python",
   "name": "python",
   "nbconvert_exporter": "python",
   "pygments_lexer": "ipython3",
   "version": "3.11.3"
  }
 },
 "nbformat": 4,
 "nbformat_minor": 2
}
