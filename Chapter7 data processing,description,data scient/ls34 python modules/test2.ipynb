{
 "cells": [
  {
   "cell_type": "code",
   "execution_count": 1,
   "metadata": {},
   "outputs": [
    {
     "name": "stdout",
     "output_type": "stream",
     "text": [
      "0.27817842462072007\n",
      "0.7247649910102308\n",
      "0.3388826154342105\n",
      "0.2148410049733972\n",
      "0.8207780381756288\n",
      "0.4659306189619348\n",
      "0.6341980866452362\n",
      "0.2508942575331048\n",
      "0.6267672933457668\n",
      "0.46348177170683535\n"
     ]
    }
   ],
   "source": [
    "#module random\n",
    "import random \n",
    "i=0\n",
    "for i in range(10):\n",
    "    a=random.random()\n",
    "    print(a)"
   ]
  },
  {
   "cell_type": "code",
   "execution_count": 3,
   "metadata": {},
   "outputs": [
    {
     "name": "stdout",
     "output_type": "stream",
     "text": [
      "[4, 9, 6, 12, 11, 3]\n"
     ]
    }
   ],
   "source": [
    "data=[1,2,3,4,5,6,7,8,9,10,11,12,13,14,15]\n",
    "a=random.sample(data,6)\n",
    "print(a)"
   ]
  },
  {
   "cell_type": "code",
   "execution_count": 4,
   "metadata": {},
   "outputs": [
    {
     "name": "stdout",
     "output_type": "stream",
     "text": [
      "if a <= b ,then a<=N<=b,9.697602229846161\n",
      "if b < a ,then b<=N<=a,4.683083214785237\n",
      "set to return any float in range where a the maximum value and b is the maximum value\n"
     ]
    }
   ],
   "source": [
    "x=random.uniform(1.5,10)\n",
    "y=random.uniform(10,1.5)\n",
    "print(f\"if a <= b ,then a<=N<=b,{x}\")\n",
    "print(f\"if b < a ,then b<=N<=a,{y}\")\n",
    "print(f\"set to return any float in range where a the maximum value and b is the maximum value\")"
   ]
  },
  {
   "cell_type": "code",
   "execution_count": 5,
   "metadata": {},
   "outputs": [
    {
     "name": "stdout",
     "output_type": "stream",
     "text": [
      "31\n"
     ]
    }
   ],
   "source": [
    "x=random.randint(1,100)\n",
    "print(x)"
   ]
  },
  {
   "cell_type": "code",
   "execution_count": 6,
   "metadata": {},
   "outputs": [
    {
     "name": "stdout",
     "output_type": "stream",
     "text": [
      "49\n"
     ]
    }
   ],
   "source": [
    "x=random.randrange(1,100,2)\n",
    "print(x)"
   ]
  },
  {
   "cell_type": "code",
   "execution_count": 7,
   "metadata": {},
   "outputs": [
    {
     "name": "stdout",
     "output_type": "stream",
     "text": [
      "yo rolled 7\n"
     ]
    }
   ],
   "source": [
    "roll=random.randint(1,10)\n",
    "print(f\"yo rolled {roll}\")"
   ]
  },
  {
   "cell_type": "code",
   "execution_count": null,
   "metadata": {},
   "outputs": [],
   "source": []
  }
 ],
 "metadata": {
  "kernelspec": {
   "display_name": "Python 3",
   "language": "python",
   "name": "python3"
  },
  "language_info": {
   "codemirror_mode": {
    "name": "ipython",
    "version": 3
   },
   "file_extension": ".py",
   "mimetype": "text/x-python",
   "name": "python",
   "nbconvert_exporter": "python",
   "pygments_lexer": "ipython3",
   "version": "3.11.3"
  }
 },
 "nbformat": 4,
 "nbformat_minor": 2
}
