{
 "cells": [
  {
   "cell_type": "code",
   "execution_count": 1,
   "metadata": {},
   "outputs": [
    {
     "name": "stdout",
     "output_type": "stream",
     "text": [
      "yo 1\n",
      "yo 2\n",
      "yo 3\n",
      "yo 4\n",
      "yo 5\n",
      "yo 6\n",
      "yo 7\n",
      "yo 8\n",
      "yo 9\n",
      "yo 10\n"
     ]
    }
   ],
   "source": [
    "#time module\n",
    "import time\n",
    "for i in range(10):\n",
    "    print(f\"yo {i+1}\")\n",
    "    time.sleep(2)"
   ]
  },
  {
   "cell_type": "code",
   "execution_count": 3,
   "metadata": {},
   "outputs": [
    {
     "name": "stdout",
     "output_type": "stream",
     "text": [
      "1729245909.9048204\n"
     ]
    }
   ],
   "source": [
    "a=time.time()\n",
    "print(a)"
   ]
  },
  {
   "cell_type": "code",
   "execution_count": 4,
   "metadata": {},
   "outputs": [
    {
     "name": "stdout",
     "output_type": "stream",
     "text": [
      "Fri Oct 18 17:05:54 2024\n",
      "Fri Oct 18 17:05:55 2024\n",
      "Fri Oct 18 17:05:56 2024\n",
      "Fri Oct 18 17:05:57 2024\n",
      "Fri Oct 18 17:05:58 2024\n",
      "Fri Oct 18 17:05:59 2024\n",
      "Fri Oct 18 17:06:00 2024\n",
      "Fri Oct 18 17:06:01 2024\n",
      "Fri Oct 18 17:06:02 2024\n",
      "Fri Oct 18 17:06:03 2024\n"
     ]
    }
   ],
   "source": [
    "for i in range (10):\n",
    "    time.sleep(1)\n",
    "    print(time.ctime())"
   ]
  },
  {
   "cell_type": "code",
   "execution_count": null,
   "metadata": {},
   "outputs": [],
   "source": [
    "''' \n",
    "%a name of weeek\n",
    "%b name of month\n",
    "%d day of the month in decimal\n",
    "%Y year in decimal\n",
    "'''"
   ]
  },
  {
   "cell_type": "code",
   "execution_count": 5,
   "metadata": {},
   "outputs": [
    {
     "data": {
      "text/plain": [
       "'Fri 18 Oct 2024 17:10:05 +000 <built-in function gmtime>'"
      ]
     },
     "execution_count": 5,
     "metadata": {},
     "output_type": "execute_result"
    }
   ],
   "source": [
    "from time import gmtime,strftime\n",
    "strftime(f\"%a %d %b %Y %H:%M:%S +000 {gmtime}\")"
   ]
  }
 ],
 "metadata": {
  "kernelspec": {
   "display_name": "Python 3",
   "language": "python",
   "name": "python3"
  },
  "language_info": {
   "codemirror_mode": {
    "name": "ipython",
    "version": 3
   },
   "file_extension": ".py",
   "mimetype": "text/x-python",
   "name": "python",
   "nbconvert_exporter": "python",
   "pygments_lexer": "ipython3",
   "version": "3.11.3"
  }
 },
 "nbformat": 4,
 "nbformat_minor": 2
}
