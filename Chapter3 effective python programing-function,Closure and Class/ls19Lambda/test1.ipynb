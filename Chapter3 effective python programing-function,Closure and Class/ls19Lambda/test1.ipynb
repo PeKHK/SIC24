{
 "cells": [
  {
   "cell_type": "code",
   "execution_count": 1,
   "metadata": {},
   "outputs": [
    {
     "name": "stdout",
     "output_type": "stream",
     "text": [
      "Sum of 100 and 200: 300\n"
     ]
    }
   ],
   "source": [
    "#lambda expression\n",
    "#syntax normal function\n",
    "def add(x,y):\n",
    "    return x+y\n",
    "print('Sum of 100 and 200:',add(100,200))"
   ]
  },
  {
   "cell_type": "code",
   "execution_count": 2,
   "metadata": {},
   "outputs": [
    {
     "name": "stdout",
     "output_type": "stream",
     "text": [
      "Sum of 100 and 200: 300\n"
     ]
    }
   ],
   "source": [
    "#syntax normal function and function lambda\n",
    "add1=lambda x,y:x+y\n",
    "print('Sum of 100 and 200:',add1(100,200))"
   ]
  },
  {
   "cell_type": "code",
   "execution_count": 3,
   "metadata": {},
   "outputs": [
    {
     "name": "stdout",
     "output_type": "stream",
     "text": [
      "Sum of 100 and 200: 300\n"
     ]
    }
   ],
   "source": [
    "#no add function\n",
    "print('Sum of 100 and 200:',(lambda x,y:x+y)(100,200))"
   ]
  },
  {
   "cell_type": "code",
   "execution_count": 4,
   "metadata": {},
   "outputs": [
    {
     "name": "stdout",
     "output_type": "stream",
     "text": [
      "[1, 4, 9, 16, 25, 36, 49]\n"
     ]
    }
   ],
   "source": [
    "a=[1,2,3,4,5,6,7]\n",
    "square_a=list(map(lambda x:x**2,a))#map is like lambda\n",
    "print(square_a)"
   ]
  },
  {
   "cell_type": "code",
   "execution_count": null,
   "metadata": {},
   "outputs": [],
   "source": [
    "#filter,map,reduce\n",
    "#syntax of filter\n",
    "#filter(Tobeapplied_function, {iterable object})"
   ]
  },
  {
   "cell_type": "code",
   "execution_count": 5,
   "metadata": {},
   "outputs": [
    {
     "name": "stdout",
     "output_type": "stream",
     "text": [
      "adult list:\n",
      "34 39 20 54 "
     ]
    }
   ],
   "source": [
    "#use filter\n",
    "#return true for values over 19,and false for those that are not\n",
    "def adult_func(n):\n",
    "    if n>=19:\n",
    "        return True\n",
    "    else:\n",
    "        return False\n",
    "ages=[34,39,20,18,13,54]\n",
    "print('adult list:')\n",
    "for a in filter(adult_func,ages):#filter ages by using filter()\n",
    "    print(a,end=' ')"
   ]
  },
  {
   "cell_type": "code",
   "execution_count": 6,
   "metadata": {},
   "outputs": [
    {
     "name": "stdout",
     "output_type": "stream",
     "text": [
      "adult list:\n",
      "34 39 20 54 "
     ]
    }
   ],
   "source": [
    "#change adult_func to lambda\n",
    "ages=[34,39,20,18,13,54]\n",
    "print('adult list:')\n",
    "for a in filter(lambda x:x>=19,ages):#filter ages by using filter()\n",
    "    print(a,end=' ')"
   ]
  },
  {
   "cell_type": "code",
   "execution_count": 7,
   "metadata": {},
   "outputs": [
    {
     "name": "stdout",
     "output_type": "stream",
     "text": [
      "[1, 4, 9, 16, 25, 36, 49]\n"
     ]
    }
   ],
   "source": [
    "#calculaye pow of list\n",
    "a=[1,2,3,4,5,6,7]\n",
    "square_a=[]\n",
    "for n in a:\n",
    "    square_a.append(n**2)\n",
    "print(square_a)"
   ]
  },
  {
   "cell_type": "code",
   "execution_count": 8,
   "metadata": {},
   "outputs": [
    {
     "name": "stdout",
     "output_type": "stream",
     "text": [
      "[1, 4, 9, 16, 25, 36, 49]\n"
     ]
    }
   ],
   "source": [
    "#map\n",
    "def square(x):\n",
    "    return x**2\n",
    "a=[1,2,3,4,5,6,7]\n",
    "square_a=list(map(square,a))\n",
    "print(square_a)"
   ]
  },
  {
   "cell_type": "code",
   "execution_count": 9,
   "metadata": {},
   "outputs": [
    {
     "name": "stdout",
     "output_type": "stream",
     "text": [
      "[1, 4, 9, 16, 25, 36, 49]\n"
     ]
    }
   ],
   "source": [
    "#cambind map and lambda\n",
    "a=[1,2,3,4,5,6,7]\n",
    "square_a=list(map(lambda x:x**2,a))\n",
    "print(square_a)"
   ]
  },
  {
   "cell_type": "code",
   "execution_count": 10,
   "metadata": {},
   "outputs": [
    {
     "name": "stdout",
     "output_type": "stream",
     "text": [
      "10\n"
     ]
    }
   ],
   "source": [
    "#reduce function\n",
    "from functools import reduce\n",
    "a=[1,2,3,4]\n",
    "n=reduce(lambda x,y:x+y,a)\n",
    "print(n)"
   ]
  }
 ],
 "metadata": {
  "kernelspec": {
   "display_name": "Python 3",
   "language": "python",
   "name": "python3"
  },
  "language_info": {
   "codemirror_mode": {
    "name": "ipython",
    "version": 3
   },
   "file_extension": ".py",
   "mimetype": "text/x-python",
   "name": "python",
   "nbconvert_exporter": "python",
   "pygments_lexer": "ipython3",
   "version": "3.11.3"
  }
 },
 "nbformat": 4,
 "nbformat_minor": 2
}
