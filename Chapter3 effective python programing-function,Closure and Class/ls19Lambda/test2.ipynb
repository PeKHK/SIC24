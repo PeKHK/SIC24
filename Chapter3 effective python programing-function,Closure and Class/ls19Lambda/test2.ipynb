{
 "cells": [
  {
   "cell_type": "code",
   "execution_count": 1,
   "metadata": {},
   "outputs": [
    {
     "name": "stdout",
     "output_type": "stream",
     "text": [
      "error: division by zero\n"
     ]
    }
   ],
   "source": [
    "#try except\n",
    "try:\n",
    "    b=2/0\n",
    "    a=1+'hendred'\n",
    "except Exception as e:\n",
    "    print('error:',e)"
   ]
  },
  {
   "cell_type": "code",
   "execution_count": 2,
   "metadata": {},
   "outputs": [
    {
     "name": "stdout",
     "output_type": "stream",
     "text": [
      "divide 100 and 2:\n",
      "result: 50.0\n",
      "executeion complete\n",
      "divide 100 and 0:\n",
      "error by zero division\n",
      "executeion complete\n"
     ]
    }
   ],
   "source": [
    "def divide(x,y):\n",
    "    try:\n",
    "        result=x/y\n",
    "    except ZeroDivisionError:\n",
    "        print('error by zero division')\n",
    "    else:\n",
    "        print('result:',result)\n",
    "    finally:\n",
    "        print('executeion complete')\n",
    "print('divide 100 and 2:')\n",
    "divide(100,2)\n",
    "print('divide 100 and 0:')\n",
    "divide(100,0)"
   ]
  }
 ],
 "metadata": {
  "kernelspec": {
   "display_name": "Python 3",
   "language": "python",
   "name": "python3"
  },
  "language_info": {
   "codemirror_mode": {
    "name": "ipython",
    "version": 3
   },
   "file_extension": ".py",
   "mimetype": "text/x-python",
   "name": "python",
   "nbconvert_exporter": "python",
   "pygments_lexer": "ipython3",
   "version": "3.11.3"
  }
 },
 "nbformat": 4,
 "nbformat_minor": 2
}
