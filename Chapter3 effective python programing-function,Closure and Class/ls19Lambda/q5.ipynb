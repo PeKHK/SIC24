{
 "cells": [
  {
   "cell_type": "code",
   "execution_count": null,
   "metadata": {},
   "outputs": [],
   "source": [
    "scores =[100,90,95,90,80,70,0,80,90,90,0,90,100,75,20,30,50,90]\n",
    "def person_scores(scores,subject):\n",
    "    return [scores[i:i+subject]for i in range(0,len(scores),subject)]\n",
    "subject=3\n",
    "person=person_scores(scores,subject)"
   ]
  }
 ],
 "metadata": {
  "language_info": {
   "name": "python"
  }
 },
 "nbformat": 4,
 "nbformat_minor": 2
}
