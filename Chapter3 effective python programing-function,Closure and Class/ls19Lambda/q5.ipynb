{
 "cells": [
  {
   "cell_type": "code",
   "execution_count": 3,
   "metadata": {},
   "outputs": [
    {
     "name": "stdout",
     "output_type": "stream",
     "text": [
      "scores=[100, 90, 95, 90, 80, 70, 0, 80, 90, 90, 0, 90, 100, 75, 20, 30, 50, 90]\n",
      "the number of total student is 6\n",
      "the number o student with valid scores is 4\n",
      "[[100, 90, 95], [90, 80, 70], [100, 75, 20], [30, 50, 90]]\n"
     ]
    }
   ],
   "source": [
    "scores =[100,90,95,90,80,70,0,80,90,90,0,90,100,75,20,30,50,90]\n",
    "subject=3\n",
    "total_student=len(scores)//subject\n",
    "valid_scores=[]\n",
    "for i in range(total_student):\n",
    "    student_scores=scores[i*subject:(i+1)*subject]\n",
    "    if all(i !=0 for i in student_scores):\n",
    "        valid_scores.append(student_scores)\n",
    "student_pass=len(valid_scores)\n",
    "print(f'scores={scores}')\n",
    "print(f'the number of total student is {total_student}')\n",
    "print(f'the number o student with valid scores is {student_pass}')\n",
    "print(valid_scores)"
   ]
  }
 ],
 "metadata": {
  "kernelspec": {
   "display_name": "Python 3",
   "language": "python",
   "name": "python3"
  },
  "language_info": {
   "codemirror_mode": {
    "name": "ipython",
    "version": 3
   },
   "file_extension": ".py",
   "mimetype": "text/x-python",
   "name": "python",
   "nbconvert_exporter": "python",
   "pygments_lexer": "ipython3",
   "version": "3.11.3"
  }
 },
 "nbformat": 4,
 "nbformat_minor": 2
}
