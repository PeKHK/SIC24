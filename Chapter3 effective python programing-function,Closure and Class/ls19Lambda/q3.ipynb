{
 "cells": [
  {
   "cell_type": "code",
   "execution_count": 6,
   "metadata": {},
   "outputs": [
    {
     "name": "stdout",
     "output_type": "stream",
     "text": [
      "upper_a_list = ['A', 'B', 'C', 'D']\n"
     ]
    }
   ],
   "source": [
    "#use map to change a_list to be upper and get in upper_a_list, use to upper to get lower be parameter and return upper\n",
    "a_list=['a','b','c','d']\n",
    "upper_a_list=[]\n",
    "def to_upper(a_list):\n",
    "    return a_list.upper()\n",
    "upper_a_list=list(map(to_upper,a_list))\n",
    "print('upper_a_list =',upper_a_list)"
   ]
  }
 ],
 "metadata": {
  "kernelspec": {
   "display_name": "Python 3",
   "language": "python",
   "name": "python3"
  },
  "language_info": {
   "codemirror_mode": {
    "name": "ipython",
    "version": 3
   },
   "file_extension": ".py",
   "mimetype": "text/x-python",
   "name": "python",
   "nbconvert_exporter": "python",
   "pygments_lexer": "ipython3",
   "version": "3.11.3"
  }
 },
 "nbformat": 4,
 "nbformat_minor": 2
}
