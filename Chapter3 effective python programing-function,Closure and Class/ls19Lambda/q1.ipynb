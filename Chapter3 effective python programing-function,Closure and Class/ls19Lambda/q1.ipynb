{
 "cells": [
  {
   "cell_type": "code",
   "execution_count": 1,
   "metadata": {},
   "outputs": [
    {
     "name": "stdout",
     "output_type": "stream",
     "text": [
      "even_list= [2, 4, 6, 8, 10]\n"
     ]
    }
   ],
   "source": [
    "#use filter and lambda to find even number\n",
    "n_list=[1,2,3,4,5,6,7,8,9,10]\n",
    "even_list=[]\n",
    "for n in filter(lambda x:x%2==0,n_list):\n",
    "    even_list.append(n)\n",
    "print('even_list=',even_list)"
   ]
  }
 ],
 "metadata": {
  "kernelspec": {
   "display_name": "Python 3",
   "language": "python",
   "name": "python3"
  },
  "language_info": {
   "codemirror_mode": {
    "name": "ipython",
    "version": 3
   },
   "file_extension": ".py",
   "mimetype": "text/x-python",
   "name": "python",
   "nbconvert_exporter": "python",
   "pygments_lexer": "ipython3",
   "version": "3.11.3"
  }
 },
 "nbformat": 4,
 "nbformat_minor": 2
}
