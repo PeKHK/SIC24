{
 "cells": [
  {
   "cell_type": "code",
   "execution_count": 1,
   "metadata": {},
   "outputs": [
    {
     "name": "stdout",
     "output_type": "stream",
     "text": [
      "meow meow~~\n"
     ]
    }
   ],
   "source": [
    "#clss,constructor and self parameter\n",
    "#use method and self\n",
    "class Cat:\n",
    "    def meow(self):\n",
    "        print('meow meow~~')\n",
    "nabi=Cat()\n",
    "nabi.meow()"
   ]
  },
  {
   "cell_type": "code",
   "execution_count": 2,
   "metadata": {},
   "outputs": [
    {
     "name": "stdout",
     "output_type": "stream",
     "text": [
      "meow meow~~\n",
      "meow meow~~\n"
     ]
    }
   ],
   "source": [
    "#syntax to use method\n",
    "nero=Cat()\n",
    "nero.meow()#nero object using meow\n",
    "mimi=Cat()\n",
    "mimi.meow()#mimi object using meow"
   ]
  },
  {
   "cell_type": "code",
   "execution_count": 4,
   "metadata": {},
   "outputs": [
    {
     "name": "stdout",
     "output_type": "stream",
     "text": [
      "Cat(name=nabi,color=black)\n",
      "Cat(name=nero,color=white)\n"
     ]
    }
   ],
   "source": [
    "#class and __init__,__str__\n",
    "class Cat1:\n",
    "    def __init__(self,name,color):#read value when cat instance created\n",
    "        self.name=name\n",
    "        self.color=color\n",
    "    \n",
    "    def __str__(self):#method display sting in Cat class\n",
    "        return 'Cat(name='+self.name+',color='+self.color+')'\n",
    "    \n",
    "nabi=Cat1('nabi','black')#generate instance\n",
    "nero=Cat1('nero','white')\n",
    "print(nabi)\n",
    "print(nero)"
   ]
  },
  {
   "cell_type": "code",
   "execution_count": 5,
   "metadata": {},
   "outputs": [
    {
     "name": "stdout",
     "output_type": "stream",
     "text": [
      "My name is nabi, color is black,meow meow~~\n",
      "My name is nero, color is white,meow meow~~\n",
      "My name is mimi, color is brown,meow meow~~\n"
     ]
    }
   ],
   "source": [
    "#method and code using method\n",
    "class Cat2:\n",
    "    def __init__(self,name,color):#read value when cat instance created\n",
    "        self.name=name\n",
    "        self.color=color\n",
    "    \n",
    "    def meow(self):#method display\n",
    "        print(f'My name is {self.name}, color is {self.color},meow meow~~')\n",
    "\n",
    "nabi=Cat2('nabi','black')#generate instance\n",
    "nero=Cat2('nero','white')\n",
    "mimi=Cat2('mimi','brown')\n",
    "nabi.meow()\n",
    "nero.meow()\n",
    "mimi.meow()"
   ]
  }
 ],
 "metadata": {
  "kernelspec": {
   "display_name": "Python 3",
   "language": "python",
   "name": "python3"
  },
  "language_info": {
   "codemirror_mode": {
    "name": "ipython",
    "version": 3
   },
   "file_extension": ".py",
   "mimetype": "text/x-python",
   "name": "python",
   "nbconvert_exporter": "python",
   "pygments_lexer": "ipython3",
   "version": "3.11.3"
  }
 },
 "nbformat": 4,
 "nbformat_minor": 2
}
