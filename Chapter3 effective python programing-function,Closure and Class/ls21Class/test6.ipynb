{
 "cells": [
  {
   "cell_type": "code",
   "execution_count": 1,
   "metadata": {},
   "outputs": [
    {
     "name": "stdout",
     "output_type": "stream",
     "text": [
      "a is not b\n"
     ]
    }
   ],
   "source": [
    "#object identity operator:is,is not\n",
    "#referring identical object via object's id\n",
    "lsta=[10,20,30]\n",
    "lstb=[10,20,30]\n",
    "if lsta is lstb:\n",
    "    print('a is b')\n",
    "else:\n",
    "    print('a is not b')"
   ]
  },
  {
   "cell_type": "code",
   "execution_count": 2,
   "metadata": {},
   "outputs": [
    {
     "name": "stdout",
     "output_type": "stream",
     "text": [
      "a is b\n"
     ]
    }
   ],
   "source": [
    "a='ABC'\n",
    "b='ABC'\n",
    "if a is b:\n",
    "    print('a is b')\n",
    "else:\n",
    "    print('a is not b')"
   ]
  },
  {
   "cell_type": "code",
   "execution_count": 3,
   "metadata": {},
   "outputs": [
    {
     "name": "stdout",
     "output_type": "stream",
     "text": [
      "v1.add(v2)= (40,60)\n"
     ]
    }
   ],
   "source": [
    "#class and special method\n",
    "class Vector2D:\n",
    "    def __init__(self,x,y):\n",
    "        self.x=x\n",
    "        self.y=y\n",
    "    def __str__(self):\n",
    "        return \"({},{})\".format(self.x,self.y)\n",
    "    def add(self,other):\n",
    "        return Vector2D(self.x+other.x,self.y+other.y)\n",
    "    \n",
    "v1=Vector2D(30,40)\n",
    "v2=Vector2D(10,20)\n",
    "v3=v1.add(v2)\n",
    "print('v1.add(v2)=',v3)\n"
   ]
  },
  {
   "cell_type": "code",
   "execution_count": 4,
   "metadata": {},
   "outputs": [
    {
     "name": "stdout",
     "output_type": "stream",
     "text": [
      "v1 + v2= (40,60)\n",
      "v1 - v2= (20,20)\n"
     ]
    }
   ],
   "source": [
    "class Vector2D:\n",
    "    def __init__(self,x,y):\n",
    "        self.x=x\n",
    "        self.y=y\n",
    "    def __str__(self):\n",
    "        return \"({},{})\".format(self.x,self.y)\n",
    "    def __add__(self,other):\n",
    "        return Vector2D(self.x+other.x,self.y+other.y)\n",
    "    def __sub__(self,other):\n",
    "        return Vector2D(self.x-other.x,self.y-other.y)\n",
    "v1=Vector2D(30,40)\n",
    "v2=Vector2D(10,20)\n",
    "v3=v1 +v2\n",
    "v4=v1-v2\n",
    "print('v1 + v2=',v3)\n",
    "print('v1 - v2=',v4)"
   ]
  },
  {
   "cell_type": "code",
   "execution_count": 5,
   "metadata": {},
   "outputs": [
    {
     "name": "stdout",
     "output_type": "stream",
     "text": [
      "140724038004616\n",
      "140724038004616\n"
     ]
    }
   ],
   "source": [
    "n=100\n",
    "m=100\n",
    "print(id(m))\n",
    "print(id(n))"
   ]
  },
  {
   "cell_type": "code",
   "execution_count": 6,
   "metadata": {},
   "outputs": [
    {
     "data": {
      "text/plain": [
       "140724038004616"
      ]
     },
     "execution_count": 6,
     "metadata": {},
     "output_type": "execute_result"
    }
   ],
   "source": [
    "#assignment operator\n",
    "n=100\n",
    "id(n)"
   ]
  },
  {
   "cell_type": "code",
   "execution_count": 7,
   "metadata": {},
   "outputs": [
    {
     "data": {
      "text/plain": [
       "140724038004648"
      ]
     },
     "execution_count": 7,
     "metadata": {},
     "output_type": "execute_result"
    }
   ],
   "source": [
    "n=n+1\n",
    "id(n)"
   ]
  },
  {
   "cell_type": "code",
   "execution_count": null,
   "metadata": {},
   "outputs": [],
   "source": [
    "#class inheritance\n",
    "class Person:\n",
    "    def __init__(self,name):\n",
    "        self.name=name\n",
    "    def get_name(self):\n",
    "        return self.name\n",
    "    \n",
    "class Employee(Person):\n",
    "    def __init__(self,name,staff_id):\n",
    "        person.__init__(self,name)\n",
    "        self.staff_id=staff_id\n",
    "    def info(self):\n",
    "        return 'staff:'+self.get_name()+',staff ID:'+str(self.staff_id)\n",
    "class Manager(Person):\n",
    "    def __init__(self, name,position):\n",
    "        pass\n"
   ]
  }
 ],
 "metadata": {
  "kernelspec": {
   "display_name": "Python 3",
   "language": "python",
   "name": "python3"
  },
  "language_info": {
   "codemirror_mode": {
    "name": "ipython",
    "version": 3
   },
   "file_extension": ".py",
   "mimetype": "text/x-python",
   "name": "python",
   "nbconvert_exporter": "python",
   "pygments_lexer": "ipython3",
   "version": "3.11.3"
  }
 },
 "nbformat": 4,
 "nbformat_minor": 2
}
