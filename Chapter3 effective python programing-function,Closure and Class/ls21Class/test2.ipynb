{
 "cells": [
  {
   "cell_type": "code",
   "execution_count": 1,
   "metadata": {},
   "outputs": [],
   "source": [
    "#different instance and object\n",
    "#syntax class\n",
    "class Cat:\n",
    "    def __init__(self,name,color):#attributes\n",
    "        pass\n",
    "    \n",
    "    #action\n",
    "    def meow(self):\n",
    "        pass\n",
    "    def run(self):\n",
    "        pass\n",
    "    def walk(self):\n",
    "        pass\n",
    "\n",
    "nabi=Cat('nabi','black')#generate instance nabi\n",
    "nero=Cat('nero','white')#generate instance nero"
   ]
  },
  {
   "cell_type": "code",
   "execution_count": 2,
   "metadata": {},
   "outputs": [
    {
     "name": "stdout",
     "output_type": "stream",
     "text": [
      "<__main__.Cat object at 0x0000021204B5C890>\n"
     ]
    }
   ],
   "source": [
    "print(nabi)"
   ]
  }
 ],
 "metadata": {
  "kernelspec": {
   "display_name": "Python 3",
   "language": "python",
   "name": "python3"
  },
  "language_info": {
   "codemirror_mode": {
    "name": "ipython",
    "version": 3
   },
   "file_extension": ".py",
   "mimetype": "text/x-python",
   "name": "python",
   "nbconvert_exporter": "python",
   "pygments_lexer": "ipython3",
   "version": "3.11.3"
  }
 },
 "nbformat": 4,
 "nbformat_minor": 2
}
