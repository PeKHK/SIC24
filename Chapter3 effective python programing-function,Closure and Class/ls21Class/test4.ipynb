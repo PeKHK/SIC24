{
 "cells": [
  {
   "cell_type": "code",
   "execution_count": 4,
   "metadata": {},
   "outputs": [
    {
     "name": "stdout",
     "output_type": "stream",
     "text": [
      "Area of c1: 50.24\n",
      "Area of c2: 113.076\n",
      "Area of c3: 78.53750000000001\n"
     ]
    }
   ],
   "source": [
    "#class and method variable\n",
    "#instance variable\n",
    "class Circles:\n",
    "    def __init__(self,name,radius,PI):\n",
    "        self.__name=name#instance variable\n",
    "        self.__radius=radius#instance variable\n",
    "        self.__PI=PI#instance variable\n",
    "    \n",
    "    def area(self):#compute\n",
    "        return self.__PI * self.__radius ** 2\n",
    "\n",
    "c1=Circles(\"C1\",4,3.14)\n",
    "print(\"Area of c1:\",c1.area())\n",
    "c2=Circles(\"C2\",6,3.141)\n",
    "print(\"Area of c2:\",c2.area())\n",
    "c3=Circles(\"C3\",5,3.1415)\n",
    "print(\"Area of c3:\",c3.area())"
   ]
  },
  {
   "cell_type": "code",
   "execution_count": 5,
   "metadata": {},
   "outputs": [
    {
     "name": "stdout",
     "output_type": "stream",
     "text": [
      "Area of c1: 50.264\n",
      "Area of c2: 113.09400000000001\n",
      "Area of c3: 78.53750000000001\n"
     ]
    }
   ],
   "source": [
    "#class variable\n",
    "class Circle2:\n",
    "    PI=3.1415#class variable\n",
    "    def __init__(self,name,radius):\n",
    "        self.__name=name#instance variable\n",
    "        self.__radius=radius#instance variable\n",
    "    \n",
    "    def area(self):#compute\n",
    "        return Circle2.PI * self.__radius ** 2\n",
    "\n",
    "c1=Circle2(\"C1\",4)\n",
    "print(\"Area of c1:\",c1.area())\n",
    "c2=Circle2(\"C2\",6)\n",
    "print(\"Area of c2:\",c2.area())\n",
    "c3=Circle2(\"C3\",5)\n",
    "print(\"Area of c3:\",c3.area())"
   ]
  },
  {
   "cell_type": "code",
   "execution_count": 7,
   "metadata": {},
   "outputs": [
    {
     "name": "stdout",
     "output_type": "stream",
     "text": [
      "Attribute of c1: {'name': 'C1', 'radius': 7}\n",
      "Value of c1's name variable: C1\n",
      "Value of c1's radius variable: 7\n"
     ]
    }
   ],
   "source": [
    "#__dict__ class object\n",
    "class Circle3:\n",
    "    PI=3.14\n",
    "    def __init__(self,name,radius):\n",
    "        self.name=name\n",
    "        self.radius=radius\n",
    "\n",
    "c1=Circle3('C1',7)\n",
    "print('Attribute of c1:',c1.__dict__)\n",
    "#obtain value with dic__[key] foramt\n",
    "print(\"Value of c1's name variable:\",c1.__dict__['name'])\n",
    "print(\"Value of c1's radius variable:\",c1.__dict__['radius'])"
   ]
  },
  {
   "cell_type": "code",
   "execution_count": 12,
   "metadata": {},
   "outputs": [
    {
     "name": "stdout",
     "output_type": "stream",
     "text": [
      "Attribute of c1: {'_Circle__name': 'C1', '_Circle__radius': 7}\n"
     ]
    },
    {
     "ename": "KeyError",
     "evalue": "'Circle__name'",
     "output_type": "error",
     "traceback": [
      "\u001b[1;31m---------------------------------------------------------------------------\u001b[0m",
      "\u001b[1;31mKeyError\u001b[0m                                  Traceback (most recent call last)",
      "Cell \u001b[1;32mIn[12], line 11\u001b[0m\n\u001b[0;32m      9\u001b[0m \u001b[38;5;28mprint\u001b[39m(\u001b[38;5;124m\"\u001b[39m\u001b[38;5;124mAttribute of c1:\u001b[39m\u001b[38;5;124m\"\u001b[39m,c1\u001b[38;5;241m.\u001b[39m\u001b[38;5;18m__dict__\u001b[39m)\n\u001b[0;32m     10\u001b[0m \u001b[38;5;66;03m#obtain value with dic__[key] foramt\u001b[39;00m\n\u001b[1;32m---> 11\u001b[0m \u001b[38;5;28mprint\u001b[39m(\u001b[38;5;124m\"\u001b[39m\u001b[38;5;124mValue of c1\u001b[39m\u001b[38;5;124m'\u001b[39m\u001b[38;5;124ms name variable:\u001b[39m\u001b[38;5;124m\"\u001b[39m,\u001b[43mc1\u001b[49m\u001b[38;5;241;43m.\u001b[39;49m\u001b[38;5;18;43m__dict__\u001b[39;49m\u001b[43m[\u001b[49m\u001b[38;5;124;43m'\u001b[39;49m\u001b[38;5;124;43mCircle__name\u001b[39;49m\u001b[38;5;124;43m'\u001b[39;49m\u001b[43m]\u001b[49m)\n\u001b[0;32m     12\u001b[0m \u001b[38;5;28mprint\u001b[39m(\u001b[38;5;124m\"\u001b[39m\u001b[38;5;124mValue of c1\u001b[39m\u001b[38;5;124m'\u001b[39m\u001b[38;5;124ms radius variable:\u001b[39m\u001b[38;5;124m\"\u001b[39m,c1\u001b[38;5;241m.\u001b[39m\u001b[38;5;18m__dict__\u001b[39m[\u001b[38;5;124m'\u001b[39m\u001b[38;5;124mCircle__radius\u001b[39m\u001b[38;5;124m'\u001b[39m])\n",
      "\u001b[1;31mKeyError\u001b[0m: 'Circle__name'"
     ]
    }
   ],
   "source": [
    "#__dict__ class object has instance variable\n",
    "class Circle:\n",
    "    PI=3.14\n",
    "    def __init__(self,name,radius):\n",
    "        self.__name=name\n",
    "        self.__radius=radius\n",
    "\n",
    "c1=Circle(\"C1\",7)\n",
    "print(\"Attribute of c1:\",c1.__dict__)\n",
    "#obtain value with dic__[key] foramt\n",
    "print(\"Value of c1's name variable:\",c1.__dict__['Circle__name'])\n",
    "print(\"Value of c1's radius variable:\",c1.__dict__['Circle__radius'])"
   ]
  }
 ],
 "metadata": {
  "kernelspec": {
   "display_name": "Python 3",
   "language": "python",
   "name": "python3"
  },
  "language_info": {
   "codemirror_mode": {
    "name": "ipython",
    "version": 3
   },
   "file_extension": ".py",
   "mimetype": "text/x-python",
   "name": "python",
   "nbconvert_exporter": "python",
   "pygments_lexer": "ipython3",
   "version": "3.11.3"
  }
 },
 "nbformat": 4,
 "nbformat_minor": 2
}
