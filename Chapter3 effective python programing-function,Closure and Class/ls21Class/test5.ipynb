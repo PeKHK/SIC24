{
 "cells": [
  {
   "cell_type": "code",
   "execution_count": 1,
   "metadata": {},
   "outputs": [
    {
     "name": "stdout",
     "output_type": "stream",
     "text": [
      "a.PI= 3.14\n",
      "b.PI= 3.14\n"
     ]
    }
   ],
   "source": [
    "#class inheritance\n",
    "class A:\n",
    "    PI=3.14\n",
    "class B(A):\n",
    "    pass\n",
    "\n",
    "a=A()\n",
    "b=B()\n",
    "print('a.PI=',a.PI)\n",
    "print('b.PI=',b.PI)"
   ]
  },
  {
   "cell_type": "code",
   "execution_count": 2,
   "metadata": {},
   "outputs": [
    {
     "name": "stdout",
     "output_type": "stream",
     "text": [
      "Cat(name=nabi,age=3)\n",
      "Cat(name=nabi,age=4)\n",
      "Cat(name=nabi,age=-5)\n"
     ]
    }
   ],
   "source": [
    "#encapsulation\n",
    "class Cat:\n",
    "    def __init__(self,name,age):\n",
    "        self.name=name\n",
    "        self.age=age\n",
    "\n",
    "    def __str__(self):\n",
    "        return 'Cat(name='+self.name+',age='+str(self.age)+')'\n",
    "nabi=Cat('nabi',3)\n",
    "print(nabi)\n",
    "nabi.age=4\n",
    "print(nabi)\n",
    "nabi.age=-5\n",
    "print(nabi)#syntax error but logical problem that occurred bcuz value were not protected"
   ]
  },
  {
   "cell_type": "code",
   "execution_count": 5,
   "metadata": {},
   "outputs": [
    {
     "name": "stdout",
     "output_type": "stream",
     "text": [
      "Cat(name=nabi,age=3)\n",
      "Cat(name=nabi,age=4)\n",
      "Cat(name=nabi,age=4)\n"
     ]
    }
   ],
   "source": [
    "class Cat1:\n",
    "    def __init__(self,name,age):\n",
    "        self.__name=name\n",
    "        self.__age=age\n",
    "\n",
    "    def __str__(self):\n",
    "        return 'Cat(name='+self.__name+',age='+str(self.__age)+')'\n",
    "    \n",
    "    def set_age(self,age):#age canbe negative\n",
    "        if age>0:\n",
    "            self.__age=age\n",
    "    \n",
    "    def get_age(self):\n",
    "        return self.__age\n",
    "\n",
    "nabi=Cat1('nabi',3)\n",
    "print(nabi)\n",
    "nabi.set_age(4)\n",
    "print(nabi)\n",
    "nabi.set_age(-5)#now is canbe negative\n",
    "print(nabi)"
   ]
  }
 ],
 "metadata": {
  "kernelspec": {
   "display_name": "Python 3",
   "language": "python",
   "name": "python3"
  },
  "language_info": {
   "codemirror_mode": {
    "name": "ipython",
    "version": 3
   },
   "file_extension": ".py",
   "mimetype": "text/x-python",
   "name": "python",
   "nbconvert_exporter": "python",
   "pygments_lexer": "ipython3",
   "version": "3.11.3"
  }
 },
 "nbformat": 4,
 "nbformat_minor": 2
}
