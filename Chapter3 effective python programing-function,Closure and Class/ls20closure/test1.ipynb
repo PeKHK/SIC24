{
 "cells": [
  {
   "cell_type": "code",
   "execution_count": 2,
   "metadata": {},
   "outputs": [
    {
     "name": "stdout",
     "output_type": "stream",
     "text": [
      "maximum  9765\n",
      "minimum  1531\n",
      "between  8234\n",
      "average  4422.75\n"
     ]
    }
   ],
   "source": [
    "#find the maximum population\n",
    "def urban(city):\n",
    "    global max_pop,min_pop,pop_sum\n",
    "    n=0\n",
    "    for name,pop in city.items():\n",
    "        if pop > max_pop:\n",
    "            max_pop=pop\n",
    "        if pop<min_pop:\n",
    "            min_pop = pop\n",
    "        pop_sum += pop\n",
    "        n+=1\n",
    "    print('maximum ',max_pop)\n",
    "    print('minimum ',min_pop)\n",
    "    print('between ',max_pop-min_pop)\n",
    "    print('average ',pop_sum/n)\n",
    "max_pop=0\n",
    "min_pop=1000000\n",
    "pop_sum=0\n",
    "\n",
    "city_pop={'A':9765,'B':3441,'C':2954,'D':1531}\n",
    "urban(city_pop)"
   ]
  },
  {
   "cell_type": "code",
   "execution_count": 3,
   "metadata": {},
   "outputs": [
    {
     "name": "stdout",
     "output_type": "stream",
     "text": [
      "30 20 11\n",
      "30 40 11\n"
     ]
    }
   ],
   "source": [
    "#space of python\n",
    "x=10\n",
    "y=11\n",
    "def foo():\n",
    "    x=20\n",
    "    def bar():\n",
    "        a=30\n",
    "        print(a,x,y)\n",
    "    bar()\n",
    "    x=40\n",
    "    bar()\n",
    "\n",
    "foo()"
   ]
  },
  {
   "cell_type": "code",
   "execution_count": 4,
   "metadata": {},
   "outputs": [
    {
     "name": "stdout",
     "output_type": "stream",
     "text": [
      "couter = 200\n",
      "couter= 100\n"
     ]
    }
   ],
   "source": [
    "def print_counter():\n",
    "    counter=200\n",
    "    print('couter =',counter)\n",
    "\n",
    "couter = 100\n",
    "print_counter()\n",
    "print('couter=',couter)"
   ]
  },
  {
   "cell_type": "code",
   "execution_count": 8,
   "metadata": {},
   "outputs": [
    {
     "name": "stdout",
     "output_type": "stream",
     "text": [
      "couter = 200\n",
      "couter= 200\n"
     ]
    }
   ],
   "source": [
    "#use global\n",
    "def print_counter1():\n",
    "    global counter\n",
    "    counter=200\n",
    "    print('couter =',counter)\n",
    "\n",
    "counter = 100\n",
    "print_counter1()\n",
    "print('couter=',counter)"
   ]
  },
  {
   "cell_type": "code",
   "execution_count": 12,
   "metadata": {},
   "outputs": [
    {
     "name": "stdout",
     "output_type": "stream",
     "text": [
      "callfunc(greet) function call\n",
      "hello\n"
     ]
    }
   ],
   "source": [
    "#first class function\n",
    "def callfunc(func):\n",
    "    func()\n",
    "def greet():\n",
    "    print('hello')\n",
    "\n",
    "print('callfunc(greet) function call')\n",
    "callfunc(greet)"
   ]
  },
  {
   "cell_type": "code",
   "execution_count": 9,
   "metadata": {},
   "outputs": [
    {
     "name": "stdout",
     "output_type": "stream",
     "text": [
      "a= 300\n",
      "b= -100\n"
     ]
    }
   ],
   "source": [
    "#first class function\n",
    "def plus(a,b):\n",
    "    return a+b\n",
    "def minus(a,b):\n",
    "    return a-b\n",
    "nlist=[plus,minus]\n",
    "a=nlist[0](100,200)\n",
    "b=nlist[1](100,200)\n",
    "print('a=',a)\n",
    "print('b=',b)"
   ]
  },
  {
   "cell_type": "code",
   "execution_count": 11,
   "metadata": {},
   "outputs": [
    {
     "data": {
      "text/plain": [
       "7"
      ]
     },
     "execution_count": 11,
     "metadata": {},
     "output_type": "execute_result"
    }
   ],
   "source": [
    "#hight level function built by irst class function\n",
    "def add(a,b):\n",
    "    return a+b\n",
    "def f(g,a,b):\n",
    "    return g(a,b)\n",
    "f(add,3,4)"
   ]
  }
 ],
 "metadata": {
  "kernelspec": {
   "display_name": "Python 3",
   "language": "python",
   "name": "python3"
  },
  "language_info": {
   "codemirror_mode": {
    "name": "ipython",
    "version": 3
   },
   "file_extension": ".py",
   "mimetype": "text/x-python",
   "name": "python",
   "nbconvert_exporter": "python",
   "pygments_lexer": "ipython3",
   "version": "3.11.3"
  }
 },
 "nbformat": 4,
 "nbformat_minor": 2
}
