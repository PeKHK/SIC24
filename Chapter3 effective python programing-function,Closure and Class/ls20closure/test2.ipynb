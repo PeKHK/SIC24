{
 "cells": [
  {
   "cell_type": "code",
   "execution_count": 1,
   "metadata": {},
   "outputs": [
    {
     "name": "stdout",
     "output_type": "stream",
     "text": [
      "<i>hello</i>\n",
      "<b>hello</b>\n"
     ]
    }
   ],
   "source": [
    "#outer function and nested function\n",
    "#nested function\n",
    "def decorate(style='italic'):\n",
    "    def italic(s):\n",
    "        return '<i>'+s+'</i>'\n",
    "    def bold(s):\n",
    "        return '<b>'+s+'</b>'\n",
    "    if style == 'italic':\n",
    "        return italic\n",
    "    else:\n",
    "        return bold\n",
    "dec=decorate()\n",
    "print(dec('hello'))\n",
    "dec2=decorate('bold')\n",
    "print(dec2('hello'))"
   ]
  },
  {
   "cell_type": "code",
   "execution_count": 6,
   "metadata": {},
   "outputs": [
    {
     "name": "stdout",
     "output_type": "stream",
     "text": [
      "hello\n"
     ]
    }
   ],
   "source": [
    "def anather_func():\n",
    "    print(\"hello\")\n",
    "def outer_func():\n",
    "    return anather_func()\n",
    "outer_func()"
   ]
  }
 ],
 "metadata": {
  "kernelspec": {
   "display_name": "Python 3",
   "language": "python",
   "name": "python3"
  },
  "language_info": {
   "codemirror_mode": {
    "name": "ipython",
    "version": 3
   },
   "file_extension": ".py",
   "mimetype": "text/x-python",
   "name": "python",
   "nbconvert_exporter": "python",
   "pygments_lexer": "ipython3",
   "version": "3.11.3"
  }
 },
 "nbformat": 4,
 "nbformat_minor": 2
}
