{
 "cells": [
  {
   "cell_type": "code",
   "execution_count": 3,
   "metadata": {},
   "outputs": [
    {
     "name": "stdout",
     "output_type": "stream",
     "text": [
      "[5, 7, 10, 14, 15, 20, 21, 25, 28, 30, 35, 35, 40, 42, 45, 49, 50, 55, 56, 60, 63, 65, 70, 70, 75, 77, 80, 84, 85, 90, 91, 95, 98, 100]\n"
     ]
    }
   ],
   "source": [
    "lst=list(range(1,101))\n",
    "def func1(a):\n",
    "    def func2():\n",
    "        result1=[]\n",
    "        for i in a:\n",
    "            if i % 5 ==0:\n",
    "                result1.append(i)\n",
    "        return result1\n",
    "    \n",
    "    def func3():\n",
    "        result2=[]\n",
    "        for i in a:\n",
    "            if i % 7==0:\n",
    "                result2.append(i)\n",
    "        return result2\n",
    "    result=func2()+func3()\n",
    "    return result\n",
    "n=func1(lst)\n",
    "n=sorted(n)\n",
    "print(n)"
   ]
  }
 ],
 "metadata": {
  "kernelspec": {
   "display_name": "Python 3",
   "language": "python",
   "name": "python3"
  },
  "language_info": {
   "codemirror_mode": {
    "name": "ipython",
    "version": 3
   },
   "file_extension": ".py",
   "mimetype": "text/x-python",
   "name": "python",
   "nbconvert_exporter": "python",
   "pygments_lexer": "ipython3",
   "version": "3.11.3"
  }
 },
 "nbformat": 4,
 "nbformat_minor": 2
}
