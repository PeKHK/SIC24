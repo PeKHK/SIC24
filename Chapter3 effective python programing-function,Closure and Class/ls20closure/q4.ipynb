{
 "cells": [
  {
   "cell_type": "code",
   "execution_count": 6,
   "metadata": {},
   "outputs": [
    {
     "ename": "TypeError",
     "evalue": "func1() missing 1 required positional argument: 'a'",
     "output_type": "error",
     "traceback": [
      "\u001b[1;31m---------------------------------------------------------------------------\u001b[0m",
      "\u001b[1;31mTypeError\u001b[0m                                 Traceback (most recent call last)",
      "Cell \u001b[1;32mIn[6], line 19\u001b[0m\n\u001b[0;32m     17\u001b[0m     func2()\n\u001b[0;32m     18\u001b[0m     func3()\n\u001b[1;32m---> 19\u001b[0m n\u001b[38;5;241m=\u001b[39m\u001b[43mfunc1\u001b[49m\u001b[43m(\u001b[49m\u001b[43m)\u001b[49m\n\u001b[0;32m     20\u001b[0m \u001b[38;5;28mprint\u001b[39m(n(lst))\n",
      "\u001b[1;31mTypeError\u001b[0m: func1() missing 1 required positional argument: 'a'"
     ]
    }
   ],
   "source": [
    "lst=list[range(1,101)]\n",
    "def func1(a):\n",
    "    a=lst\n",
    "    def func2():\n",
    "        result1=[]\n",
    "        for i in a:\n",
    "            if i % 5 ==0:\n",
    "                result1.append(i)\n",
    "        return result1\n",
    "    \n",
    "    def func3():\n",
    "        result2=[]\n",
    "        for i in a:\n",
    "            if i % 7==0:\n",
    "                result2.append(i)\n",
    "        return result2\n",
    "    func2()\n",
    "    func3()\n",
    "n=func1()\n",
    "print(n(lst))"
   ]
  }
 ],
 "metadata": {
  "kernelspec": {
   "display_name": "Python 3",
   "language": "python",
   "name": "python3"
  },
  "language_info": {
   "codemirror_mode": {
    "name": "ipython",
    "version": 3
   },
   "file_extension": ".py",
   "mimetype": "text/x-python",
   "name": "python",
   "nbconvert_exporter": "python",
   "pygments_lexer": "ipython3",
   "version": "3.11.3"
  }
 },
 "nbformat": 4,
 "nbformat_minor": 2
}
