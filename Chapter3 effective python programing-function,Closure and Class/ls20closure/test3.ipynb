{
 "cells": [
  {
   "cell_type": "code",
   "execution_count": 1,
   "metadata": {},
   "outputs": [
    {
     "name": "stdout",
     "output_type": "stream",
     "text": [
      "2\n"
     ]
    }
   ],
   "source": [
    "#global\n",
    "n1=1\n",
    "def func1():\n",
    "    def func2():\n",
    "        global n1\n",
    "        n1 +=1\n",
    "        print(n1)\n",
    "    func2()\n",
    "func1()"
   ]
  },
  {
   "cell_type": "code",
   "execution_count": 2,
   "metadata": {},
   "outputs": [
    {
     "name": "stdout",
     "output_type": "stream",
     "text": [
      "2\n"
     ]
    }
   ],
   "source": [
    "#nonlocal\n",
    "def func1():\n",
    "    n3=1\n",
    "    def func2():\n",
    "        nonlocal n3\n",
    "        n3 +=1\n",
    "        print(n3)\n",
    "    func2()\n",
    "func1()"
   ]
  },
  {
   "cell_type": "code",
   "execution_count": 3,
   "metadata": {},
   "outputs": [
    {
     "name": "stdout",
     "output_type": "stream",
     "text": [
      "80\n",
      "20\n"
     ]
    }
   ],
   "source": [
    "#nonlocal amd binding\n",
    "x=20\n",
    "def f():\n",
    "    x=40\n",
    "    def g():\n",
    "        nonlocal x\n",
    "        x=80\n",
    "    g()\n",
    "    print(x)\n",
    "f()\n",
    "print(x)"
   ]
  },
  {
   "cell_type": "code",
   "execution_count": 4,
   "metadata": {},
   "outputs": [
    {
     "name": "stdout",
     "output_type": "stream",
     "text": [
      "[level 2] a=333\n",
      "[level 1] a=777\n"
     ]
    }
   ],
   "source": [
    "#find variable is not local variable\n",
    "def f():\n",
    "    a=777\n",
    "    def g():\n",
    "        a=100\n",
    "        def h():\n",
    "            nonlocal a\n",
    "            a=333\n",
    "        h()\n",
    "        print(f'[level 2] a={a}')\n",
    "    g()\n",
    "    print(f'[level 1] a={a}')\n",
    "f()"
   ]
  }
 ],
 "metadata": {
  "kernelspec": {
   "display_name": "Python 3",
   "language": "python",
   "name": "python3"
  },
  "language_info": {
   "codemirror_mode": {
    "name": "ipython",
    "version": 3
   },
   "file_extension": ".py",
   "mimetype": "text/x-python",
   "name": "python",
   "nbconvert_exporter": "python",
   "pygments_lexer": "ipython3",
   "version": "3.11.3"
  }
 },
 "nbformat": 4,
 "nbformat_minor": 2
}
