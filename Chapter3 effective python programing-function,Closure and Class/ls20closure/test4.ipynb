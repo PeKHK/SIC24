{
 "cells": [
  {
   "cell_type": "code",
   "execution_count": 1,
   "metadata": {},
   "outputs": [
    {
     "name": "stdout",
     "output_type": "stream",
     "text": [
      "2 4 6\n"
     ]
    }
   ],
   "source": [
    "#closure is close space of func\n",
    "def close_calc():\n",
    "    a=2\n",
    "    def mult(x):\n",
    "        return a*x\n",
    "    return mult\n",
    "c=close_calc()\n",
    "print(c(1),c(2),c(3))"
   ]
  },
  {
   "cell_type": "code",
   "execution_count": 2,
   "metadata": {},
   "outputs": [
    {
     "name": "stdout",
     "output_type": "stream",
     "text": [
      "c1 1\n",
      "c1 2\n",
      "c2 1\n"
     ]
    }
   ],
   "source": [
    "#use closure \n",
    "def makecounter():\n",
    "    count=0\n",
    "    def counter():\n",
    "        nonlocal count\n",
    "        count +=1\n",
    "        return count\n",
    "    return counter\n",
    "c1=makecounter()\n",
    "c2=makecounter()\n",
    "print('c1',c1())\n",
    "print('c1',c1())\n",
    "print('c2',c2())"
   ]
  },
  {
   "cell_type": "code",
   "execution_count": 3,
   "metadata": {},
   "outputs": [
    {
     "name": "stdout",
     "output_type": "stream",
     "text": [
      "8 11 17 20\n"
     ]
    }
   ],
   "source": [
    "#create closure\n",
    "def calc():\n",
    "    a=3\n",
    "    b=5\n",
    "    def mul_add(x):\n",
    "        return a*x+b\n",
    "    return mul_add\n",
    "c=calc()\n",
    "print(c(1),c(2),c(4),c(5))"
   ]
  },
  {
   "cell_type": "code",
   "execution_count": 6,
   "metadata": {},
   "outputs": [
    {
     "name": "stdout",
     "output_type": "stream",
     "text": [
      "5 7 9 11 13\n"
     ]
    }
   ],
   "source": [
    "#create closure by lambda\n",
    "def clouser_calc():\n",
    "    a=2\n",
    "    b=3\n",
    "    return lambda x:a*x+b\n",
    "c=clouser_calc()\n",
    "print(c(1),c(2),c(3),c(4),c(5))"
   ]
  },
  {
   "cell_type": "code",
   "execution_count": 8,
   "metadata": {},
   "outputs": [
    {
     "name": "stdout",
     "output_type": "stream",
     "text": [
      "5 12 21 32 45\n"
     ]
    }
   ],
   "source": [
    "#local variable of closure\n",
    "def calc1():\n",
    "    a=2\n",
    "    b=3\n",
    "    total=0\n",
    "    def mult_add(x):\n",
    "        nonlocal total\n",
    "        total =total + a*x+b\n",
    "        return total\n",
    "    return mult_add\n",
    "c=calc1()\n",
    "print(c(1),c(2),c(3),c(4),c(5))"
   ]
  }
 ],
 "metadata": {
  "kernelspec": {
   "display_name": "Python 3",
   "language": "python",
   "name": "python3"
  },
  "language_info": {
   "codemirror_mode": {
    "name": "ipython",
    "version": 3
   },
   "file_extension": ".py",
   "mimetype": "text/x-python",
   "name": "python",
   "nbconvert_exporter": "python",
   "pygments_lexer": "ipython3",
   "version": "3.11.3"
  }
 },
 "nbformat": 4,
 "nbformat_minor": 2
}
