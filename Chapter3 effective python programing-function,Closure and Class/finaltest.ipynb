{
 "cells": [
  {
   "cell_type": "code",
   "execution_count": 2,
   "metadata": {},
   "outputs": [
    {
     "name": "stdout",
     "output_type": "stream",
     "text": [
      "Twice the input value: [20, 40, 60]\n",
      "Three times the input value: [30, 60, 90]\n"
     ]
    }
   ],
   "source": [
    "#19-01\n",
    "n_list=[10,20,30]\n",
    "twice=list(map(lambda x:x*2,n_list))\n",
    "three_times=list(map(lambda x:x*3,n_list))\n",
    "print('Twice the input value:',twice)\n",
    "print('Three times the input value:',three_times)"
   ]
  },
  {
   "cell_type": "code",
   "execution_count": 3,
   "metadata": {},
   "outputs": [
    {
     "name": "stdout",
     "output_type": "stream",
     "text": [
      "1\n",
      "4\n",
      "27\n",
      "256\n",
      "3125\n"
     ]
    }
   ],
   "source": [
    "#20-01\n",
    "def calc_digit(n):\n",
    "    def final(digit):\n",
    "        return digit**n\n",
    "    return final\n",
    "num_list=[]\n",
    "for num in range(1,6):\n",
    "    num_list.append(calc_digit(num))\n",
    "    print(num_list[num-1](num))"
   ]
  },
  {
   "cell_type": "code",
   "execution_count": 5,
   "metadata": {},
   "outputs": [
    {
     "name": "stdout",
     "output_type": "stream",
     "text": [
      "v1 * v2 = (300,800)\n",
      "v1 / v2 = (3.0,2.0)\n"
     ]
    }
   ],
   "source": [
    "#21-01\n",
    "class Vector2D:\n",
    "    def __init__(self,x,y):\n",
    "        self.x=x\n",
    "        self.y=y\n",
    "    def __str__(self):\n",
    "        return \"({},{})\".format(self.x,self.y)\n",
    "    def __mul__(self,num):\n",
    "        return Vector2D(self.x*num.x,self.y*num.y)\n",
    "    def __truediv__(self,num):\n",
    "        return Vector2D(self.x/num.x,self.y/num.y)\n",
    "\n",
    "v1=Vector2D(30,40)\n",
    "v2=Vector2D(10,20)\n",
    "v3=v1*v2\n",
    "print('v1 * v2 =',v3)\n",
    "v4=v1/v2\n",
    "print('v1 / v2 =',v4)"
   ]
  }
 ],
 "metadata": {
  "kernelspec": {
   "display_name": "Python 3",
   "language": "python",
   "name": "python3"
  },
  "language_info": {
   "codemirror_mode": {
    "name": "ipython",
    "version": 3
   },
   "file_extension": ".py",
   "mimetype": "text/x-python",
   "name": "python",
   "nbconvert_exporter": "python",
   "pygments_lexer": "ipython3",
   "version": "3.11.3"
  }
 },
 "nbformat": 4,
 "nbformat_minor": 2
}
