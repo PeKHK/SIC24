{
 "cells": [
  {
   "cell_type": "code",
   "execution_count": 2,
   "metadata": {},
   "outputs": [
    {
     "name": "stdout",
     "output_type": "stream",
     "text": [
      "The greater of 100 or 200 is: 200\n",
      "The smaller of 100 or 200 is: 100\n"
     ]
    }
   ],
   "source": [
    "def max2(m,n):\n",
    "    return max(m,n)\n",
    "def min2(m,n):\n",
    "    return min(m,n)\n",
    "print('The greater of 100 or 200 is:',max2(100,200))\n",
    "print('The smaller of 100 or 200 is:',min2(100,200))"
   ]
  }
 ],
 "metadata": {
  "kernelspec": {
   "display_name": "Python 3",
   "language": "python",
   "name": "python3"
  },
  "language_info": {
   "codemirror_mode": {
    "name": "ipython",
    "version": 3
   },
   "file_extension": ".py",
   "mimetype": "text/x-python",
   "name": "python",
   "nbconvert_exporter": "python",
   "pygments_lexer": "ipython3",
   "version": "3.11.3"
  }
 },
 "nbformat": 4,
 "nbformat_minor": 2
}
