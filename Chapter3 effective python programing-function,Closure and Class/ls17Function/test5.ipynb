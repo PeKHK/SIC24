{
 "cells": [
  {
   "cell_type": "code",
   "execution_count": 2,
   "metadata": {},
   "outputs": [
    {
     "name": "stdout",
     "output_type": "stream",
     "text": [
      "254.34\n",
      "56.52\n"
     ]
    }
   ],
   "source": [
    "#multiple return statement\n",
    "#calculate circle\n",
    "def circle_area_circum(radius):\n",
    "    area=3.14 * radius **2\n",
    "    circum = 2*3.14*radius\n",
    "    return area,circum\n",
    "area,circum=circle_area_circum(9)\n",
    "print(area)\n",
    "print(circum)"
   ]
  },
  {
   "cell_type": "code",
   "execution_count": 5,
   "metadata": {},
   "outputs": [
    {
     "name": "stdout",
     "output_type": "stream",
     "text": [
      "Sum of 10 and 20 = 30\n"
     ]
    }
   ],
   "source": [
    "#global variable\n",
    "a=10\n",
    "b=20\n",
    "def print_sum():\n",
    "    result=a+b\n",
    "    print(f'Sum of {a} and {b} =',result)\n",
    "print_sum()"
   ]
  },
  {
   "cell_type": "code",
   "execution_count": 6,
   "metadata": {},
   "outputs": [
    {
     "name": "stdout",
     "output_type": "stream",
     "text": [
      "Sum of 100 and 200 = 300\n"
     ]
    }
   ],
   "source": [
    "def print_sum():\n",
    "    a=100\n",
    "    b=200\n",
    "    result=a+b\n",
    "    print(f'Sum of {a} and {b} =',result)\n",
    "a=10#this value is not use\n",
    "b=20\n",
    "print_sum()"
   ]
  },
  {
   "cell_type": "code",
   "execution_count": 7,
   "metadata": {},
   "outputs": [
    {
     "name": "stdout",
     "output_type": "stream",
     "text": [
      "Sum of 100 and 200 inside = 300\n",
      "Sum of 100 and 200 outside = 300\n"
     ]
    }
   ],
   "source": [
    "#global keyword\n",
    "def print_sum():\n",
    "    global a,b#a=10 b=20\n",
    "    a=100\n",
    "    b=200\n",
    "    result=a+b\n",
    "    print(f'Sum of {a} and {b} inside =',result)\n",
    "a=10\n",
    "b=20\n",
    "print_sum()\n",
    "result=a+b\n",
    "print(f'Sum of {a} and {b} outside =',result)"
   ]
  },
  {
   "cell_type": "code",
   "execution_count": 8,
   "metadata": {},
   "outputs": [
    {
     "data": {
      "text/plain": [
       "'hello world'"
      ]
     },
     "execution_count": 8,
     "metadata": {},
     "output_type": "execute_result"
    }
   ],
   "source": [
    "#format method\n",
    "greet='hello'\n",
    "'{} world'.format(greet)"
   ]
  },
  {
   "cell_type": "code",
   "execution_count": 1,
   "metadata": {},
   "outputs": [
    {
     "name": "stdout",
     "output_type": "stream",
     "text": [
      "{((3, 1), 3), ((3, 3), 1), ((3, 1), 1), ((1, 3), 3), ((1, 1), 1), ((3, 3), 3), ((1, 1), 3), ((1, 3), 1)}\n"
     ]
    }
   ],
   "source": [
    "#multiply set\n",
    "def product_set(set1,set2):\n",
    "    res=set()\n",
    "    for i in set1:\n",
    "        for j in set2:\n",
    "            res = res | {(i,j)} #product set using double for loop\n",
    "    return res\n",
    "def exp(input_set,exponet):#a funcction that performs powers on input_set\n",
    "    res= input_set#res initialization\n",
    "    for _ in range(exponet-1):#repeated for (exponent-1) to become a power\n",
    "        res = product_set(res,input_set)\n",
    "    return res\n",
    "A={1,3}\n",
    "A3=exp(A,3)#perform 3 powers on set A\n",
    "print(A3)"
   ]
  },
  {
   "cell_type": "code",
   "execution_count": 2,
   "metadata": {},
   "outputs": [
    {
     "name": "stdout",
     "output_type": "stream",
     "text": [
      "{(3, 4), (4, 3), (3, 1), (5, 4), (4, 6), (5, 1), (2, 2), (1, 6), (2, 5), (1, 3), (6, 2), (6, 5), (4, 2), (4, 5), (3, 3), (5, 6), (3, 6), (5, 3), (2, 4), (1, 2), (2, 1), (1, 5), (6, 1), (6, 4), (3, 2), (4, 1), (3, 5), (5, 2), (4, 4), (5, 5), (1, 1), (1, 4), (2, 3), (2, 6), (6, 6), (6, 3)}\n"
     ]
    }
   ],
   "source": [
    "#number can be in multiply set\n",
    "def product_set(set1,set2):\n",
    "    res=set()\n",
    "    for i in set1:\n",
    "        for j in set2:\n",
    "            res = res | {(i,j)} #product set using double for loop\n",
    "    return res\n",
    "cases={1,2,3,4,5,6}\n",
    "cases_2times=product_set(cases,cases)\n",
    "print(cases_2times)"
   ]
  }
 ],
 "metadata": {
  "kernelspec": {
   "display_name": "Python 3",
   "language": "python",
   "name": "python3"
  },
  "language_info": {
   "codemirror_mode": {
    "name": "ipython",
    "version": 3
   },
   "file_extension": ".py",
   "mimetype": "text/x-python",
   "name": "python",
   "nbconvert_exporter": "python",
   "pygments_lexer": "ipython3",
   "version": "3.11.3"
  }
 },
 "nbformat": 4,
 "nbformat_minor": 2
}
