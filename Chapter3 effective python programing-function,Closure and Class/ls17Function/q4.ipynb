{
 "cells": [
  {
   "cell_type": "code",
   "execution_count": 10,
   "metadata": {},
   "outputs": [
    {
     "name": "stdout",
     "output_type": "stream",
     "text": [
      "10 degree Celsius = 50.0 degrees fahrenheit\n",
      "20 degree Celsius = 68.0 degrees fahrenheit\n",
      "30 degree Celsius = 86.0 degrees fahrenheit\n",
      "40 degree Celsius = 104.0 degrees fahrenheit\n",
      "50 degree Celsius = 122.0 degrees fahrenheit\n"
     ]
    }
   ],
   "source": [
    "#change celsius to fahremheit\n",
    "def cel2fah(*cel):\n",
    "    for i in cel:\n",
    "        fah=((i*9/5)+32)\n",
    "        print(f'{i} degree Celsius = {fah:.1f} degrees fahrenheit')\n",
    "cel2fah(10,20,30,40,50)"
   ]
  }
 ],
 "metadata": {
  "kernelspec": {
   "display_name": "Python 3",
   "language": "python",
   "name": "python3"
  },
  "language_info": {
   "codemirror_mode": {
    "name": "ipython",
    "version": 3
   },
   "file_extension": ".py",
   "mimetype": "text/x-python",
   "name": "python",
   "nbconvert_exporter": "python",
   "pygments_lexer": "ipython3",
   "version": "3.11.3"
  }
 },
 "nbformat": 4,
 "nbformat_minor": 2
}
