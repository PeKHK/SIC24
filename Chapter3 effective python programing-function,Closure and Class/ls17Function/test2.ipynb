{
 "cells": [
  {
   "cell_type": "code",
   "execution_count": 1,
   "metadata": {},
   "outputs": [
    {
     "name": "stdout",
     "output_type": "stream",
     "text": [
      "The result value is 2.0 or -4.0\n"
     ]
    }
   ],
   "source": [
    "#keyword parameter\n",
    "def get_root(a,b,c):\n",
    "    r1=(-b+(b**2-4*a*c)**0.5)/(2*a)\n",
    "    r2=(-b-(b**2-4*a*c)**0.5)/(2*a)\n",
    "    return r1,r2\n",
    "result1,result2=get_root(1,2,-8)\n",
    "print('The result value is', result1, 'or', result2)"
   ]
  },
  {
   "cell_type": "code",
   "execution_count": 3,
   "metadata": {},
   "outputs": [
    {
     "name": "stdout",
     "output_type": "stream",
     "text": [
      "The result value is 2.0 or -4.0\n"
     ]
    }
   ],
   "source": [
    "#keyword parameter can be evey where\n",
    "result1,result2=get_root(a=1,b=2,c=-8)\n",
    "print('The result value is', result1, 'or', result2)"
   ]
  },
  {
   "cell_type": "code",
   "execution_count": 4,
   "metadata": {},
   "outputs": [
    {
     "name": "stdout",
     "output_type": "stream",
     "text": [
      "The result value is 2.0 or -4.0\n"
     ]
    }
   ],
   "source": [
    "result1,result2=get_root(a=1,c=-8,b=2,)\n",
    "print('The result value is', result1, 'or', result2)"
   ]
  },
  {
   "cell_type": "code",
   "execution_count": 5,
   "metadata": {},
   "outputs": [
    {
     "name": "stdout",
     "output_type": "stream",
     "text": [
      "The result value is 2.0 or -4.0\n"
     ]
    }
   ],
   "source": [
    "result1,result2=get_root(1,2,c=-8)\n",
    "print('The result value is', result1, 'or', result2)"
   ]
  }
 ],
 "metadata": {
  "kernelspec": {
   "display_name": "Python 3",
   "language": "python",
   "name": "python3"
  },
  "language_info": {
   "codemirror_mode": {
    "name": "ipython",
    "version": 3
   },
   "file_extension": ".py",
   "mimetype": "text/x-python",
   "name": "python",
   "nbconvert_exporter": "python",
   "pygments_lexer": "ipython3",
   "version": "3.11.3"
  }
 },
 "nbformat": 4,
 "nbformat_minor": 2
}
