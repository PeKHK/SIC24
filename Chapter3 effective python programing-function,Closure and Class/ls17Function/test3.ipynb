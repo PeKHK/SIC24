{
 "cells": [
  {
   "cell_type": "code",
   "execution_count": 1,
   "metadata": {},
   "outputs": [
    {
     "name": "stdout",
     "output_type": "stream",
     "text": [
      "The sum of 10 and 20 = 30\n"
     ]
    }
   ],
   "source": [
    "#return\n",
    "def get_sum(a,b):\n",
    "    result = a+b\n",
    "    return result \n",
    "n1=get_sum(10,20)\n",
    "print('The sum of 10 and 20 =',n1)"
   ]
  },
  {
   "cell_type": "code",
   "execution_count": 2,
   "metadata": {},
   "outputs": [
    {
     "name": "stdout",
     "output_type": "stream",
     "text": [
      "The sum of two number 300\n"
     ]
    }
   ],
   "source": [
    "def get_sum(a,b):\n",
    "    return a+b\n",
    "result =get_sum(100,200)\n",
    "print('The sum of two number',result)"
   ]
  }
 ],
 "metadata": {
  "kernelspec": {
   "display_name": "Python 3",
   "language": "python",
   "name": "python3"
  },
  "language_info": {
   "codemirror_mode": {
    "name": "ipython",
    "version": 3
   },
   "file_extension": ".py",
   "mimetype": "text/x-python",
   "name": "python",
   "nbconvert_exporter": "python",
   "pygments_lexer": "ipython3",
   "version": "3.11.3"
  }
 },
 "nbformat": 4,
 "nbformat_minor": 2
}
