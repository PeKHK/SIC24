{
 "cells": [
  {
   "cell_type": "code",
   "execution_count": 2,
   "metadata": {},
   "outputs": [
    {
     "name": "stdout",
     "output_type": "stream",
     "text": [
      "ABCDEFGHIJKLMNOPQRSTUVWXYZ\n",
      "DEFGHIJKLMNOPQRSTUVWXYZABC\n"
     ]
    }
   ],
   "source": [
    "#create Caesar Cipher program\n",
    "import string\n",
    "src_str=string.ascii_uppercase\n",
    "dst_str=src_str[3:]+src_str[:3]\n",
    "print(src_str)\n",
    "print(dst_str)"
   ]
  },
  {
   "cell_type": "code",
   "execution_count": 3,
   "metadata": {},
   "outputs": [
    {
     "name": "stdout",
     "output_type": "stream",
     "text": [
      "****************\n"
     ]
    }
   ],
   "source": [
    "#create function\n",
    "def print_star():\n",
    "    print('****************')\n",
    "print_star()"
   ]
  },
  {
   "cell_type": "code",
   "execution_count": 5,
   "metadata": {},
   "outputs": [
    {
     "name": "stdout",
     "output_type": "stream",
     "text": [
      "print hello twice\n",
      "HelloHello\n",
      "print hello 3 times\n",
      "HelloHelloHello\n"
     ]
    }
   ],
   "source": [
    "#use parameter\n",
    "def print_hello(n):\n",
    "    print('Hello' * n)\n",
    "print('print hello twice')\n",
    "print_hello(2)\n",
    "print('print hello 3 times')\n",
    "print_hello(3)"
   ]
  },
  {
   "cell_type": "code",
   "execution_count": 7,
   "metadata": {},
   "outputs": [
    {
     "name": "stdout",
     "output_type": "stream",
     "text": [
      "The sum of 10 and 20 is 30\n",
      "The sum of 100 and 200 is 300\n"
     ]
    }
   ],
   "source": [
    "def print_sum(a,b):\n",
    "    result=a+b\n",
    "    print('The sum of', a, 'and', b, 'is', result)\n",
    "\n",
    "print_sum(10,20)\n",
    "print_sum(100,200)"
   ]
  },
  {
   "cell_type": "code",
   "execution_count": 8,
   "metadata": {},
   "outputs": [
    {
     "name": "stdout",
     "output_type": "stream",
     "text": [
      "Hello A !\n",
      "Hello B !\n",
      "Hello C !\n",
      "Hello James !\n",
      "Hello Thomas !\n"
     ]
    }
   ],
   "source": [
    "#arbitrary argument\n",
    "def greet(*names):\n",
    "    for name in names:\n",
    "        print('Hello',name,'!')\n",
    "\n",
    "greet('A','B','C')#3 argument\n",
    "greet('James','Thomas')#2 argument"
   ]
  },
  {
   "cell_type": "code",
   "execution_count": 9,
   "metadata": {},
   "outputs": [
    {
     "name": "stdout",
     "output_type": "stream",
     "text": [
      "The number of argument is:  3\n",
      "Argument:  (10, 20, 30)\n"
     ]
    }
   ],
   "source": [
    "def foo(*args):\n",
    "    print('The number of argument is: ',len(args))\n",
    "    print('Argument: ',args)\n",
    "foo(10,20,30)"
   ]
  },
  {
   "cell_type": "code",
   "execution_count": 14,
   "metadata": {},
   "outputs": [
    {
     "name": "stdout",
     "output_type": "stream",
     "text": [
      "The number of argument is:  3\n",
      "Argument:  (10, 20, 30)\n",
      "Sum of argument is: 60\n",
      "The number of argument is:  6\n",
      "Argument:  (10, 20, 30, 40, 50, 60)\n",
      "Sum of argument is: 210\n"
     ]
    }
   ],
   "source": [
    "#calculate sum of number\n",
    "def sum_num(*numbers):\n",
    "    result=0\n",
    "    print('The number of argument is: ',len(numbers))\n",
    "    print('Argument: ',numbers)\n",
    "    for n in numbers:\n",
    "        result+=n\n",
    "    return result\n",
    "print('Sum of argument is:',sum_num(10,20,30))\n",
    "print('Sum of argument is:',sum_num(10,20,30,40,50,60))"
   ]
  },
  {
   "cell_type": "code",
   "execution_count": 15,
   "metadata": {},
   "outputs": [
    {
     "name": "stdout",
     "output_type": "stream",
     "text": [
      "//////////\n"
     ]
    }
   ],
   "source": [
    "#use function no argument\n",
    "def print_star(n=1):\n",
    "    for _ in range(n):\n",
    "        print('//////////')\n",
    "print_star()"
   ]
  },
  {
   "cell_type": "code",
   "execution_count": 16,
   "metadata": {},
   "outputs": [
    {
     "name": "stdout",
     "output_type": "stream",
     "text": [
      "//////////\n",
      "//////////\n"
     ]
    }
   ],
   "source": [
    "print_star(2)"
   ]
  },
  {
   "cell_type": "code",
   "execution_count": 17,
   "metadata": {},
   "outputs": [
    {
     "name": "stdout",
     "output_type": "stream",
     "text": [
      "div(4)= 2.0\n",
      "div(6,3)= 2.0\n"
     ]
    }
   ],
   "source": [
    "#use defualt of parameter\n",
    "def div(a,b=2):\n",
    "    return a/b\n",
    "print('div(4)=',div(4))\n",
    "print('div(6,3)=',div(6,3))#now b is not 2\n",
    "#but we can use defualt parameter at the first like (a=2/b) is error"
   ]
  },
  {
   "cell_type": "code",
   "execution_count": 18,
   "metadata": {},
   "outputs": [
    {
     "name": "stdout",
     "output_type": "stream",
     "text": [
      "div()= 0.5\n",
      "div(4)= 2.0\n",
      "div(6,3)= 2.0\n"
     ]
    }
   ],
   "source": [
    "def div(a=1,b=2):\n",
    "    return a/b\n",
    "print('div()=',div())#a and b has defualt value so this can calculate\n",
    "print('div(4)=',div(4))\n",
    "print('div(6,3)=',div(6,3))"
   ]
  }
 ],
 "metadata": {
  "kernelspec": {
   "display_name": "Python 3",
   "language": "python",
   "name": "python3"
  },
  "language_info": {
   "codemirror_mode": {
    "name": "ipython",
    "version": 3
   },
   "file_extension": ".py",
   "mimetype": "text/x-python",
   "name": "python",
   "nbconvert_exporter": "python",
   "pygments_lexer": "ipython3",
   "version": "3.11.3"
  }
 },
 "nbformat": 4,
 "nbformat_minor": 2
}
