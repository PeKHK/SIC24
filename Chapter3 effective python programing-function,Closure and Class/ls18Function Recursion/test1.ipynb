{
 "cells": [
  {
   "cell_type": "code",
   "execution_count": 1,
   "metadata": {},
   "outputs": [
    {
     "name": "stdout",
     "output_type": "stream",
     "text": [
      "Number 1, A -> B\n",
      "Number 2, A -> C\n",
      "Number 1, B -> C\n",
      "Number 3, A -> B\n",
      "Number 1, C -> A\n",
      "Number 2, C -> B\n",
      "Number 1, A -> B\n"
     ]
    }
   ],
   "source": [
    "#function hanoi tower\n",
    "def hanoi(n,from_,to_,via_):\n",
    "    if n==1:\n",
    "        print('Number {}, {} -> {}'.format(n,from_,to_))\n",
    "    else: \n",
    "        hanoi(n-1,from_,via_,to_)\n",
    "        print('Number {}, {} -> {}'.format(n,from_,to_))\n",
    "        hanoi(n-1,via_,to_,from_)\n",
    "hanoi(3,'A','B','C')"
   ]
  },
  {
   "cell_type": "code",
   "execution_count": 2,
   "metadata": {},
   "outputs": [
    {
     "name": "stdout",
     "output_type": "stream",
     "text": [
      "5!=120\n"
     ]
    }
   ],
   "source": [
    "#factorial and for loop function\n",
    "def factorial(n):#implement recurive function of n\n",
    "    if n<=1:#termination condition is required\n",
    "        return 1\n",
    "    else:\n",
    "        return n*factorial(n-1)\n",
    "n=5\n",
    "print(f'{n}!={factorial(n)}')"
   ]
  },
  {
   "cell_type": "code",
   "execution_count": 3,
   "metadata": {},
   "outputs": [
    {
     "name": "stdout",
     "output_type": "stream",
     "text": [
      "Fibonacci:  55\n"
     ]
    }
   ],
   "source": [
    "#function fibonacci\n",
    "def fibonacci(n):\n",
    "    if n==0:\n",
    "        return 0\n",
    "    elif n==1:\n",
    "        return 1\n",
    "    else:\n",
    "        return fibonacci(n-1)+fibonacci(n-2)\n",
    "print('Fibonacci: ',fibonacci(10))"
   ]
  },
  {
   "cell_type": "code",
   "execution_count": 5,
   "metadata": {},
   "outputs": [
    {
     "name": "stdout",
     "output_type": "stream",
     "text": [
      "Fibonacci:_1(30)*20 times : 4.586929300101474 second\n"
     ]
    }
   ],
   "source": [
    "#fibonacci measure\n",
    "from timeit import *\n",
    "def fibonacci_1(n):\n",
    "    if n==0:\n",
    "        return 0\n",
    "    elif n==1:\n",
    "        return 1\n",
    "    else:\n",
    "        return fibonacci_1(n-1)+fibonacci_1(n-2)\n",
    "t3=Timer('fibonacci_1(30)','from __main__ import fibonacci_1')\n",
    "print('Fibonacci:_1(30)*20 times :',t3.timeit(number=20),'second')"
   ]
  }
 ],
 "metadata": {
  "kernelspec": {
   "display_name": "Python 3",
   "language": "python",
   "name": "python3"
  },
  "language_info": {
   "codemirror_mode": {
    "name": "ipython",
    "version": 3
   },
   "file_extension": ".py",
   "mimetype": "text/x-python",
   "name": "python",
   "nbconvert_exporter": "python",
   "pygments_lexer": "ipython3",
   "version": "3.11.3"
  }
 },
 "nbformat": 4,
 "nbformat_minor": 2
}
