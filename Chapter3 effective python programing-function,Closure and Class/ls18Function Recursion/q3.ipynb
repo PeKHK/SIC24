{
 "cells": [
  {
   "cell_type": "code",
   "execution_count": 28,
   "metadata": {},
   "outputs": [
    {
     "name": "stdout",
     "output_type": "stream",
     "text": [
      "euler(20)=2.71828\n"
     ]
    }
   ],
   "source": [
    "#find e of log\n",
    "def factorial(k):\n",
    "    if k == 0:\n",
    "        return 1\n",
    "    elif k==1:\n",
    "        return 1\n",
    "    else:\n",
    "        return k*factorial(k-1)\n",
    "def euler(n):\n",
    "    if n==0:\n",
    "        return 1\n",
    "    else:\n",
    "        return 1/factorial(n) + euler(n-1)\n",
    "\n",
    "print(f'euler(20)={euler(20):.5f}')"
   ]
  }
 ],
 "metadata": {
  "kernelspec": {
   "display_name": "Python 3",
   "language": "python",
   "name": "python3"
  },
  "language_info": {
   "codemirror_mode": {
    "name": "ipython",
    "version": 3
   },
   "file_extension": ".py",
   "mimetype": "text/x-python",
   "name": "python",
   "nbconvert_exporter": "python",
   "pygments_lexer": "ipython3",
   "version": "3.11.3"
  }
 },
 "nbformat": 4,
 "nbformat_minor": 2
}
